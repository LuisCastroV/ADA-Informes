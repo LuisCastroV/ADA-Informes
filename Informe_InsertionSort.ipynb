{
  "nbformat": 4,
  "nbformat_minor": 0,
  "metadata": {
    "colab": {
      "name": "Informe InsertionSort.ipynb",
      "provenance": [],
      "collapsed_sections": [],
      "authorship_tag": "ABX9TyMwl4mrr8d716XT3v1s+VLZ",
      "include_colab_link": true
    },
    "kernelspec": {
      "name": "python3",
      "display_name": "Python 3"
    },
    "language_info": {
      "name": "python"
    }
  },
  "cells": [
    {
      "cell_type": "markdown",
      "metadata": {
        "id": "view-in-github",
        "colab_type": "text"
      },
      "source": [
        "<a href=\"https://colab.research.google.com/github/LuisCastroV/ADA-Informes/blob/main/Informe_InsertionSort.ipynb\" target=\"_parent\"><img src=\"https://colab.research.google.com/assets/colab-badge.svg\" alt=\"Open In Colab\"/></a>"
      ]
    },
    {
      "cell_type": "markdown",
      "source": [
        "# 1. Problema de Ordenamiento por Inserción *(InsertionSort)*\n",
        "---\n",
        "**Entrada:**  Lista de n números $[a_1,a_2,...,a_n]$.\n",
        "\n",
        "**Entrada para el informe:**  Lista de 5 números $[9,5,1,4,3]$.\n",
        "\n",
        "**Salida**: Cambio ordenado de la lista de entrada: $[a_1',a_2',...,a_n']$, quedando $a_1'\\leq a_2' \\leq... \\leq a_n'$.\n",
        "\n",
        "**Salida para el informe:**  Cambio ordenado de la lista de entrada: $[1,3,4,5,9]$, quedando $1\\leq3\\leq4\\leq5\\leq9$.\n",
        "\n",
        "![image](https://cdn.programiz.com/cdn/farfuture/l-X2VCkF2rp4i0X8mZX6BGJL_FQW9EL8PkKhBswQfpc/mtime:1582112622/sites/tutorial2program/files/Insertion-sort-0_1.png)\n",
        "\n",
        "**Breve información:** El algoritmo de inserción fue nombrado así por John W. Mauchly en 1946, es el mejor entre los algoritmos de ordenación simple ya que realiza un menor número de comparaciones respecto del \"BubbleSort\" y \"SelectionSort\", es muy eficaz para conjuntos de pequeños de datos."
      ],
      "metadata": {
        "id": "nnR3fDBX4Eeg"
      }
    },
    {
      "cell_type": "markdown",
      "source": [
        "# 2. InsertionSort\n",
        "\n",
        "El siguiente código muestra una implementación del algoritmo InsertionSort."
      ],
      "metadata": {
        "id": "IOpLaLrmELAE"
      }
    },
    {
      "cell_type": "markdown",
      "source": [
        "## 2.1. Código"
      ],
      "metadata": {
        "id": "NtTgA0k0GrON"
      }
    },
    {
      "cell_type": "code",
      "source": [
        "import random\n",
        "from termcolor import colored\n",
        "import copy\n",
        "\n",
        "def InsertionSort(lista,verbose=False):\n",
        "    movi=0\n",
        "    promedioretro=0\n",
        "    largo=len(lista)\n",
        "\n",
        "    if verbose == True: \n",
        "      print(\"Lista inicial:\",lista)\n",
        "      \n",
        "    for i in range(1,largo):\n",
        "      key = lista[i]\n",
        "      j = i -1\n",
        "      flag=i+1\n",
        "\n",
        "      # if verbose == True: print(\"\\nPasada\",i)\n",
        "      # already_sorted = True\n",
        "\n",
        "      while j >= 0 and lista[j] > key:\n",
        "          #Se analizan los números del arreglo para realizar el cambio correcto.\n",
        "          movi+=1\n",
        "          lista[j+ 1]=lista[j]\n",
        "          j -= 1\n",
        "\n",
        "      #Se realiza el cambio de los numeros mal posicionado en forma ascendente.\n",
        "      lista[j+1] = key\n",
        "      already_sorted = False\n",
        "     \n",
        "      # if verbose == True: \n",
        "      #   print(str(lista[:i])[1:-1],\",\",colored(f\"{str(lista[i:i+2])[1:-1]}\",\"red\"),\",\",str(lista[i+2:])[1:-1])\n",
        "      #   #print(str(lista[:j])[1:-1],\",\",colored(f\"{str(lista[j:j+2])[1:-1]}\",\"red\"),\",\",str(lista[j+2:])[1:-1])\n",
        "      # already_sorted = False\n",
        "\n",
        "      if already_sorted == False and verbose == True: \n",
        "          print(\"\\nLista ordenada desde las casillas:\",i,\"hacia atrás\")\n",
        "          print(str(lista[:len(lista)-i])[1:-1],\",\",str(lista[len(lista)-i:])[1:-1])\n",
        "          # print(str(lista[:len(lista)-i])[1:-1],\",\",str(lista[len(lista)-i:])[1:-1],\",\",colored(f\"{str(lista[j:j+2])[1:-1]}\",\"blue\"))\n",
        "\n",
        "\n",
        "      # if already_sorted and flag==largo:\n",
        "      #     if verbose == True: print(\"is sorted!\")\n",
        "      #     break\n",
        "\n",
        "      if flag==largo:\n",
        "        if verbose == True: print(\"\\nOrdenamiento Listo!\")\n",
        "\n",
        "    if verbose == True: \n",
        "      print(\"\\nLista Final:\",lista)\n",
        "      \n",
        "    return lista,movi\n",
        "\n",
        "lista=[4,2,1,7,3]\n",
        "print(\"Entrada: \",lista)\n",
        "lista, movi = InsertionSort(lista)\n",
        "print(\"Salida: \",lista)\n",
        "promedio=movi/(len(lista))\n",
        "print(\"Promedio: \", promedio)\n"
      ],
      "metadata": {
        "colab": {
          "base_uri": "https://localhost:8080/"
        },
        "id": "_ah-p0e5HCCk",
        "outputId": "e376a986-3712-4741-94cd-90b46e1687a8"
      },
      "execution_count": 181,
      "outputs": [
        {
          "output_type": "stream",
          "name": "stdout",
          "text": [
            "Entrada:  [4, 2, 1, 7, 3]\n",
            "Salida:  [1, 2, 3, 4, 7]\n",
            "Promedio:  1.0\n"
          ]
        }
      ]
    },
    {
      "cell_type": "markdown",
      "source": [
        "\n",
        "## 2.2. Descripción del algoritmo\n",
        "\n",
        "El algoritmo recibe una entrada de una lista (o arreglo) llamada \"lista\" en la parte 2.1. con una secuencia de \"n\"  elementos, donde se utilizó un tamaño 5, que deseamos ordenar de menor a mayor. Luego, los números se ordenan dentro de la misma lista.\n",
        "\n",
        "1. Se considera que sólo el primer elemento se encuentra ordenado, es decir, $a[0]$.\n",
        "2. Luego, para cada elemento $a[i]$, recorremos el arreglo de la posición $0$ a la $i-1$ para encontrar la posición correcta. Luego, colocamos el elemento correspondiente en esa posición.\n",
        "3. Repetimos el procedimiento para cada una de las posiciones del arreglo hasta llegar a la última $(n-1)$.\n",
        "4. Al final, se retorna el arreglo ordenado y el promedio entre movimientos realizados (retroceso) y el largo de la lista.\n",
        "\n",
        "\n",
        "\n"
      ],
      "metadata": {
        "id": "VMKGwPxWa1Gt"
      }
    },
    {
      "cell_type": "markdown",
      "source": [
        "## 2.3. Ejemplo\n",
        "\n",
        "Consideremos, por ejemplo, el arreglo:\n",
        "\n",
        "$a=[1,5,9,4]$\n",
        "\n",
        "Se almacena el valor 4 en una key para llevarlo a la posición que le corresponde en la lista que seria la posicion $lista[1]$. *(Cumpliendo condición del while \"9>4\")*\n",
        "\n",
        "$a=[1,5,9,9]$\n",
        "\n",
        "Se vuelve a revisar la condicional en el while avanzado hacia la izquierda en $lista[j]$. *(Cumpliendo condición del while \"5>4\")*\n",
        "\n",
        "$a=[1,5,5,9]$\n",
        "\n",
        "Hasta cuando se llega a un no cumplimiento de la condicional del while y se vuelve a colocar el valor de la key en el arreglo en la posicion que no se cumplio.\n",
        "\n",
        "$a=[1,4,5,9]$\n",
        "\n",
        "\n",
        "Y ya tenemos el arreglo ordenado."
      ],
      "metadata": {
        "id": "LtPeWj4fptzF"
      }
    },
    {
      "cell_type": "markdown",
      "source": [
        "## 2.4. Ejecución del algoritmo paso a paso (`verbose=True`)\n",
        "\n",
        "Usando la opción `verbose=True`, podemos ver lo que ocurre en el algoritmo."
      ],
      "metadata": {
        "id": "Se4zBRQg0ltO"
      }
    },
    {
      "cell_type": "code",
      "source": [
        "import random\n",
        "a = random.sample(range(1, 100), 5)\n",
        "a,c= InsertionSort(a,verbose=True)\n",
        "\n",
        "#No pude aplicar el verbose de forma correcta."
      ],
      "metadata": {
        "colab": {
          "base_uri": "https://localhost:8080/"
        },
        "id": "khtAPsp602am",
        "outputId": "8ff393f5-001c-4ab6-c393-bd8d9a8096b0"
      },
      "execution_count": 177,
      "outputs": [
        {
          "output_type": "stream",
          "name": "stdout",
          "text": [
            "Lista inicial: [67, 91, 48, 17, 32]\n",
            "\n",
            "Lista ordenada desde las casillas: 1 hacia atrás\n",
            "67, 91, 48, 17 , 32\n",
            "\n",
            "Lista ordenada desde las casillas: 2 hacia atrás\n",
            "48, 67, 91 , 17, 32\n",
            "\n",
            "Lista ordenada desde las casillas: 3 hacia atrás\n",
            "17, 48 , 67, 91, 32\n",
            "\n",
            "Lista ordenada desde las casillas: 4 hacia atrás\n",
            "17 , 32, 48, 67, 91\n",
            "\n",
            "Ordenamiento Listo!\n",
            "\n",
            "Lista Final: [17, 32, 48, 67, 91]\n"
          ]
        }
      ]
    },
    {
      "cell_type": "markdown",
      "source": [
        "## 3. Tiempo de ejecución\n",
        "\n",
        "### **Teorema (Tiempo de ejecución).**\n",
        "\n",
        "El algoritmo **InsertionSort** tiene un **tiempo de ejecución de** $O(n^2)$ en el peor caso.\n",
        "\n",
        "## Prueba del teorema\n",
        "\n",
        "Observando el código, podemos apreciar que el **peor caso** ocurre cuando el **arreglo esta ordenado en orden inverso**. En este caso, en cada pasada el elemento se movería una casilla a la izquierda, por lo que se necesitaría realizar $n-1$ pasadas para que los elementos quedaran ordenados."
      ],
      "metadata": {
        "id": "btpPtc7r7Wj7"
      }
    },
    {
      "cell_type": "code",
      "source": [
        "a =[4,3,2,1];\n",
        "print(\"Entrada no ordenada:\",a)\n",
        "a,counter=InsertionSort(a,True)\n",
        "print(\"Salida ordenada:\",a)\n",
        "print(\"Total de comparaciones realizadas:\",counter)\n",
        "\n",
        "# a =[2,3,4,1];\n",
        "# print(\"Entrada no ordenada:\",a)\n",
        "# a,counter=InsertionSort(a,True)\n",
        "# print(\"Salida ordenada:\",a)\n",
        "# print(\"Total de comparaciones realizadas:\",counter)"
      ],
      "metadata": {
        "colab": {
          "base_uri": "https://localhost:8080/"
        },
        "id": "ToC0kc7k84Eb",
        "outputId": "b742650b-fd77-4d3a-a325-1f42819d77b2"
      },
      "execution_count": 180,
      "outputs": [
        {
          "output_type": "stream",
          "name": "stdout",
          "text": [
            "Entrada no ordenada: [4, 3, 2, 1]\n",
            "Lista inicial: [4, 3, 2, 1]\n",
            "\n",
            "Lista ordenada desde las casillas: 1 hacia atrás\n",
            "3, 4, 2 , 1\n",
            "\n",
            "Lista ordenada desde las casillas: 2 hacia atrás\n",
            "2, 3 , 4, 1\n",
            "\n",
            "Lista ordenada desde las casillas: 3 hacia atrás\n",
            "1 , 2, 3, 4\n",
            "\n",
            "Ordenamiento Listo!\n",
            "\n",
            "Lista Final: [1, 2, 3, 4]\n",
            "Salida ordenada: [1, 2, 3, 4]\n",
            "Total de comparaciones realizadas: 6\n"
          ]
        }
      ]
    },
    {
      "cell_type": "markdown",
      "source": [
        "En este caso, la primera revisión hizo 1 comparaciones, la segunda 2 y la tercera 3. Total: 6.\n",
        "\n",
        "En el caso general, se deberían realizar $\\sum\\limits_{i=0}^{n-1} i=\\frac{n(n-1)}{2}$ comparaciones. Por lo que el **tiempo de ejecución del algoritmo en el peor caso** es $O(n^2)$."
      ],
      "metadata": {
        "id": "an70gGrW_ONI"
      }
    },
    {
      "cell_type": "markdown",
      "source": [
        "# 4. Correctitud\n",
        "\n",
        "### **Teorema (Correctitud).**\n",
        "\n",
        "*El algoritmo **InsertionSort** genera un arreglo: $[a_1',a_2',...,a_n']$, con los mismos elementos del arreglo de entrada ordenados de menor a mayor, es decir,* $a_1'\\leq a_2' \\leq... \\leq a_n'$.\n",
        "\n",
        "## Prueba del Teorema\n",
        "\n",
        "**Inicialización**\n",
        "\n",
        "Para probar la primera afirmación, notamos que i comienza con el valor 1, por lo tanto, a[0..i-1] corresponde al primer elemento del arreglo original: a[0], y que se encuentra trivialmente ordenado.\n",
        "\n",
        "**Mantención**\n",
        "\n",
        "Para probar la mantención, debemos observar lo que ocurre durante la i-ésima iteración. Asumimos que **antes de comenzar la iteración**, el arreglo **a[0..i-1]** se encuentra ordenado y **contiene los elementos del arreglo original**.\n",
        "\n",
        "Durante la iteración, “movemos” el nuevo elemento desde la **posición i**, hasta su posición correcta. Por lo tanto, **después de la iteración**, el arreglo **a[0..i]** también **contendrá los elementos del arreglo original** (ya que agregamos el i-ésimo elemento) y se mantendrá **ordenado**.\n",
        "\n",
        "\n",
        "**Correctitud**\n",
        "\n",
        "Finalmente, como la propiedad de bucle invariante es verdadera al incio del bucle y se mantiene en cada iteración, podemos decir que al **finalizar la n-ésima iteración del algoritmo**, se que genera un arreglo $[a_1',a_2',...,a_n']$, con los mismos elementos del arreglo de entrada ordenados de menor a mayor."
      ],
      "metadata": {
        "id": "Q4crmED_IPur"
      }
    }
  ]
}