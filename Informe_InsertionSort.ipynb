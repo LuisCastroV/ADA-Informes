{
  "nbformat": 4,
  "nbformat_minor": 0,
  "metadata": {
    "colab": {
      "name": "Informe InsertionSort.ipynb",
      "provenance": [],
      "collapsed_sections": [],
      "authorship_tag": "ABX9TyNBKhtBKBaXMascQK9tFfh5",
      "include_colab_link": true
    },
    "kernelspec": {
      "name": "python3",
      "display_name": "Python 3"
    },
    "language_info": {
      "name": "python"
    }
  },
  "cells": [
    {
      "cell_type": "markdown",
      "metadata": {
        "id": "view-in-github",
        "colab_type": "text"
      },
      "source": [
        "<a href=\"https://colab.research.google.com/github/LuisCastroV/ADA-Informes/blob/main/Informe_InsertionSort.ipynb\" target=\"_parent\"><img src=\"https://colab.research.google.com/assets/colab-badge.svg\" alt=\"Open In Colab\"/></a>"
      ]
    },
    {
      "cell_type": "markdown",
      "source": [
        "# 1. Problema de Ordenamiento por Inserción *(InsertionSort)*\n",
        "---\n",
        "**Entrada:**  Lista de n números $[a_1,a_2,...,a_n]$.\n",
        "\n",
        "**Entrada para el informe:**  Lista de 5 números $[9,5,1,4,3]$.\n",
        "\n",
        "**Salida**: Cambio ordenado de la lista de entrada: $[a_1',a_2',...,a_n']$, quedando $a_1'\\leq a_2' \\leq... \\leq a_n'$.\n",
        "\n",
        "**Salida para el informe:**  Cambio ordenado de la lista de entrada: $[1,3,4,5,9]$, quedando $1\\leq3\\leq4\\leq5\\leq9$.\n",
        "\n",
        "![image](https://cdn.programiz.com/cdn/farfuture/l-X2VCkF2rp4i0X8mZX6BGJL_FQW9EL8PkKhBswQfpc/mtime:1582112622/sites/tutorial2program/files/Insertion-sort-0_1.png)\n",
        "\n",
        "**Breve información:** El algoritmo de inserción fue nombrado así por John W. Mauchly en 1946, es el mejor entre los algoritmos de ordenación simple ya que realiza un menor número de comparaciones respecto del \"BubbleSort\" y \"SelectionSort\", es muy eficaz para conjuntos de pequeños de datos."
      ],
      "metadata": {
        "id": "nnR3fDBX4Eeg"
      }
    },
    {
      "cell_type": "markdown",
      "source": [
        "# 2. InsertionSort\n",
        "\n",
        "El siguiente código muestra una implementación del algoritmo InsertionSort."
      ],
      "metadata": {
        "id": "IOpLaLrmELAE"
      }
    },
    {
      "cell_type": "markdown",
      "source": [
        "## 2.1. Código"
      ],
      "metadata": {
        "id": "NtTgA0k0GrON"
      }
    },
    {
      "cell_type": "code",
      "source": [
        "import random\n",
        "from termcolor import colored\n",
        "import copy\n",
        "\n",
        "def InsertionSort(lista,verbose=False):\n",
        "    movi=0\n",
        "    promedioretro=0\n",
        "    largo=len(lista)\n",
        "\n",
        "    if verbose == True: \n",
        "      print(\"Lista inicial:\",lista)\n",
        "      \n",
        "    for i in range(1,largo):\n",
        "      key = lista[i]\n",
        "      j = i -1\n",
        "      flag=i+1\n",
        "\n",
        "      # if verbose == True: print(\"\\nPasada\",i)\n",
        "      # already_sorted = True\n",
        "\n",
        "      while j >= 0 and lista[j] > key:\n",
        "          #Se analizan los números del arreglo para realizar el cambio correcto.\n",
        "          movi+=1\n",
        "          lista[j+ 1]=lista[j]\n",
        "          j -= 1\n",
        "\n",
        "      #Se realiza el cambio de los numeros mal posicionado en forma ascendente.\n",
        "      lista[j+1] = key\n",
        "      already_sorted = False\n",
        "     \n",
        "      # if verbose == True: \n",
        "      #   print(str(lista[:i])[1:-1],\",\",colored(f\"{str(lista[i:i+2])[1:-1]}\",\"red\"),\",\",str(lista[i+2:])[1:-1])\n",
        "      #   #print(str(lista[:j])[1:-1],\",\",colored(f\"{str(lista[j:j+2])[1:-1]}\",\"red\"),\",\",str(lista[j+2:])[1:-1])\n",
        "      # already_sorted = False\n",
        "\n",
        "      if already_sorted == False and verbose == True: \n",
        "          print(\"\\nLista ordenada desde las casillas:\",i,\"hacia atrás\")\n",
        "          print(str(lista[:len(lista)-i])[1:-1],\",\",str(lista[len(lista)-i:])[1:-1])\n",
        "          # print(str(lista[:len(lista)-i])[1:-1],\",\",str(lista[len(lista)-i:])[1:-1],\",\",colored(f\"{str(lista[j:j+2])[1:-1]}\",\"blue\"))\n",
        "\n",
        "\n",
        "      # if already_sorted and flag==largo:\n",
        "      #     if verbose == True: print(\"is sorted!\")\n",
        "      #     break\n",
        "\n",
        "      if flag==largo:\n",
        "        if verbose == True: print(\"\\nOrdenamiento Listo!\")\n",
        "\n",
        "    if verbose == True: \n",
        "      print(\"\\nLista Final:\",lista)\n",
        "      \n",
        "    return lista,movi\n",
        "\n",
        "lista=[4,2,1,7,3]\n",
        "print(\"Entrada: \",lista)\n",
        "lista, movi = InsertionSort(lista)\n",
        "print(\"Salida: \",lista)\n",
        "promedio=movi/(len(lista))\n",
        "print(\"Promedio: \", promedio)\n"
      ],
      "metadata": {
        "colab": {
          "base_uri": "https://localhost:8080/"
        },
        "id": "_ah-p0e5HCCk",
        "outputId": "1e444269-eed0-408e-cc64-9ddeb6d686fd"
      },
      "execution_count": 1,
      "outputs": [
        {
          "output_type": "stream",
          "name": "stdout",
          "text": [
            "Entrada:  [4, 2, 1, 7, 3]\n",
            "Salida:  [1, 2, 3, 4, 7]\n",
            "Promedio:  1.0\n"
          ]
        }
      ]
    },
    {
      "cell_type": "markdown",
      "source": [
        "\n",
        "## 2.2. Descripción del algoritmo\n",
        "\n",
        "El algoritmo recibe una entrada de una lista (o arreglo) llamada \"lista\" en la parte 2.1. con una secuencia de \"n\"  elementos, donde se utilizó un tamaño 5, que deseamos ordenar de menor a mayor. Luego, los números se ordenan dentro de la misma lista.\n",
        "\n",
        "1. Se considera que sólo el primer elemento se encuentra ordenado, es decir, $a[0]$.\n",
        "2. Luego, para cada elemento $a[i]$, recorremos el arreglo de la posición $0$ a la $i-1$ para encontrar la posición correcta. Luego, colocamos el elemento correspondiente en esa posición.\n",
        "3. Repetimos el procedimiento para cada una de las posiciones del arreglo hasta llegar a la última $(n-1)$.\n",
        "4. Al final, se retorna el arreglo ordenado y el promedio entre movimientos realizados (retroceso) y el largo de la lista.\n",
        "\n",
        "\n",
        "\n"
      ],
      "metadata": {
        "id": "VMKGwPxWa1Gt"
      }
    },
    {
      "cell_type": "markdown",
      "source": [
        "## 2.3. Ejemplo\n",
        "\n",
        "Consideremos, por ejemplo, el arreglo:\n",
        "\n",
        "$a=[1,5,9,4]$\n",
        "\n",
        "Se almacena el valor 4 en una key para llevarlo a la posición que le corresponde en la lista que seria la posicion $lista[1]$. *(Cumpliendo condición del while \"9>4\")*\n",
        "\n",
        "$a=[1,5,9,9]$\n",
        "\n",
        "Se vuelve a revisar la condicional en el while avanzado hacia la izquierda en $lista[j]$. *(Cumpliendo condición del while \"5>4\")*\n",
        "\n",
        "$a=[1,5,5,9]$\n",
        "\n",
        "Hasta cuando se llega a un no cumplimiento de la condicional del while y se coloca el valor de la key en el arreglo en la posicion que le corresponde.\n",
        "\n",
        "$a=[1,4,5,9]$\n",
        "\n",
        "\n",
        "Tenemos el arreglo ordenado."
      ],
      "metadata": {
        "id": "LtPeWj4fptzF"
      }
    },
    {
      "cell_type": "markdown",
      "source": [
        "## 2.4. Ejecución del algoritmo paso a paso (`verbose=True`)\n",
        "\n",
        "Usando la opción `verbose=True`, podemos ver lo que ocurre en el algoritmo."
      ],
      "metadata": {
        "id": "Se4zBRQg0ltO"
      }
    },
    {
      "cell_type": "code",
      "source": [
        "import random\n",
        "a = random.sample(range(1, 100), 5)\n",
        "a,c= InsertionSort(a,verbose=True)\n",
        "\n",
        "#No pude aplicar el verbose de forma correcta."
      ],
      "metadata": {
        "colab": {
          "base_uri": "https://localhost:8080/"
        },
        "id": "khtAPsp602am",
        "outputId": "2bb4182d-f997-4f38-8cb3-2022aef10d42"
      },
      "execution_count": 2,
      "outputs": [
        {
          "output_type": "stream",
          "name": "stdout",
          "text": [
            "Lista inicial: [29, 54, 77, 97, 76]\n",
            "\n",
            "Lista ordenada desde las casillas: 1 hacia atrás\n",
            "29, 54, 77, 97 , 76\n",
            "\n",
            "Lista ordenada desde las casillas: 2 hacia atrás\n",
            "29, 54, 77 , 97, 76\n",
            "\n",
            "Lista ordenada desde las casillas: 3 hacia atrás\n",
            "29, 54 , 77, 97, 76\n",
            "\n",
            "Lista ordenada desde las casillas: 4 hacia atrás\n",
            "29 , 54, 76, 77, 97\n",
            "\n",
            "Ordenamiento Listo!\n",
            "\n",
            "Lista Final: [29, 54, 76, 77, 97]\n"
          ]
        }
      ]
    },
    {
      "cell_type": "markdown",
      "source": [
        "## 3. Tiempo de ejecución\n",
        "\n",
        "### **Teorema (Tiempo de ejecución).**\n",
        "\n",
        "El algoritmo **InsertionSort** tiene un **tiempo de ejecución de** $O(n^2)$ en el peor caso.\n",
        "\n",
        "## Prueba del teorema\n",
        "\n",
        "Se puede apreciar que el **peor caso** ocurre cuando el **arreglo esta ordenado en orden inverso**. En este caso, en cada pasada el elemento se movería una casilla a la izquierda, por lo que se necesitaría realizar $n-1$ pasadas para que los elementos quedaran ordenados."
      ],
      "metadata": {
        "id": "btpPtc7r7Wj7"
      }
    },
    {
      "cell_type": "code",
      "source": [
        "a =[4,3,2,1]\n",
        "a,counter=InsertionSort(a,True)\n",
        "print(\"Total de comparaciones realizadas:\",counter)\n",
        "\n",
        "#No cumple los requisitos de Verbose\n",
        "\n",
        "# a =[2,3,4,1];\n",
        "# print(\"Entrada no ordenada:\",a)\n",
        "# a,counter=InsertionSort(a,True)\n",
        "# print(\"Salida ordenada:\",a)\n",
        "# print(\"Total de comparaciones realizadas:\",counter)"
      ],
      "metadata": {
        "colab": {
          "base_uri": "https://localhost:8080/"
        },
        "id": "ToC0kc7k84Eb",
        "outputId": "10b24c88-1201-4e54-b910-fe716be4033d"
      },
      "execution_count": 3,
      "outputs": [
        {
          "output_type": "stream",
          "name": "stdout",
          "text": [
            "Lista inicial: [4, 3, 2, 1]\n",
            "\n",
            "Lista ordenada desde las casillas: 1 hacia atrás\n",
            "3, 4, 2 , 1\n",
            "\n",
            "Lista ordenada desde las casillas: 2 hacia atrás\n",
            "2, 3 , 4, 1\n",
            "\n",
            "Lista ordenada desde las casillas: 3 hacia atrás\n",
            "1 , 2, 3, 4\n",
            "\n",
            "Ordenamiento Listo!\n",
            "\n",
            "Lista Final: [1, 2, 3, 4]\n",
            "Total de comparaciones realizadas: 6\n"
          ]
        }
      ]
    },
    {
      "cell_type": "markdown",
      "source": [
        "En este caso, la primera revisión hizo 1 comparación, la segunda 2 y la tercera 3. Por lo tanto, se obtiene un total de 6.\n",
        "\n",
        "En el caso general, se deberían realizar $\\sum\\limits_{i=0}^{n-1} i=\\frac{n(n-1)}{2}$ comparaciones. Por lo que el **tiempo de ejecución del algoritmo en el peor caso** es $O(n^2)$."
      ],
      "metadata": {
        "id": "an70gGrW_ONI"
      }
    },
    {
      "cell_type": "markdown",
      "source": [
        "# 4. Correctitud\n",
        "\n",
        "### **Teorema (Correctitud).**\n",
        "\n",
        "El algoritmo **InsertionSort** genera un arreglo: $[a_1',a_2',...,a_n']$, con los mismos elementos del arreglo de entrada ordenados de menor a mayor, es decir, $a_1'\\leq a_2' \\leq... \\leq a_n'$.\n",
        "\n",
        "### **Prueba del Teorema**\n",
        "\n",
        "**Inicialización**\n",
        "\n",
        "Sabemos que i comienza con el valor 1, por lo tanto, lista[0..i-1] corresponde al primer elemento del arreglo original: lista[0], y que se encuentra trivialmente ordenado.\n",
        "\n",
        "**Mantención**\n",
        "\n",
        "Para probar la mantención, debemos observar lo que ocurre durante la i-ésima iteración. Asumimos que antes de comenzar la iteración, el arreglo lista[0..i-1] se encuentra ordenado y contiene los elementos del arreglo original.\n",
        "\n",
        "Durante la iteración, se mueve el nuevo elemento desde la posición i, hasta su posición correcta. Por lo tanto, después de la iteración, el arreglo lista[0..i] también contendrá los elementos del arreglo original (ya que se agregó el i-ésimo elemento) y se mantendrá ordenado.\n",
        "\n",
        "\n",
        "**Correctitud**\n",
        "\n",
        "Finalmente, como la propiedad de bucle invariante es verdadera al incio del bucle y se mantiene en cada iteración, podemos decir que al finalizar la n-ésima iteración del algoritmo, se que genera un arreglo $[a_1',a_2',...,a_n']$, con los mismos elementos del arreglo de entrada ordenados de menor a mayor."
      ],
      "metadata": {
        "id": "Q4crmED_IPur"
      }
    },
    {
      "cell_type": "markdown",
      "source": [
        "# 5. Experimentos\n",
        "\n",
        "## 5.1. Número de comparaciones\n",
        "\n",
        "A continuación se muestra gráficamente una comparación entre:\n",
        "\n",
        "* cantidad de comparaciones del peor caso calculadas matemáticamente,\n",
        "* cantidad de comparaciones del mejor caso calculadas matemáticamente (n-1 comparaciones si el arreglo está ordenado)\n",
        "\n",
        "para tamaños de problemas con  $n∈[5,19]$ .\n",
        "\n",
        "Los arreglos de entrada son generados aleatoriamente en un conjunto de números entre 1 y 100."
      ],
      "metadata": {
        "id": "6DDgVOkgzwSN"
      }
    },
    {
      "cell_type": "code",
      "source": [
        "import matplotlib.pyplot as plt\n",
        "\n",
        "x=[n for n in range(5,20)] \n",
        "y1=[n*(n-1)/2 for n in range(5,20)] #Peor\n",
        "y2=[n-1 for n in range(5,20)] #Mejor\n",
        "y=[]; \n",
        "\n",
        "for n in range(5,20):\n",
        "  a = random.sample(range(1, 100), n)\n",
        "  a,counter = InsertionSort(a)\n",
        "  y.append(counter)\n",
        "\n",
        "plt.plot(x,y)\n",
        "plt.plot(x,y1)\n",
        "plt.plot(x,y2)\n",
        "plt.legend([\"InsertionSort\", \"Peor caso matemáticamente\", \"Mejor caso matemáticamente\"])\n",
        "\n",
        "plt.xlabel('n')\n",
        "plt.ylabel('Número de operaciones')\n",
        "plt.show()"
      ],
      "metadata": {
        "colab": {
          "base_uri": "https://localhost:8080/",
          "height": 279
        },
        "id": "QMQ8A_IJ2vxa",
        "outputId": "831cd71f-ea22-499d-96c8-e87adf2a5c62"
      },
      "execution_count": 4,
      "outputs": [
        {
          "output_type": "display_data",
          "data": {
            "text/plain": [
              "<Figure size 432x288 with 1 Axes>"
            ],
            "image/png": "[encoded data removed]"
          },
          "metadata": {
            "needs_background": "light"
          }
        }
      ]
    },
    {
      "cell_type": "markdown",
      "source": [
        "### Análisis de resultado de $InsertionSort$\n",
        "\n",
        "Se observa que el tiempo de ejecución empírico esta por debajo del peor caso teórico, aproximadante entremedio de este y el mejor caso, finalmente se observa que el mejor caso tiene un comportamiento lineal."
      ],
      "metadata": {
        "id": "RaFS_y0rPHe1"
      }
    },
    {
      "cell_type": "code",
      "source": [
        "import random\n",
        "from termcolor import colored\n",
        "import copy\n",
        "\n",
        "def bubble_sort(a, verbose=False):\n",
        "    n = len(a)\n",
        "    T = 0 #contador de comparaciones\n",
        "\n",
        "    if verbose == True: print(\"input array:\",a)\n",
        "\n",
        "    for i in range(1,n+1):\n",
        "        if verbose == True: print(\"\\nPasada\",i)\n",
        "        # Flag que indica si el arreglo ya se encuentra ordenado\n",
        "        already_sorted = True\n",
        "\n",
        "        # Se recorre el arreglo\n",
        "        for j in range(n - i):\n",
        "            T +=1\n",
        "            if a[j] > a[j + 1]:\n",
        "                # Si el elemento es mayor al siguiente se intercambia\n",
        "                a[j], a[j + 1] = a[j + 1], a[j]\n",
        "                if verbose == True: \n",
        "                  print(str(a[:j])[1:-1],\",\",colored(f\"{str(a[j:j+2])[1:-1]}\",\"red\"),\",\",str(a[j+2:])[1:-1])\n",
        "\n",
        "                already_sorted = False\n",
        "\n",
        "        if already_sorted == False and verbose == True: \n",
        "           print(\"\\nAl finalizar pasada:\")\n",
        "           print(str(a[:n-i])[1:-1],\",\",colored(f\"{str(a[n-i:])[1:-1]}\",\"blue\"))\n",
        "\n",
        "        if already_sorted:\n",
        "            if verbose == True: print(\"is sorted!\")\n",
        "            break\n",
        "\n",
        "    if verbose == True: print(\"\\noutput array:\",a)\n",
        "\n",
        "    return a, T\n",
        "\n",
        "# Ejemplo\n",
        "A = [4,2,1,7,3]\n",
        "print(\"Entrada: \",A)\n",
        "A, counter = bubble_sort(A)\n",
        "print(\"Salida: \",A)\n",
        "print(\"# comparaciones: \", counter)"
      ],
      "metadata": {
        "colab": {
          "base_uri": "https://localhost:8080/"
        },
        "id": "hMOneR5K7Lno",
        "outputId": "8a81c83d-b0a9-42eb-91e5-56fb613c7eb7"
      },
      "execution_count": 5,
      "outputs": [
        {
          "output_type": "stream",
          "name": "stdout",
          "text": [
            "Entrada:  [4, 2, 1, 7, 3]\n",
            "Salida:  [1, 2, 3, 4, 7]\n",
            "# comparaciones:  9\n"
          ]
        }
      ]
    },
    {
      "cell_type": "code",
      "source": [
        "import matplotlib.pyplot as plt\n",
        "\n",
        "x=[n for n in range(5,20)] \n",
        "y1=[n*(n-1)/2 for n in range(5,20)] #Peor\n",
        "y2=[n-1 for n in range(5,20)] #Mejor\n",
        "y=[]; \n",
        "\n",
        "for n in range(5,20):\n",
        "  a = random.sample(range(1, 100), n)\n",
        "  a,counter = bubble_sort(a)\n",
        "  y.append(counter)\n",
        "\n",
        "plt.plot(x,y)\n",
        "plt.plot(x,y1)\n",
        "plt.plot(x,y2)\n",
        "plt.legend([\"Bubble Sort\", \"Peor caso matemáticamente\", \"Mejor caso matemáticamente\"])\n",
        "\n",
        "plt.xlabel('n')\n",
        "plt.ylabel('Número de operaciones')\n",
        "plt.show()"
      ],
      "metadata": {
        "colab": {
          "base_uri": "https://localhost:8080/",
          "height": 279
        },
        "id": "UbC-VRN1Fdn7",
        "outputId": "f0bf61cb-0e3d-40f8-c226-121f23340068"
      },
      "execution_count": 9,
      "outputs": [
        {
          "output_type": "display_data",
          "data": {
            "text/plain": [
              "<Figure size 432x288 with 1 Axes>"
            ],
            "image/png": "[encoded data removed]"
          },
          "metadata": {
            "needs_background": "light"
          }
        }
      ]
    },
    {
      "cell_type": "markdown",
      "source": [
        "### Comparación de gráficos \n",
        "\n",
        "En los gráficos se puede apreciar que en el de BubbleSort, el tiempo de ejecución empírico esta próximo al peor caso, sin embargo en el método de InsertionSort se observa que el tiempo de ejecución esta entremedio del peor y mejor caso existente, por ende, se puede decir que InsertionSort es mejor que BubbleSort."
      ],
      "metadata": {
        "id": "UiLHSNUPLQbG"
      }
    },
    {
      "cell_type": "code",
      "source": [
        "import matplotlib.pyplot as plt\n",
        "import datetime\n",
        "from timeit import repeat\n",
        "\n",
        "x=[]; y=[]\n",
        "\n",
        "for n in range(5,500):\n",
        "\n",
        "  a = random.sample(range(1, 1000), n)\n",
        "\n",
        "  #La función repeat está ejecutando 20 veces InsertionSort con el arreglo a y retorna el mejor tiempo obtenido.\n",
        "  t = repeat(setup=\"from __main__ import InsertionSort\", stmt=f\"InsertionSort({a})\", repeat=1, number=10)\n",
        "\n",
        "  x.append(n)\n",
        "  y.append(t)\n",
        "\n",
        "plt.plot(x,y)\n",
        "plt.legend([\"InsertionSort\"])\n",
        "\n",
        "plt.xlabel('n')\n",
        "plt.ylabel('Time in ms')\n",
        "plt.show()"
      ],
      "metadata": {
        "colab": {
          "base_uri": "https://localhost:8080/",
          "height": 279
        },
        "id": "LvsduPa16F-5",
        "outputId": "ca6b997a-35f8-4b94-e3f2-510be3447118"
      },
      "execution_count": 7,
      "outputs": [
        {
          "output_type": "display_data",
          "data": {
            "text/plain": [
              "<Figure size 432x288 with 1 Axes>"
            ],
            "image/png": "[encoded data removed]"
          },
          "metadata": {
            "needs_background": "light"
          }
        }
      ]
    },
    {
      "cell_type": "code",
      "source": [
        "import matplotlib.pyplot as plt\n",
        "import datetime\n",
        "from timeit import repeat\n",
        "\n",
        "x=[]; y=[]\n",
        "\n",
        "for n in range(5,500):\n",
        "\n",
        "  a = random.sample(range(1, 1000), n)\n",
        "\n",
        "  #la función repeat está ejecutando 20 veces bubble_sort con el arreglo a y retorna el mejor tiempo obtenido.\n",
        "  t = repeat(setup=\"from __main__ import bubble_sort\", stmt=f\"bubble_sort({a})\", repeat=1, number=10)\n",
        "\n",
        "  x.append(n)\n",
        "  y.append(t)\n",
        "\n",
        "\n",
        "plt.plot(x,y)\n",
        "plt.legend([\"BubbleSort\"])\n",
        "\n",
        "plt.xlabel('n')\n",
        "plt.ylabel('Time in ms')\n",
        "plt.show()"
      ],
      "metadata": {
        "colab": {
          "base_uri": "https://localhost:8080/",
          "height": 279
        },
        "id": "RtuWqrPOFu3a",
        "outputId": "b77c0bc2-c3ae-4c0a-d08a-4dbfe58c58c8"
      },
      "execution_count": 8,
      "outputs": [
        {
          "output_type": "display_data",
          "data": {
            "text/plain": [
              "<Figure size 432x288 with 1 Axes>"
            ],
            "image/png": "[encoded data removed]"
          },
          "metadata": {
            "needs_background": "light"
          }
        }
      ]
    }
  ]
}