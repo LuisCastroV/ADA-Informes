{
  "nbformat": 4,
  "nbformat_minor": 0,
  "metadata": {
    "colab": {
      "provenance": [],
      "collapsed_sections": [],
      "authorship_tag": "ABX9TyOkXDdUMfaGWaUyDOTz9VS5",
      "include_colab_link": true
    },
    "kernelspec": {
      "name": "python3",
      "display_name": "Python 3"
    },
    "language_info": {
      "name": "python"
    }
  },
  "cells": [
    {
      "cell_type": "markdown",
      "metadata": {
        "id": "view-in-github",
        "colab_type": "text"
      },
      "source": [
        "<a href=\"https://colab.research.google.com/github/LuisCastroV/ADA-Informes/blob/main/Informe_12_Bellman_Ford.ipynb\" target=\"_parent\"><img src=\"https://colab.research.google.com/assets/colab-badge.svg\" alt=\"Open In Colab\"/></a>"
      ]
    },
    {
      "cell_type": "markdown",
      "source": [
        "# 1. Problema del camino más corto con fuente única *(Algoritmo Bellman-Ford)*\n",
        "---\n",
        "**Entrada**: Un grafo dirigido $G=(V,E)$, un vértice fuente $s\\in V$, y un valor real $l_e$ asociado a cada arco $e\\in E$.\n",
        "\n",
        "**Salida**: Una de las siguientes opciones:\n",
        "\n",
        "- La distancia más corta $dist(s,v)$ para cada vértice $v\\in V$.\n",
        "- Una declaración indicando que $G$ contiene un ciclo negativo.\n",
        "\n",
        "---\n",
        "**Imagen referencial del Algoritmo Bellman-Ford:**\n",
        "![image](https://static.javatpoint.com/tutorial/daa/images/bellman-ford-algorithm.png)\n",
        "\n",
        "---\n",
        "**Breve información:** El algoritmo de Bellman-Ford nos ayuda a encontrar el camino más corto desde un vértice a todos los demás vértices de un grafo ponderado, es similar al algoritmo de Dijkstra pero puede funcionar con grafos en los que los arista pueden tener pesos negativos.\n",
        "\n",
        "---\n"
      ],
      "metadata": {
        "id": "tDJM6GsIhUVx"
      }
    },
    {
      "cell_type": "markdown",
      "source": [
        "# 2. Descripción del algoritmo\n",
        "\n",
        "##2.1. Bellman-Ford\n",
        "\n",
        "Consiste en un grafo dirigido $G$ con $n$ vértices, donde cada arco posee un peso asignado (distancia), más un nodo $s$ que corresponde al punto de partida. Si no existen ciclos negativos, el algoritmo retorna una lista con la distancia mínima que existe entre el nodo inicial y el resto de nodos del grafo. En caso contrario, el algoritmo retorna una lista vacía. Los pasos realizados son los siguientes:\n",
        "\n",
        "- Se crea una lista para guardar la distancia mínima de $s$ al resto de nodos, inicializando sus valores en infinito, asignamos al nodo $s$ una distancia de 0, puesto que corresponde al nodo inicial.\n",
        "\n",
        "- Iteramos $V$$-$$1$ veces por todos los arcos del grafo o hasta que no existan más cambios en las distancias (lo que ocurra primero).\n",
        "\n",
        "- Para cada arco $(u,v)$, calculamos la distancia de $s$ a $v$ como $dist(s,v) = dist(s,u)+w(u,v)$ , donde $w(u,v)$ corresponde al peso del arco $(u,v)$.\n",
        "\n",
        "- Si la distancia calculada en el paso anterior es menor a la actual, actualizamos su valor.\n",
        "\n",
        "- Al finalizar las iteraciones, realizamos una última iteración adicional para verificar que no existan ciclos negativos. Si para cualquier arco $(u,v)$ obtenemos una distancia menor a las previamente calculadas, retornamos una lista vacía.\n",
        "\n",
        "- Si no existen ciclos negativos, retornamos la lista con las distancias obtenidas."
      ],
      "metadata": {
        "id": "mpuWXXF3tI_O"
      }
    },
    {
      "cell_type": "code",
      "source": [
        "from timeit import repeat\n",
        "from math import log\n",
        "from random import randint\n",
        "import matplotlib.pyplot as plt\n",
        "import networkx as nx\n",
        "import random\n",
        "import sys\n",
        "\n",
        "%matplotlib inline\n",
        "\n",
        "def is_valid_edge(generated_edges: dict, i: int, j: int):\n",
        "    return i != j and not generated_edges.get((i, j), None) and not generated_edges.get((j, i), None)\n",
        "\n",
        "def instance_generator(n: int):\n",
        "    graph = []\n",
        "    nodes = random.sample(range(0, n), n)\n",
        "    unvisited_nodes = random.sample(range(0, n), n)\n",
        "    generated_edges = {}\n",
        "    for i in nodes:\n",
        "        rand = random.sample(nodes, random.randint(1, 3))\n",
        "\n",
        "        for j in rand:\n",
        "            edge = (i, j)\n",
        "            edge_with_weight = (i, j, random.randint(1, 50))\n",
        "            if generated_edges.get((edge[1], edge[0]), None):\n",
        "                continue\n",
        "            if i == j:\n",
        "                new_vertice = None\n",
        "                iterations = 0\n",
        "                while new_vertice is None and iterations < 250:\n",
        "                    iterations += 1\n",
        "                    number = random.randint(0, n - 1)\n",
        "                    if is_valid_edge(generated_edges, i, number):\n",
        "                        new_vertice = number\n",
        "                if iterations >= 250:\n",
        "                    return instance_generator(n)\n",
        "                edge = (i, new_vertice)\n",
        "                edge_with_weight = (i, new_vertice, random.randint(-50, 50)) \n",
        "            graph.append(edge_with_weight)\n",
        "            generated_edges[edge] = edge\n",
        "            if edge_with_weight[1] in unvisited_nodes:\n",
        "                unvisited_nodes.remove(edge_with_weight[1])\n",
        "    for i in unvisited_nodes:\n",
        "        valid_edge = False\n",
        "        iterations = 0\n",
        "        while not valid_edge and iterations < 250:\n",
        "            iterations += 1\n",
        "            m = random.randint(0, n - 1)\n",
        "            if is_valid_edge(generated_edges, m, i):\n",
        "                valid_edge = True\n",
        "                edge = (m, i)\n",
        "                edge_with_weight = (m, i, random.randint(-50, 50))\n",
        "                graph.append(edge_with_weight)\n",
        "                generated_edges[edge] = edge\n",
        "        if iterations >= 250:\n",
        "            return instance_generator(n)\n",
        "    return graph, graph[0][0]\n",
        "\n",
        "\n"
      ],
      "metadata": {
        "id": "6QhrueMiuRXe"
      },
      "execution_count": 85,
      "outputs": []
    },
    {
      "cell_type": "code",
      "source": [
        "class GraphBF():\n",
        "    def __init__(self, vertices):\n",
        "        self.V = vertices  \n",
        "        self.graph = list()\n",
        "\n",
        "    def addEdge(self, u, v, w):\n",
        "        self.graph.append((u, v, w))\n",
        "\n",
        "    def printArr(self, dist):\n",
        "        print(\"Distancia del vértice desde la fuente\")\n",
        "        for i in range(self.V):\n",
        "            print(\"{0}\\t\\t{1}\".format(i, dist[i]))\n",
        "    def BellmanFord(self, src,print_solution=True):\n",
        "        distancia = [float(\"Inf\")] * self.V\n",
        "        distancia[src] = 0\n",
        "        for i in range(self.V - 1):\n",
        "            for a, b, c in self.graph:\n",
        "                if distancia[a] != float(\"Inf\") and distancia[a] + c < distancia[b]:\n",
        "                    distancia[b] = distancia[a] + c\n",
        "        for a, b, c in self.graph:\n",
        "            if distancia[a] != float(\"Inf\") and distancia[a] + c < distancia[b]:\n",
        "                if print_solution:\n",
        "                    print(\"El grafo contiene un ciclo negativo\")\n",
        "                distancia = list()\n",
        "                return distancia\n",
        "        if print_solution:\n",
        "            print(\"No existen ciclos negativos\\n\")\n",
        "            self.printArr(distancia)\n",
        "            \n",
        "n = 6\n",
        "g, root = instance_generator(n)\n",
        "grafo = GraphBF(n)\n",
        "for (x, y, peso) in g:\n",
        "    grafo.addEdge(x, y, peso)\n",
        "grafo.BellmanFord(root)"
      ],
      "metadata": {
        "colab": {
          "base_uri": "https://localhost:8080/"
        },
        "id": "-7F0h_YJdA2E",
        "outputId": "92037e61-c86c-4194-da5c-32fa6567d7be"
      },
      "execution_count": 92,
      "outputs": [
        {
          "output_type": "stream",
          "name": "stdout",
          "text": [
            "No existen ciclos negativos\n",
            "\n",
            "Distancia del vértice desde la fuente\n",
            "0\t\t-50\n",
            "1\t\t0\n",
            "2\t\t25\n",
            "3\t\t-10\n",
            "4\t\t25\n",
            "5\t\t-25\n"
          ]
        }
      ]
    },
    {
      "cell_type": "markdown",
      "source": [
        "##2.2. Dijkstra\n",
        "\n",
        "- Se crea un conjunto sptSet (conjunto de árboles de ruta más corta) que realiza un seguimiento de los vértices incluidos en el árbol de ruta más corta, es decir, cuya distancia mínima desde la fuente se calcula y finaliza. Inicialmente, este conjunto está vacío.\n",
        "- Se asigna un valor de distancia a todos los vértices en el gráfico de entrada. Se inicializan todos los valores de distancia como $infinitos$, luego se le asigna el valor de distancia como $0$ al vértice de origen para que se elija primero.\n",
        "- Mientras sptSet no incluye todos los vértices:\n",
        " - Se elige un vértice $u$ que no esté en sptSet y tenga un valor de distancia mínimo.\n",
        " - Se incluye $u$ en sptSet.\n",
        " - Se actualiza el valor de distancia de todos los vértices adyacentes de $u$. Para actualizar los valores de distancia, se itera a través de todos los vértices adyacentes. \n",
        "   - Para cada vértice adyacente $v$, si la suma de un valor de distancia de $u$ *(desde la fuente)* y el peso del borde $u-v$ es menor que el valor de distancia de $v$, entonces se actualiza el valor de distancia de $v$."
      ],
      "metadata": {
        "id": "nEWN5j1Mlltr"
      }
    },
    {
      "cell_type": "code",
      "source": [
        "class Graph():\n",
        "    def __init__(self, vertices):\n",
        "        self.V = vertices\n",
        "        self.graph = [[0 for column in range(vertices)]\n",
        "                      for row in range(vertices)]\n",
        "\n",
        "    def printSolution(self, dist):\n",
        "        print(\"Vertex \\t Distance from Source\")\n",
        "        for node in range(self.V):\n",
        "            print(node, \"\\t\\t\", dist[node])\n",
        " \n",
        "    def minDistance(self, dist, sptSet):\n",
        "        min = 1e7\n",
        "        for v in range(self.V):\n",
        "            if dist[v] < min and sptSet[v] == False:\n",
        "                min = dist[v]\n",
        "                min_index = v\n",
        "        return min_index\n",
        "\n",
        "    def dijkstra(self, src):\n",
        "        dist = [1e7] * self.V\n",
        "        dist[src] = 0\n",
        "        sptSet = [False] * self.V\n",
        " \n",
        "        for cout in range(self.V):\n",
        "            u = self.minDistance(dist, sptSet)\n",
        "            sptSet[u] = True\n",
        "            for v in range(self.V):\n",
        "                if (self.graph[u][v] > 0 and\n",
        "                   sptSet[v] == False and\n",
        "                   dist[v] > dist[u] + self.graph[u][v]):\n",
        "                    dist[v] = dist[u] + self.graph[u][v]\n",
        "        self.printSolution(dist)\n",
        " \n",
        "g = Graph(9)\n",
        "g.graph = [[0, 4, 0, 0, 0, 0, 0, 8, 0],\n",
        "           [4, 0, 8, 0, 0, 0, 0, 11, 0],\n",
        "           [0, 8, 0, 7, 0, 4, 0, 0, 2],\n",
        "           [0, 0, 7, 0, 9, 14, 0, 0, 0],\n",
        "           [0, 0, 0, 9, 0, 10, 0, 0, 0],\n",
        "           [0, 0, 4, 14, 10, 0, 2, 0, 0],\n",
        "           [0, 0, 0, 0, 0, 2, 0, 1, 6],\n",
        "           [8, 11, 0, 0, 0, 0, 1, 0, 7],\n",
        "           [0, 0, 2, 0, 0, 0, 6, 7, 0]\n",
        "           ]\n",
        " \n",
        "g.dijkstra(0)\n",
        " "
      ],
      "metadata": {
        "colab": {
          "base_uri": "https://localhost:8080/"
        },
        "id": "f4AJGslGmO21",
        "outputId": "1ecc8e6d-3ddb-44a3-a417-8c3606eb07c7"
      },
      "execution_count": 93,
      "outputs": [
        {
          "output_type": "stream",
          "name": "stdout",
          "text": [
            "Vertex \t Distance from Source\n",
            "0 \t\t 0\n",
            "1 \t\t 4\n",
            "2 \t\t 12\n",
            "3 \t\t 19\n",
            "4 \t\t 21\n",
            "5 \t\t 11\n",
            "6 \t\t 9\n",
            "7 \t\t 8\n",
            "8 \t\t 14\n"
          ]
        }
      ]
    },
    {
      "cell_type": "markdown",
      "source": [
        "#2.3 Ejemplo paso a paso\n",
        "\n",
        "**Paso 1:** Los pesos estan en color azul y la distancia inicial en cada vértice es infinito.\n",
        "\n",
        "![image](https://jariasf.files.wordpress.com/2012/03/grafo.jpg)\n",
        "\n",
        "![image](https://jariasf.files.wordpress.com/2013/01/tablabellman1.jpg?w=768&h=89)\n",
        "\n",
        "**Paso 2:** Inicialmente la distancia de vértice 1 -> vértice 1 es $0$ por estar en el mismo lugar.\n",
        "\n",
        "![image](https://jariasf.files.wordpress.com/2013/01/grafobellman1.jpg)\n",
        "\n",
        "**Paso 3:** Se empieza con las aristas que parten del vértice 1, se observa que tenemos 2 aristas, la que une vértice 1 con vértice 2 y vértice 1 con vértice 4.\n",
        "\n",
        "![image](https://jariasf.files.wordpress.com/2013/01/grafobellman2.jpg)\n",
        "\n",
        "**Paso 4:** La distancia actual desde el vértice inicial a 2 es $∞$, verifiquemos el paso de relajación: \n",
        "\n",
        "distancia[1]+7 < distancia[2] -> $0+7 < ∞$  ->   $7 < ∞$. \n",
        "\n",
        "El paso de relajación es posible realizarlo entonces actualizamos la distancia en el vértice 2.\n",
        "\n",
        "![image](https://jariasf.files.wordpress.com/2013/01/grafobellman3.jpg)\n",
        "\n",
        "**Paso 5:** El paso de relajación es posible realizarlo entonces actualizamos la distancia en el vértice 2.\n",
        "\n",
        "![image](https://jariasf.files.wordpress.com/2013/01/grafobellman4.jpg)\n",
        "\n",
        "**Paso 6:** Ahora se evalua al siguiente adyacente que es el vértice 4.\n",
        "\n",
        "![image](https://jariasf.files.wordpress.com/2013/01/grafobellman5.jpg)\n",
        "\n",
        "**Paso 7:** Sucede lo mismo que el paso 4.\n",
        "\n",
        "![image](https://jariasf.files.wordpress.com/2013/01/grafobellman6.jpg)\n",
        "\n",
        "**Paso 8:** Terminadas las aristas que parten del vértice 1, continuamos con las aristas que parten del vértice 2.\n",
        "\n",
        "![image](https://jariasf.files.wordpress.com/2013/01/grafobellman7.jpg)\n",
        "\n",
        "**Paso 9:**\n",
        "\n",
        "![image](https://jariasf.files.wordpress.com/2013/01/grafobellman8.jpg)\n",
        "\n",
        "**Paso 10:** En este caso vemos que no se lleva acabo el paso de relajación:\n",
        "\n",
        "distancia[2]+2< distancia[4] -> $7 + 2 < 2$  -> $9 < 2$\n",
        "\n",
        "Por lo tanto no actualizamos valores en la tabla. Ahora el siguiente vértice a evaluar es el vértice 3 que posee una sola arista, y asi se iran \"repitiendo\" los pasos siguientes.\n",
        "\n",
        "![image](https://jariasf.files.wordpress.com/2013/01/grafobellman9.jpg)\n",
        "\n",
        "**Paso 11:**\n",
        "\n",
        "![image](https://jariasf.files.wordpress.com/2013/01/grafobellman10jpg.jpg)\n",
        "\n",
        "**Paso 12:**\n",
        "\n",
        "![image](https://jariasf.files.wordpress.com/2013/01/grafobellman11.jpg)\n",
        "\n",
        "**Paso 13:**\n",
        "\n",
        "![image](https://jariasf.files.wordpress.com/2013/01/grafobellman12.jpg)\n",
        "\n",
        "**Paso 14:**\n",
        "\n",
        "![image](https://jariasf.files.wordpress.com/2013/01/grafobellman13.jpg)\n",
        "\n",
        "**Paso 15:**\n",
        "\n",
        "![image](https://jariasf.files.wordpress.com/2013/01/grafobellman14.jpg)\n",
        "\n",
        "**Paso 16:**\n",
        "\n",
        "![image](https://jariasf.files.wordpress.com/2013/01/grafobellman15.jpg)\n",
        "\n",
        "![image](https://jariasf.files.wordpress.com/2013/01/tablabellman8.jpg?w=768)"
      ],
      "metadata": {
        "id": "i_S0X4iDvieq"
      }
    },
    {
      "cell_type": "markdown",
      "source": [
        "#3. Correctitud\n",
        "\n",
        "Para poder probar que el algoritmo de Bellman-Ford funciona, utilizaremos *inducción matemática*, donde:\n",
        "\n",
        "- Probar $P(n)$  para un caso base, por ejemplo  $P(1)$.\n",
        "- Probar que si $P(m)$ es cierto, donde  $m < n$, entonces  $P(n)$ también lo es.\n",
        "\n",
        "\n",
        "$Teorema$: Sea G un grafo (orientado o no) sin circuitos negativos y  s∈V  un nodo de origen. Al comenzar la k-ésima iteración, el algoritmo de Bellman-Ford determina un camino mínimo de a lo más k − 1 aristas de  s  a los nodos de G.\n",
        "\n",
        "$Caso base$: ( k=1 ) Los camino mínimos de longitud cero desde  s  son los que van a  s  y a los nodos no alcanzables desde  s . Luego el lema vale trivialmente por cómo se inicializaron los valores de ϵ.\n",
        "\n",
        "$Paso inductivo$: Supongamos que el lema vale para algún  k≥1  y veamos que vale para  k+1 . Sea el comienzo de la k-ésima iteración y sea  vϵV . Si existe un camino mínimo de a lo más  k−1  aristas a  v , por hipótesis inductiva, el algoritmo ya lo determinó. Supongamos ahora que los camino mínimo a  v  tienen exactamente  k  aristas y sea  P  uno de ellos y  (u,v)  la última arista de  P . Por subestructura óptim de camino mínimo,  P′=P−(u,v)  es un camino mínimo a  u . Luego, por hipótesis inductiva,  ϵ(u)=𝝳(s,u)+w(u,v)=w(P)=𝝳(s,v) ."
      ],
      "metadata": {
        "id": "swV0AmDM1G-y"
      }
    },
    {
      "cell_type": "markdown",
      "source": [
        "#4. Tiempo de ejecución \n",
        "\n",
        "#4.1. Tiempo de ejecución de Bellman-Ford\n",
        "\n",
        "- En primer lugar, se realiza el paso de inicialización ⇒ O(V)\n",
        "\n",
        "- Luego, el algoritmo itera  |V|−1  los tiempos con cada iteración ⇒ O(1)\n",
        "\n",
        "- Después de  |V|−1  de las interacciones. el algoritmo elige todas las aristas y luego llama la función Relax(). Elegir todos los bordes lleva tiempo más la función Relax() ⇒ O(1) + O(E)\n",
        "\n",
        "En conclusión, la complejidad para hacer todas la operaciones del algoritmo lleva un tiempo de O(VE)\n",
        "\n",
        "#4.2. Tiempo de ejecución de Dijkstra\n",
        "Orden de complejidad del algoritmo:\n",
        "\n",
        "O(|V|²+|A|)=O(|V|²) , sin utilizar cola de prioridad,  \n",
        "O((|A|+|V|)log|V|)=O(|A|log|V|) utilizando cola de prioridad (por ejemplo, un montículo binario o un árbol binario balanceado). Por otro lado, si se utiliza un montículo de Fibonacci, sería  O(|V|log|V|+|A|).\n",
        "\n",
        "La complejidad de este algoritmo se puede calcular contando las operaciones realizadas:\n",
        "\n",
        "- El algoritmo consiste en  n−1  iteraciones, como máximo. En cada iteración, se añade un vértice al conjunto distinguido.\n",
        "\n",
        "- En cada iteración, se identifica el vérticde con la menor etiqueta entre los que no están en  Sk . El número de estas operaciones está acotado por  n−1 .\n",
        "\n",
        "- Además, se realizan una suma y una comparación para actualizar la etiqueta de cada uno de los vértices que no están en  Sk .\n",
        "\n",
        "Luego, en cada iteración se realizan a lo más  2(n−1)  operaciones. Entonces:\n",
        "\n",
        "$Teorema$: El algoritmo de Dijkstra realiza O(n²) operaciones (sumas y comparaciones) para determinar la longitud del camino más corto entre dos vértices de un grafo ponderado simple, conexo y no dirigido con n vértices.\n",
        "\n",
        "En general:\n",
        "\n",
        "Tiempo de ejecución =  O(|A|∗Tdk+|v|∗Tdm) \n",
        "\n",
        "|A| : Número de aristas\n",
        "\n",
        "Tdk : Complejidad de disminuir clave\n",
        "\n",
        "|V| : Número de vértices\n",
        "\n",
        "Tdm : Complejidad de extraer mínimo"
      ],
      "metadata": {
        "id": "HenESTn82Ej6"
      }
    },
    {
      "cell_type": "markdown",
      "source": [
        "#5. Experimento\n",
        "\n",
        "El algoritmo de arriba representa el Dijkstra y el de abajo al algoritmo de Bellman-Ford.\n",
        "\n",
        "![image](https://upload.wikimedia.org/wikipedia/commons/2/2e/Shortest_path_Dijkstra_vs_BellmanFord.gif)\n"
      ],
      "metadata": {
        "id": "tppwjlvL4G8i"
      }
    },
    {
      "cell_type": "markdown",
      "source": [
        "#5.1. Djikstra vs Bellman-Ford\n",
        "\n",
        "![image](https://www.researchgate.net/profile/Bogdan-Popa-6/publication/304665934/figure/fig6/AS:614274980397075@1523465976359/Comparison-of-Dijkstra-and-Bellman-Ford-in-Parallel-Spped-Up-analyse-14.png)\n",
        "\n",
        "*Esta grafica fue extraida de Internet*, se puede observa que a medida que crece el tamaño del grafo el algoritmo de Bellman-Ford empieza a aumentar de forma cuadrática su tiempo de ejecución."
      ],
      "metadata": {
        "id": "CzWdC-qA47YK"
      }
    }
  ]
}