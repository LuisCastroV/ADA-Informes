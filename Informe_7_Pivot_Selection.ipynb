{
  "nbformat": 4,
  "nbformat_minor": 0,
  "metadata": {
    "colab": {
      "provenance": [],
      "collapsed_sections": [],
      "authorship_tag": "ABX9TyObCSuQhjp2J8rLNaqXt9y6",
      "include_colab_link": true
    },
    "kernelspec": {
      "name": "python3",
      "display_name": "Python 3"
    },
    "language_info": {
      "name": "python"
    }
  },
  "cells": [
    {
      "cell_type": "markdown",
      "metadata": {
        "id": "view-in-github",
        "colab_type": "text"
      },
      "source": [
        "<a href=\"https://colab.research.google.com/github/LuisCastroV/ADA-Informes/blob/main/Informe_7_Pivot_Selection.ipynb\" target=\"_parent\"><img src=\"https://colab.research.google.com/assets/colab-badge.svg\" alt=\"Open In Colab\"/></a>"
      ]
    },
    {
      "cell_type": "markdown",
      "source": [
        "# 1. Problema de estadísticos de orden ($Selection$)\n",
        "\n",
        "Una buena práctica es tratar de reutilizar algoritmos clásicos, por ejemplo, se pide encontrar la mediana de los elementos de un arreglo, se puede usar un algoritmo de ordenamiento, como el $QuickSort$, para retornar el dato central, provocando la aparición del término reducción que lleva a la transformación de un problema a otro problema.\n",
        "\n",
        "Donde un problema $A$ se reduce en otro problema $B$ si un algoritmo para resolver $B$ puede ser transformado \"fácilmente” en un algoritmo para resolver $A$.\n",
        "\n",
        "En estadística, el *estadístico de orden kº* es igual al *k-ésimo valor* más pequeño de una muestra estadística, junto con los estadísticos de rango, los estadísticos de orden son una de las herramientas fundamentales de la estadística no paramétrica y de inferencia.\n",
        "\n",
        "Donde el problema de selección se encuentra directamente relacionado con estos estadísticos.\n",
        "\n",
        "---\n",
        "**Entrada:**  Conjunto de $n$ números diferentes $A$  más un índice $i$.\n",
        "\n",
        "**Salida**: Elemento $x\\in A$, que es mayor a exactamente $i-1$ elementos de $A$.\n",
        "\n",
        "El elemento $x$ se conoce como estadístico de orden $i$-ésimo para el conjunto $A$.\n",
        "\n",
        "---\n",
        "**Imagen referencial de como obtener la mediana:**\n",
        "![image](https://academia-lab.com/wp-content/uploads/2022/02/Mediana-1.webp)"
      ],
      "metadata": {
        "id": "krCWf80LzgtI"
      }
    },
    {
      "cell_type": "markdown",
      "source": [
        "# 2.1. Descripción del algoritmo\n",
        "\n",
        "El algoritmo recibe un arreglo de $n$ elementos junto a un indice $i-ésimo$ menor elemento dentro de la lista.\n",
        "\n",
        "- El arreglo de $n$ elementos se divide en n/5 grupos de 5 elementos cada uno, quedando el último grupo con menos elementos.\n",
        "\n",
        "- Se encuentra la mediana de cada subarreglo, ordenándose con *Insertion Sort*.\n",
        "\n",
        "- Se aplica PivotSelection recursivamente para encontrar la mediana $m$ de las n/5 medianas identificadas en el paso anterior. \n",
        "\n",
        "- Luego, $m$ será el pivote usado por el método Partition, dejando los elementos menores o iguales al pivote a la izquierda y a la derehcha los elementos mayores.\n",
        "\n",
        "- Finalmente, se aplicará recursivamente Select con el subarreglo izquierdo o derecho, sea cual sea el correspondiente para buscar el i-ésimo menor elemento.\n",
        "\n",
        "El algoritmo al ser recursivo se va a estar llamando continuamente hasta que llegue al caso en que el pivote y el i-ésimo elemento que se buscaban tengan el mismo orden, que es donde se revisa si se retorna el pivote o se sigue buscando recursivamente."
      ],
      "metadata": {
        "id": "lMEVFKyl2kTV"
      }
    },
    {
      "cell_type": "markdown",
      "source": [
        "# 2.2. Ejemplo\n",
        "\n",
        "Se busca el menor elemento del siguiente arreglo:\n",
        "\n",
        "$a=[3,1,2,10,9,4,5,8,7,6]$\n",
        "\n",
        "Se divide el arreglo en grupos de 5 elementos:\n",
        "\n",
        "- $[3,1,2,10,9] - [4,5,8,7,6]$\n",
        "\n",
        "Se aplica $InsertionSort$:\n",
        "\n",
        "- $[1,2,3,9,10],[4,5,6,7,8]$\n",
        "\n",
        "Se \"almacena\" la mediana de cada grupo:\n",
        "\n",
        "- $[3,6]$\n",
        "\n",
        "Se aplica $PivotSelection$ para encontrar la mediana, por debajo, de las medianas obteniendo como pivote, al $3$, con este pivote se realiza la partición:\n",
        "\n",
        "- $[1,2,3,10,9,4,5,8,7,6]$\n",
        "\n",
        "Se busca el *menor arreglo al pivote* y se observa que este se encuentra en la parte izquierda, repitiendo el proceso por recursividad:\n",
        "\n",
        "- $[1,2]$\n",
        "\n",
        "Como el arreglo es menor a $5$, tan solo se ordena y se busca la mediana, con esto se obtiene que la mediana es $2$.\n",
        "\n",
        "- $[1] - [2]$\n",
        "\n",
        "Encontrado el valor menor que seria $1$.\n",
        "\n",
        "\n",
        "\n",
        "\n",
        "\n",
        "\n"
      ],
      "metadata": {
        "id": "Gb40ue6hXKpO"
      }
    },
    {
      "cell_type": "markdown",
      "source": [
        "#2.3. Código"
      ],
      "metadata": {
        "id": "IXq_aMF2nvmE"
      }
    },
    {
      "cell_type": "code",
      "source": [
        "def insertionsort(A):\n",
        "    for j in range(1,len(A)):\n",
        "        key = A[j] \n",
        "        i = j-1 \n",
        "        while (i > -1) and key < A[i]: \n",
        "            A[i+1]=A[i] \n",
        "            i=i-1 \n",
        "        A[i+1] = key\n",
        "    return A"
      ],
      "metadata": {
        "id": "CohC4MsURpG-"
      },
      "execution_count": 1,
      "outputs": []
    },
    {
      "cell_type": "code",
      "source": [
        "def exchange(A,i,j):\n",
        "    aux = A[i]\n",
        "    A[i] = A[j]\n",
        "    A[j] = aux\n",
        "\n",
        "    return\n",
        "\n",
        "def Partition(A,p,r):\n",
        "    pivot = A[r]\n",
        "    i = p-1\n",
        "    j = p\n",
        "\n",
        "    for j in range(j,r):  \n",
        "        if A[j] <= pivot:\n",
        "            i += 1\n",
        "            exchange(A, i, j)\n",
        "    exchange(A, i+1, r)\n",
        "    return i+1"
      ],
      "metadata": {
        "id": "5KnMLQk9JB2p"
      },
      "execution_count": 28,
      "outputs": []
    },
    {
      "cell_type": "code",
      "source": [
        "def select(arr,left,right,i):\n",
        "  if(left == right):\n",
        "    return arr[left]\n",
        "  #q = PivotSelection(arr,left,right,verbose) \n",
        "  #k = q-left+1 \n",
        "  if(i == k):\n",
        "    return arr[q]\n",
        "  elif(i<k):\n",
        "    return select(arr,left,q-1,i)\n",
        "  else:\n",
        "    return select(arr,q+1,right,i-k) "
      ],
      "metadata": {
        "id": "ZT6wr-Tiks0K"
      },
      "execution_count": null,
      "outputs": []
    },
    {
      "cell_type": "code",
      "source": [
        "array=[18, 26, 14, 38, 83, 59, 57, 17, 62, 20, 32, 19, 55, 71, 47]\n",
        "k=5\n",
        "# elemento = select(array, 0, len(array) - 1, k)"
      ],
      "metadata": {
        "id": "W-O0e-kje1vc"
      },
      "execution_count": null,
      "outputs": []
    },
    {
      "cell_type": "markdown",
      "source": [
        "#3. Propiedades del Algoritmo\n",
        "\n",
        "#3.1. Correctitud del algoritmo\n",
        "\n",
        "Para probar la correctitud del algoritmo, se usa inducción. Se plantea un caso base y en base a este probaremos que se cumple la correctitud para todo el algoritmo.\n",
        "\n",
        "- Caso base\n",
        "\n",
        "$Select$ recibe un arreglo $A$ de $n$ elementos y un índice $i$, retornando el valor del $i-esimo$ elemento más pequeño de A.\n",
        "\n",
        "Se escoge $n=1$, se cumple la declaración pues al ser un elemento único el índice $i$ este solo vale 1, que corresponde al único elemento del arreglo.\n",
        "\n",
        "\n",
        "- Caso inductivo\n",
        "\n",
        "El arreglo entra en $pivotSelection$, donde existirán 3 conjuntos, los que contendran los elementos menores al pivote, el pivote y los elementos mayores al pivote.\n",
        "\n",
        "$Partition$ ubica el pivote en su posición correcta, por lo que si la posición del pivote coincide con el índice $i$, se encontraria la solución. Si el valor resulta ser menor, se buscará el $i-esimo$ en el conjunto que contiene a los elementos menores que el pivote, en caso contrario, se buscará en el conjunto de mayores.\n",
        "\n",
        "Ya que $partition$ esta en llamadas recursivas se continua realizando particiones y ubicando a los elementos en los distintos conjuntos que les corresponda. Cuando el tamaño de uno de estos subarreglos sea 1 se habrá encontrado el i-eimo elemento.\n",
        "\n",
        "#3.2. Tiempo de ejecución\n",
        "\n",
        "$T(n) <= T(n/5) + T(7n/10) + O(n)$\n",
        "\n",
        "- Peor y mejor caso = $O(n)$"
      ],
      "metadata": {
        "id": "hCdlagffZAH8"
      }
    },
    {
      "cell_type": "markdown",
      "source": [
        "#4. Experimentos"
      ],
      "metadata": {
        "id": "UMEbhsgMWkXe"
      }
    },
    {
      "cell_type": "markdown",
      "source": [
        "#4.1 Mejor y peor caso teórico"
      ],
      "metadata": {
        "id": "PPvAiPgFX4Uc"
      }
    },
    {
      "cell_type": "code",
      "source": [
        "import matplotlib.pyplot as plt\n",
        "import datetime\n",
        "import random\n",
        "from timeit import repeat\n",
        "\n",
        "x=[]\n",
        "y1=[n*n for n in range(5,100)] #Peor caso\n",
        "y2=[n for n in range(5,100)] #Mejor caso\n",
        "y=[]; \n",
        "\n",
        "for n in range(5,100):\n",
        "    a = random.sample(range(-100, 1000), n)\n",
        "    Iesimo = random.randint(0,n)\n",
        "    contador = 0\n",
        "    x.append(n)\n",
        "    y.append(contador)\n",
        "\n",
        "plt.plot(x,y)\n",
        "plt.plot(x,y1)\n",
        "plt.plot(x,y2)\n",
        "plt.legend([\"Select\", \"Peor caso\", \"Mejor caso\"])\n",
        "\n",
        "plt.xlabel('n')\n",
        "plt.ylabel('Tiempo en ms')\n",
        "plt.show()"
      ],
      "metadata": {
        "colab": {
          "base_uri": "https://localhost:8080/",
          "height": 279
        },
        "id": "G29DAyCAWpGP",
        "outputId": "f5ecef9c-c4b1-4c98-ab2d-c12c010810df"
      },
      "execution_count": 29,
      "outputs": [
        {
          "output_type": "display_data",
          "data": {
            "text/plain": [
              "<Figure size 432x288 with 1 Axes>"
            ],
            "image/png": "[encoded data removed]"
          },
          "metadata": {
            "needs_background": "light"
          }
        }
      ]
    }
  ]
}