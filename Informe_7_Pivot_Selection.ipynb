{
  "nbformat": 4,
  "nbformat_minor": 0,
  "metadata": {
    "colab": {
      "provenance": [],
      "authorship_tag": "ABX9TyNGA15w/2RmlZ+ju0ZFafRD",
      "include_colab_link": true
    },
    "kernelspec": {
      "name": "python3",
      "display_name": "Python 3"
    },
    "language_info": {
      "name": "python"
    }
  },
  "cells": [
    {
      "cell_type": "markdown",
      "metadata": {
        "id": "view-in-github",
        "colab_type": "text"
      },
      "source": [
        "<a href=\"https://colab.research.google.com/github/LuisCastroV/ADA-Informes/blob/main/Informe_7_Pivot_Selection.ipynb\" target=\"_parent\"><img src=\"https://colab.research.google.com/assets/colab-badge.svg\" alt=\"Open In Colab\"/></a>"
      ]
    },
    {
      "cell_type": "markdown",
      "source": [
        "# 1. Problema de estadísticos de orden ($Selection$)\n",
        "\n",
        "Una buena práctica es tratar de reutilizar algoritmos clásicos, por ejemplo, se pide encontrar la mediana de los elementos de un arreglo, se puede usar un algoritmo de ordenamiento, como el $QuickSort$, para retornar el dato central, provocando la aparición del término reducción que lleva a la transformación de un problema a otro problema.\n",
        "\n",
        "Donde un problema $A$ se reduce en otro problema $B$ si un algoritmo para resolver $B$ puede ser transformado \"fácilmente” en un algoritmo para resolver $A$.\n",
        "\n",
        "En estadística, el *estadístico de orden kº* es igual al *k-ésimo valor* más pequeño de una muestra estadística, junto con los estadísticos de rango, los estadísticos de orden son una de las herramientas fundamentales de la estadística no paramétrica y de inferencia.\n",
        "\n",
        "Donde el problema de selección se encuentra directamente relacionado con estos estadísticos.\n",
        "\n",
        "---\n",
        "**Entrada:**  Conjunto de $n$ números diferentes $A$  más un índice $i$.\n",
        "\n",
        "**Salida**: Elemento $x\\in A$, que es mayor a exactamente $i-1$ elementos de $A$.\n",
        "\n",
        "El elemento $x$ se conoce como estadístico de orden $i$-ésimo para el conjunto $A$.\n",
        "\n",
        "---\n",
        "**Imagen referencial de como obtener la mediana:**\n",
        "![image](https://academia-lab.com/wp-content/uploads/2022/02/Mediana-1.webp)"
      ],
      "metadata": {
        "id": "krCWf80LzgtI"
      }
    },
    {
      "cell_type": "markdown",
      "source": [
        "# 2.1. Descripción del algoritmo\n",
        "\n",
        "El algoritmo recibe un arreglo de $n$ elementos junto a un indice $i-ésimo$ menor elemento dentro de la lista.\n",
        "\n",
        "- El arreglo de $n$ elementos se divide en n/5 grupos de 5 elementos cada uno, quedando el último grupo con menos elementos.\n",
        "\n",
        "- Se encuentra la mediana de cada subarreglo, ordenándose con *Insertion Sort*.\n",
        "\n",
        "- Se aplica PivotSelection recursivamente para encontrar la mediana $m$ de las n/5 medianas identificadas en el paso anterior. \n",
        "\n",
        "- Luego, $m$ será el pivote usado por el método Partition, dejando los elementos menores o iguales al pivote a la izquierda y a la derehcha los elementos mayores.\n",
        "\n",
        "- Finalmente, se aplicará recursivamente Select con el subarreglo izquierdo o derecho, sea cual sea el correspondiente para buscar el i-ésimo menor elemento.\n",
        "\n",
        "El algoritmo al ser recursivo se va a estar llamando continuamente hasta que llegue al caso en que el pivote y el i-ésimo elemento que se buscaban tengan el mismo orden, que es donde se revisa si se retorna el pivote o se sigue buscando recursivamente."
      ],
      "metadata": {
        "id": "lMEVFKyl2kTV"
      }
    },
    {
      "cell_type": "markdown",
      "source": [
        "# 2.2. Ejemplo\n",
        "\n",
        "Se busca el menor elemento del siguiente arreglo:\n",
        "\n",
        "$a=[3,1,2,10,9,4,5,8,7,6]$\n",
        "\n",
        "Se divide el arreglo en grupos de 5 elementos:\n",
        "\n",
        "- $[3,1,2,10,9] - [4,5,8,7,6]$\n",
        "\n",
        "Se aplica $InsertionSort$:\n",
        "\n",
        "- $[1,2,3,9,10],[4,5,6,7,8]$\n",
        "\n",
        "Se \"almacena\" la mediana de cada grupo:\n",
        "\n",
        "- $[3,6]$\n",
        "\n",
        "Se aplica $PivotSelection$ para encontrar la mediana, por debajo, de las medianas obteniendo como pivote, al $3$, con este pivote se realiza la partición:\n",
        "\n",
        "- $[1,2,3,10,9,4,5,8,7,6]$\n",
        "\n",
        "Se busca el *menor arreglo al pivote* y se observa que este se encuentra en la parte izquierda, repitiendo el proceso por recursividad:\n",
        "\n",
        "- $[1,2]$\n",
        "\n",
        "Como el arreglo es menor a $5$, tan solo se ordena y se busca la mediana, con esto se obtiene que la mediana es $2$.\n",
        "\n",
        "- $[1] - [2]$\n",
        "\n",
        "Encontrado el valor menor que seria $1$.\n",
        "\n",
        "\n",
        "\n",
        "\n",
        "\n",
        "\n"
      ],
      "metadata": {
        "id": "Gb40ue6hXKpO"
      }
    },
    {
      "cell_type": "markdown",
      "source": [
        "#2.3. Código"
      ],
      "metadata": {
        "id": "IXq_aMF2nvmE"
      }
    },
    {
      "cell_type": "code",
      "source": [
        "import random\n",
        "\n",
        "aux = 0\n",
        "\n",
        "def insertion_sort(A):\n",
        "  global aux\n",
        "  for i in range(1,len(A)):\n",
        "    key = A[i]\n",
        "    k = i-1\n",
        "    while k >= 0 and A[k] > key:\n",
        "      A[k+1] = A[k]\n",
        "      k = k-1\n",
        "      aux += 1\n",
        "    A[k+1] = key\n",
        "  return A \n",
        "\n",
        "def partition(A,p,r,x):\n",
        "  for i in range(p,r):\n",
        "    if(A[i] == x):\n",
        "      A[r], A[i] = A[i], A[r]\n",
        "      break\n",
        "  pivot = A[r] \n",
        "  i = p \n",
        "  for j in range(p,r): \n",
        "    if(A[j] <= pivot): \n",
        "      A[j], A[i] = A[i], A[j]  \n",
        "      i += 1 \n",
        "  A[i], A[r] = A[r], A[i] \n",
        "  return i\n",
        "\n",
        "def pivotSelection(A,l,r):\n",
        "  cut = [A[i:i + 5] for i in range(0,len(A),5)] \n",
        "  medianas = [insertion_sort(sublista)[len(sublista)//2] for sublista in cut] \n",
        "  if(len(medianas) <= 5): \n",
        "    pivote = insertion_sort(medianas)[len(medianas)//2]\n",
        "  else:\n",
        "    pivote = pivotSelection(medianas, 0, len(medianas)//2)\n",
        "  return partition(A,l,r,pivote) \n",
        "\n",
        "def select(A,l,r,k):\n",
        "  if((k > 0) and (k <= r - l + 1)):\n",
        "    q = pivotSelection(A, l, r) \n",
        "    if(q-l ==  k-1):\n",
        "      return A[q]\n",
        "    if(q - l > k - 1):\n",
        "      return select(A, l, q - 1, k)\n",
        "    return select (A, q+1, r, k - q + l - 1)\n",
        "\n",
        "n = random.randint(6,10)\n",
        "arreglo = random.sample(range(1,100),n)\n",
        "k = random.randint(1,n)\n",
        "print(\"Arreglo de entrada: \",arreglo)\n",
        "print(\"k = \",k)\n",
        "element = select(arreglo, 0, len(arreglo)-1, k)\n",
        "print(\"k-ésimo menor elemento del arreglo: \",element)\n",
        "print(\"Número de comparaciones: \",aux)"
      ],
      "metadata": {
        "colab": {
          "base_uri": "https://localhost:8080/"
        },
        "id": "R2DSUBCwBoGA",
        "outputId": "b891d565-909b-489b-9de5-a601271e2729"
      },
      "execution_count": null,
      "outputs": [
        {
          "output_type": "stream",
          "name": "stdout",
          "text": [
            "Arreglo de entrada:  [8, 2, 85, 26, 84, 92]\n",
            "k =  2\n",
            "k-ésimo menor elemento del arreglo:  8\n",
            "Número de comparaciones:  8\n"
          ]
        }
      ]
    },
    {
      "cell_type": "markdown",
      "source": [
        "#3. Propiedades del Algoritmo\n",
        "\n",
        "#3.1. Correctitud del algoritmo\n",
        "\n",
        "Para probar la correctitud del algoritmo, se usa inducción. Se plantea un caso base y en base a este probaremos que se cumple la correctitud para todo el algoritmo.\n",
        "\n",
        "- Caso base\n",
        "\n",
        "$Select$ recibe un arreglo $A$ de $n$ elementos y un índice $i$, retornando el valor del $i-esimo$ elemento más pequeño de A.\n",
        "\n",
        "Se escoge $n=1$, se cumple la declaración pues al ser un elemento único el índice $i$ este solo vale 1, que corresponde al único elemento del arreglo.\n",
        "\n",
        "\n",
        "- Caso inductivo\n",
        "\n",
        "El arreglo entra en $pivotSelection$, donde existirán 3 conjuntos, los que contendran los elementos menores al pivote, el pivote y los elementos mayores al pivote.\n",
        "\n",
        "$Partition$ ubica el pivote en su posición correcta, por lo que si la posición del pivote coincide con el índice $i$, se encontraria la solución. Si el valor resulta ser menor, se buscará el $i-esimo$ en el conjunto que contiene a los elementos menores que el pivote, en caso contrario, se buscará en el conjunto de mayores.\n",
        "\n",
        "Ya que $partition$ esta en llamadas recursivas se continua realizando particiones y ubicando a los elementos en los distintos conjuntos que les corresponda. Cuando el tamaño de uno de estos subarreglos sea 1 se habrá encontrado el i-eimo elemento.\n",
        "\n",
        "#3.2. Tiempo de ejecución\n",
        "\n",
        "La complejidad de este algoritmo corresponde a:\n",
        "\n",
        "> $T(n) = T(n/5) + T(7n/10) + O(n)$\n",
        "\n",
        "Donde dividir el arreglo en n/5 grupos toma una complejidad de $O(n)$. Para buscar la mediana de forma recursiva toma un tiempo de T(n/5). Particionar el arreglo según la mediana tiene una complejidad de O(n). En el peor de los casos, 3n/10 son los menores, pero en este caso se utilizará la parte compuesto por el 7n/10 del conjunto.\n",
        "\n",
        "Por inducción matemática quedaría algo asi:\n",
        "\n",
        "$$T(n) =$$\\begin{cases}\n",
        "  O(1)  & \\\\\n",
        "  T(\\frac{n}{5}) + T(\\frac{7n}{10}+6) + O(n) & \\\n",
        "\\end{cases}\n",
        "\n",
        "> $T(n) ≤ a*n + T(7n/10) + T(n/5)$\n",
        ">\n",
        "> $c * n ≤ cn/5 + 7cn/10 + a*n$\n",
        ">\n",
        "> $c*n ≤ 9cn/10 + a*n$\n",
        ">\n",
        "> $c*n ≤ 9*(cn/10) + a*n$\n",
        ">\n",
        "> $cn/10 ≤ a*n$\n",
        ">\n",
        "> $T(n) = O(n)$\n",
        "\n",
        "Concluyendo así que el tiempo de ejecución del algoritmo es lineal, es decir $O(n)$."
      ],
      "metadata": {
        "id": "hCdlagffZAH8"
      }
    },
    {
      "cell_type": "markdown",
      "source": [
        "#4. Experimentos"
      ],
      "metadata": {
        "id": "UMEbhsgMWkXe"
      }
    },
    {
      "cell_type": "markdown",
      "source": [
        "#4.1. Número de comparaciones\n",
        "\n",
        "Considerando el algoritmo Select, compararemos:\n",
        "\n",
        "- Cantidad de comparaciones del peor caso calculadas matemáticamente de $O(n)$\n",
        "- Cantidad de comparaciones en el mejor caso de $O(n)$ \n",
        "- Cantidad de comparaciones entre entradas ordenadas aleatoriamente.\n",
        "\n",
        "Esto para arreglos de tamaño $n$ entre 5 y 99. Los arreglos aleatorios serán llenados con números entre 1 y 100."
      ],
      "metadata": {
        "id": "ZKBnPyJ2GjeY"
      }
    },
    {
      "cell_type": "markdown",
      "source": [
        "#4.1.1. Mejor y peor caso teórico"
      ],
      "metadata": {
        "id": "PPvAiPgFX4Uc"
      }
    },
    {
      "cell_type": "code",
      "source": [
        "import matplotlib.pyplot as plt\n",
        "import math\n",
        "import random\n",
        "\n",
        "x = [n for n in range(5,100)]\n",
        "y1 = [n for n in range(5,100)] #Peor caso\n",
        "y2 = [n for n in range(5,100)] #Mejor caso\n",
        "y = []\n",
        "\n",
        "for n in range(5, 100):\n",
        "  comparisons = 0\n",
        "  array = random.sample(range(1,100), n)\n",
        "  k = random.randint(1,n)\n",
        "  elemento = select(array, 0, len(array)-1, k)\n",
        "  y.append(comparisons)\n",
        "\n",
        "plt.plot(x,y)\n",
        "plt.plot(x,y1)\n",
        "plt.plot(x,y2)\n",
        "plt.legend([\"Select\",\"Peor caso teórico\",\"Mejor caso teórico\"])\n",
        "\n",
        "plt.xlabel(\"n\")\n",
        "plt.ylabel(\"Número de comparaciones\")\n",
        "plt.show()"
      ],
      "metadata": {
        "colab": {
          "base_uri": "https://localhost:8080/",
          "height": 279
        },
        "id": "G29DAyCAWpGP",
        "outputId": "30d335dd-40b3-4e3f-e735-96d0fc2a17a7"
      },
      "execution_count": null,
      "outputs": [
        {
          "output_type": "display_data",
          "data": {
            "text/plain": [
              "<Figure size 432x288 with 1 Axes>"
            ],
            "image/png": "[encoded data removed]"
          },
          "metadata": {
            "needs_background": "light"
          }
        }
      ]
    },
    {
      "cell_type": "markdown",
      "source": [
        "#4.1.1. Análisis del experimento:\n",
        "\n",
        "Se puede observar que el algoritmo estudiado se comporta de forma muy variable, aunque manteniendo una cierta linealidad al momento de aumentar el número de comparaciones, acercándose tanto a la representación del peor como mejor caso teórico, esto se puede deber a la aleatoridad de los números o el uso de $Insertion Sort$ como algoritmo de ordenamiento."
      ],
      "metadata": {
        "id": "oXm9WCeMG_zo"
      }
    },
    {
      "cell_type": "markdown",
      "source": [
        "#4.2. Tiempo de ejecución de Select vs R-Select\n",
        "\n",
        "Se evaluarán los tiempos de ejecución de Select y Randomized Select, el cual funciona de manera similar, pero con el uso de un pivote aleatorio, este ultimo posee un peor caso teórico de $O(n^2)$."
      ],
      "metadata": {
        "id": "ugAhUO-OHa3u"
      }
    },
    {
      "cell_type": "code",
      "source": [
        "def partition_end(A, p, r):\n",
        "  pivot = A[r]\n",
        "  i = p \n",
        "  for j in range(p,r): \n",
        "    if A[j] <= pivot:\n",
        "      A[j], A[i] = A[i], A[j] \n",
        "      i+=1\n",
        "  A[i], A[r] = A[r], A[i]\n",
        "  return i\n",
        "\n",
        "def randomizedPartition(A, p, r):\n",
        "  i = random.randint(p,r)\n",
        "  A[r], A[i] = A[i], A[r]\n",
        "  return partition_end(A, p, r)\n",
        "\n",
        "def randomizedSelect(A, p, r, k):\n",
        "  if p == r:\n",
        "    return A[p]\n",
        "  q = randomizedPartition(A, p, r)\n",
        "  i = q - p + 1\n",
        "  if (i == k):\n",
        "    return A[q]\n",
        "  elif k < i:\n",
        "    return randomizedSelect(A, p, r-1, k)\n",
        "  else:\n",
        "    return randomizedSelect(A, q+1, r, k-i)"
      ],
      "metadata": {
        "id": "G6M6wtEiHs4u"
      },
      "execution_count": null,
      "outputs": []
    },
    {
      "cell_type": "code",
      "source": [
        "import random\n",
        "import datetime\n",
        "from timeit import repeat\n",
        "\n",
        "x1 = []; y1 = []; y2 = []\n",
        "verbose = False\n",
        "\n",
        "for n in range(5, 500):\n",
        "  array = random.sample(range(1,1000), n)\n",
        "  k = random.randint(1,n)\n",
        "\n",
        "  r = repeat(setup=\"from __main__ import select\", stmt = f\"select({array},{0},{len(array)-1},{k})\", repeat = 1, number = 10)\n",
        "  y1.append(r)\n",
        "  t = repeat(setup=\"from __main__ import randomizedSelect\", stmt = f\"randomizedSelect({array},{0},{len(array)-1},{k})\", repeat = 1, number = 10)\n",
        "  y2.append(t)\n",
        "\n",
        "  x1.append(n)\n",
        "\n",
        "plt.plot(x1,y1)\n",
        "plt.plot(x1,y2)\n",
        "plt.legend([\"Select\",\"R-Select\"])\n",
        "\n",
        "plt.xlabel(\"n\")\n",
        "plt.ylabel(\"Tiempo en ms\")\n",
        "plt.show()"
      ],
      "metadata": {
        "colab": {
          "base_uri": "https://localhost:8080/",
          "height": 279
        },
        "id": "AwKPRmtAHvJ1",
        "outputId": "35f4dd8f-037c-4940-9dc2-63630eb9f5d7"
      },
      "execution_count": null,
      "outputs": [
        {
          "output_type": "display_data",
          "data": {
            "text/plain": [
              "<Figure size 432x288 with 1 Axes>"
            ],
            "image/png": "[encoded data removed]"
          },
          "metadata": {
            "needs_background": "light"
          }
        }
      ]
    },
    {
      "cell_type": "markdown",
      "source": [
        "#4.2.1 Análisis del experimento:\n",
        "\n",
        "Se observa que en un inicio $R-Select$ es más eficiente que $Select$, ejecutándose en una menor cantidad de tiempo. Sin embargo, a medida que va aumentando la cantidad de elementos esta eficiencia empieza a desaparecer y termina comportándose similiar a $Select$. Esto se debe principalmente a la selección del pivote, ya que es aleatorio."
      ],
      "metadata": {
        "id": "DZBFlebUIfSo"
      }
    }
  ]
}