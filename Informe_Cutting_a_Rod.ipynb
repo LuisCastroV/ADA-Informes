{
  "nbformat": 4,
  "nbformat_minor": 0,
  "metadata": {
    "colab": {
      "provenance": [],
      "collapsed_sections": [],
      "authorship_tag": "ABX9TyN8ey3gdTVNJ+4ayghKM0Dt",
      "include_colab_link": true
    },
    "kernelspec": {
      "name": "python3",
      "display_name": "Python 3"
    },
    "language_info": {
      "name": "python"
    }
  },
  "cells": [
    {
      "cell_type": "markdown",
      "metadata": {
        "id": "view-in-github",
        "colab_type": "text"
      },
      "source": [
        "<a href=\"https://colab.research.google.com/github/LuisCastroV/ADA-Informes/blob/main/Informe_Cutting_a_Rod.ipynb\" target=\"_parent\"><img src=\"https://colab.research.google.com/assets/colab-badge.svg\" alt=\"Open In Colab\"/></a>"
      ]
    },
    {
      "cell_type": "markdown",
      "source": [
        "# 1. Problema de corte de varillas (*Programación dinámica*)\n",
        "---\n",
        "**Entrada**: Largo de varilla $n$, vector de precios por cada medida $i=1..n$\n",
        "\n",
        "**Salida**:  Retorno máximo $r_n$ que se puede obtener cortando la varilla y vendiendo las partes.\n",
        "\n",
        "---\n",
        "**Imagen referencial del corte de varillas:**\n",
        "\n",
        "![image](https://miro.medium.com/max/720/1*b7bv3tR9kUrcVtvWeXFv4A.png)\n"
      ],
      "metadata": {
        "id": "oTgZHHkkdhmZ"
      }
    },
    {
      "cell_type": "markdown",
      "source": [
        "# 2. Descripción del algoritmo"
      ],
      "metadata": {
        "id": "f9k7aB2FmbZM"
      }
    },
    {
      "cell_type": "markdown",
      "source": [
        "El problema suponiendo que una pieza de longitud $i$ tiene un precio $pi$. Si la solución óptima corta la barra en $k$ piezas de longitudes $i_1, i_2, ... , i_k$, tales que $n = i_1 + i_2 + ... + i_k$, entonces el ingreso por una barra de longitud $n$ es: $r_n = p_i1+p_i2+...+p_it$\n",
        "\n",
        "Por lo tanto, el valor óptimo se puede encontrar en términos de varillas más cortas al observar que si hacemos un corte óptimo de longitud $i$ (por lo tanto, también obtenemos una pieza de longitud $n-i$), ambas piezas deben ser óptimas (y luego estas piezas más pequeñas serán posteriormente cortadas). De lo contrario, podríamos hacer un corte diferente que produciría un mayor ingreso contradiciendo la suposición de que el primer corte fue óptimo. Por lo tanto, podemos escribir el ingreso óptimo en términos del primer corte como el máximo de la barra entera $(p_n)$ o el ingreso de las dos piezas más cortas después de un corte, es decir: $r_n = max(p_n,r_1+r_n-1,....,r_n-1+r_1)$\n",
        "\n",
        "Si asumimos que no cortamos más la primera parte (dado que debe haber al menos una parte en la solución óptima) y solo (posiblemente) cortamos la segunda parte, podemos reescribir la fórmula de ingresos de subestructura óptima recursivamente como: $r_n = max(p_i+r_n-i)$ $--->$ $1 <= i <= n$\n",
        "\n",
        "Donde repetimos el proceso para cada pieza subsiguiente de $r_n-i$. Por lo tanto, podemos implementar este enfoque utilizando una rutina recursiva simple.\n",
        "\n",
        "Sin embargo, si podemos almacenar las soluciones a los problemas más pequeños de forma ascendente en lugar de volver a calcularlos, el tiempo de ejecución puede mejorar drásticamente. Para implementar este enfoque, simplemente resolvemos los problemas comenzando por longitudes más pequeñas y almacenamos estos ingresos óptimos en una matriz. Luego, al evaluar longitudes más largas, simplemente buscamos estos valores para determinar el ingreso óptimo para la pieza más grande. "
      ],
      "metadata": {
        "id": "pQk3s78hRrOQ"
      }
    },
    {
      "cell_type": "markdown",
      "source": [
        "#2.1. Descripción del algoritmo recursivo\n",
        "\n",
        "Recibe un arreglo de precios y su tamaño $n$ de la varilla a cortar.\n",
        "\n",
        "- Si $n$ es menor o igual a $0$, se retorna $0$, ya que es el caso base.\n",
        "\n",
        "- $maxValor$ ira almacenando los máximos retornos que se vaya encontrando en cada llamada recursiva.\n",
        "\n",
        "- Se recorre todo el arreglo de precios y en cada posición buscamos cuál es el mayor retorno en dicha iteración. Esta compara $maxValor$ con el precio del corte en esa posición más una llamada recursiva de la función $rodCut$, la cual calculará cada máximo retorno anterior de cada posición. Si $costo$, que es el valor anteriormente comentado es mayor a $maxvalor$, entonces $maxValor=costo$.\n",
        "- Finalmente, solo retornamos el máximo retorno encontrado."
      ],
      "metadata": {
        "id": "jH6jsYc6scmb"
      }
    },
    {
      "cell_type": "markdown",
      "source": [
        "#2.1.1. Código recursivo de \"Cutting a rod\""
      ],
      "metadata": {
        "id": "bXywcyn2FWMe"
      }
    },
    {
      "cell_type": "code",
      "source": [
        "comparacion=0\n",
        "\n",
        "def rodCut(A,n):\n",
        "  global comparacion\n",
        "  if(n<=0):\n",
        "    return 0\n",
        "  maxValor=-555555\n",
        "\n",
        "  #Uno por uno, divide la barra dada de longitud `n` en dos partes\n",
        "  #de longitud (1, n-1), (2, n-2), (3, n-3), … ,(n-1, 1), (n, 0)\n",
        "  #y toma el máximo\n",
        "\n",
        "  for i in range(1,n+1):\n",
        "\n",
        "    #Varilla de longitud \"i\" tiene un costo \"precio[i-1]\n",
        "\n",
        "    costo=A[i-1] + rodCut(A,n-i)\n",
        "    if(costo>maxValor):\n",
        "      maxValor=costo\n",
        "      comparacion+=1\n",
        "  return maxValor\n",
        "\n",
        "\n",
        "precio=[1, 5, 8, 9, 10, 17, 17, 20]\n",
        "largo=len(precio)\n",
        "maxigan=rodCut(precio,largo)\n",
        "print(\"La máxima ganancia es:\",maxigan)\n",
        "print(\"Cantidad de comparaciones:\",comparacion)"
      ],
      "metadata": {
        "colab": {
          "base_uri": "https://localhost:8080/"
        },
        "id": "s5_4FxNU-vuj",
        "outputId": "48c2cfc1-a11d-4e52-bb1d-8e2e0492192d"
      },
      "execution_count": 1,
      "outputs": [
        {
          "output_type": "stream",
          "name": "stdout",
          "text": [
            "La máxima ganancia es: 22\n",
            "Cantidad de comparaciones: 195\n"
          ]
        }
      ]
    },
    {
      "cell_type": "markdown",
      "source": [
        "#2.2. Descripción del algoritmo bottom-up "
      ],
      "metadata": {
        "id": "PFUMjKV8YkmV"
      }
    },
    {
      "cell_type": "markdown",
      "source": [
        "Recibe un arreglo de precios y su tamaño $n$ de la varilla a cortar.\n",
        "\n",
        "- Se crea un arreglo $r$ y $s$, en el primero se almacenarán las ganancias máximas de cada iteración y en el segundo los cortes necesarios para el máximo, donde $r[0] = 0$.\n",
        "\n",
        "- Luego, se recorre el arreglo de precios desde la posición $1$ hasta $n+1$, a la par se recorre un subarreglo $j$ que va del $1$ a $i+1$ donde se compara el valor $q$ con $temp$, si $q$ es menor a $temp$, $q$ = $temp$ y $s[i]$ = $j$ y el mayor se guardará en la posición $r[i]$ .\n",
        "- Finalmente, se retorna la $n$-ésima posición del arreglo $r$."
      ],
      "metadata": {
        "id": "AB7N4NtqJ-Q-"
      }
    },
    {
      "cell_type": "markdown",
      "source": [
        "#2.2.1. Código bottom-up de \"Cutting a Rod\""
      ],
      "metadata": {
        "id": "QQFRaRwlm5cs"
      }
    },
    {
      "cell_type": "code",
      "source": [
        "comparacion=0\n",
        "\n",
        "def bottom_up(p, n):\n",
        "    global comparacion\n",
        "    #Tome una lista p de precios y la longitud de la barra n y devuelva las listas r y s.\n",
        "    #r[i] es el ingreso máximo que puede obtener y s[i] es la duración del\n",
        "    #primera pieza a cortar de una varilla de longitud i.\n",
        "    r = [-1]*(n + 1)\n",
        "    r[0] = 0\n",
        "    s = [-1]*(n + 1)\n",
        "    for i in range(1, n + 1):\n",
        "        q = -1\n",
        "        for j in range(1, i + 1):\n",
        "            temp = p[j] + r[i - j]\n",
        "            if q < temp:\n",
        "                q = temp\n",
        "                s[i] = j\n",
        "                comparacion+=1\n",
        "        r[i] = q\n",
        "    return r, s\n",
        "\n",
        "p=[None,1, 5, 8, 9, 10, 17, 17, 20]\n",
        "n=len(p)-1\n",
        "maximgan, corte = bottom_up(p, n)\n",
        "print(\"La máxima ganancia es:\",maximgan[n])\n",
        "print(\"Cantidad de comparaciones:\",comparacion)\n",
        "print(\"La varilla debe cortarse en longitudes de: \", end='')\n",
        "while n > 0:\n",
        "    print(corte[n], end=' ')\n",
        "    n -= corte[n]"
      ],
      "metadata": {
        "colab": {
          "base_uri": "https://localhost:8080/"
        },
        "id": "Z2jqdqzO6bXW",
        "outputId": "8899dd4f-741c-4eef-9b91-c5a460e0ef31"
      },
      "execution_count": 2,
      "outputs": [
        {
          "output_type": "stream",
          "name": "stdout",
          "text": [
            "La máxima ganancia es: 22\n",
            "Cantidad de comparaciones: 16\n",
            "La varilla debe cortarse en longitudes de: 2 6 "
          ]
        }
      ]
    },
    {
      "cell_type": "markdown",
      "source": [
        "# 3. Correctitud\n",
        "\n",
        "**↪ Hipótesis:** El algoritmo con técnica Bottom Up tiene como salida el valor que al cortar una varilla de largo $n$ que maximize el precio. Aunque esta no sea recursiva, se demostrará con **inducción matemática**:\n",
        "\n",
        "**↪ Caso Base:** Cuando $n = 0$, el algoritmo retorna 0, ya que se asume que ese valor es el máximo ya que siempre será el mismo, por lo que $P(0)$ se cumple.\n",
        "\n",
        "**↪ Caso Inductivo:** Como ya comprobamos que nuestro caso base se cumple, debemos comprobar para lo demás casos donde $m < n$ y se utilizan las soluciones anteriores. Por lo que en cada iteración nos aseguramos que se almacenará siempre el máximo valor en el arreglo.\n",
        "\n",
        "Ya que para cada subproblema $j$ se revisará desde $i$ hasta $j$ el valor máximo, donde si $aux < tmp$, $aux = price[i] + r[j-i-1]$ en caso contrario conserva su valor. Así calculando el retorno máximo para $r[j]$\n",
        "\n",
        "Cuando llegue al final de la iteración es decir $j = n$ se habrá calculado todos los cortes posibles y almacenado el máximo de cada uno, por lo que podemos concluir que el **algoritmo es correcto**."
      ],
      "metadata": {
        "id": "1w0COS99n-KG"
      }
    },
    {
      "cell_type": "markdown",
      "source": [
        "#4. Tiempo de ejecución\n",
        "\n",
        "#Teorema: correctitud de Cut Rod con la técnica bottom-up\n",
        "\n",
        "Este algoritmo se implementa a través de la programación dinámica, donde recibe un vector de precios $p = [p_1, p_2,...,p_n]$ y el largo de la varilla $n$. Donde retorna el máximo valor para obtener la mayor ganancia comparando todas las posibilidades de cortes existentes. Donde debemos comprobar que la complejidad de este algoritmo corresponde a $O(n^2)$.\n",
        "\n",
        "#Comprobación\n",
        "\n",
        "> $T(n) = ∑ (j = 1 → n) + ∑ (i = 1 → j)$ \n",
        "\n",
        "- La primera sumatoria corresponde al primer for que va desde 1 hasta n.\n",
        "\n",
        "- La segunda sumatoria corresponde al segundo for que se encuentra en el algoritmo y va desde 1 hasta j\n",
        "\n",
        "Por lo tanto, desarrollando, la primera sumatoria quedaria con complejidad $O(n)$ ya que recorre el arreglo completo y la segunda sumatoria quedaría por propiedad $n(n-1)/2$.\n",
        "\n",
        "> $T(n) = O(n) + n^2-n/2$\n",
        "\n",
        "Aplicando la notación O-grande a toda la fórmula nos quedaría\n",
        "\n",
        "> $T(n) = O(n) + O(n^2) ⇒ O(n^2)$\n",
        "\n",
        "Así concluyendo que el teorema propuesto al comienzo es correcto."
      ],
      "metadata": {
        "id": "mW8xyysboKW8"
      }
    },
    {
      "cell_type": "markdown",
      "source": [
        "#5. Experimento"
      ],
      "metadata": {
        "id": "RjGpjLwAQeaN"
      }
    },
    {
      "cell_type": "markdown",
      "source": [
        "#5.1. Comparación del tiempo de ejecución recursivo v/s bottom-up."
      ],
      "metadata": {
        "id": "SnnlYrqQSnh1"
      }
    },
    {
      "cell_type": "code",
      "source": [
        "import random\n",
        "\n",
        "def cutrod_instance_generator(N):\n",
        "  A = []\n",
        "  prev = 0\n",
        "  for i in range(N):\n",
        "    r=random.randint(0,10)\n",
        "    A.append(prev+r)\n",
        "    prev+=r\n",
        "  return A"
      ],
      "metadata": {
        "id": "taQ3IzXVMrBG"
      },
      "execution_count": 3,
      "outputs": []
    },
    {
      "cell_type": "code",
      "source": [
        "import matplotlib.pyplot as plt\n",
        "import datetime\n",
        "from timeit import repeat\n",
        "import random\n",
        "\n",
        "x=[]; y=[]\n",
        "x1=[]; y1=[]\n",
        "\n",
        "for n in range(5,20):\n",
        "\n",
        "  p = cutrod_instance_generator(n)\n",
        "  a = p\n",
        "  verbose = False\n",
        "\n",
        "  #la función repeat está ejecutando 20 veces cada algoritmo con el arreglo a y retorna el mejor tiepo obtenido para cada uno.\n",
        "  t = repeat(setup=\"from __main__ import bottom_up\", stmt=f\"bottom_up({p},{4})\", repeat=1, number=10)\n",
        "\n",
        "  x.append(n)\n",
        "  y.append(t)\n",
        "  cont = 0\n",
        "\n",
        "  t = repeat(setup=\"from __main__ import rodCut\", stmt=f\"rodCut({a},{4})\", repeat=1, number=10)\n",
        "\n",
        "  x1.append(n)\n",
        "  y1.append(t)\n",
        "  cont = 0\n",
        "\n",
        "plt.plot(x,y)\n",
        "plt.plot(x1,y1)\n",
        "plt.legend([\"Bottom-Up\", \"Recursivo\"])\n",
        "\n",
        "plt.xlabel('Tamaño del problema')\n",
        "plt.ylabel('Tiempo en ms')\n",
        "plt.show()"
      ],
      "metadata": {
        "colab": {
          "base_uri": "https://localhost:8080/",
          "height": 279
        },
        "id": "4uYbJMJwMR8f",
        "outputId": "a5baaa7a-7b1e-4d55-aa88-d5ac519d6f7a"
      },
      "execution_count": 5,
      "outputs": [
        {
          "output_type": "display_data",
          "data": {
            "text/plain": [
              "<Figure size 432x288 with 1 Axes>"
            ],
            "image/png": "[encoded data removed]"
          },
          "metadata": {
            "needs_background": "light"
          }
        }
      ]
    },
    {
      "cell_type": "markdown",
      "source": [
        "Se puede observar que entre más grande sean los problemas a resolver, la implementación \"recursiva\" aumenta en comparación al \"bottom up\"."
      ],
      "metadata": {
        "id": "eJkf9r7jSFj3"
      }
    }
  ]
}