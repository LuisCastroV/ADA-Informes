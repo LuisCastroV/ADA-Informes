{
  "nbformat": 4,
  "nbformat_minor": 0,
  "metadata": {
    "colab": {
      "provenance": [],
      "collapsed_sections": [],
      "authorship_tag": "ABX9TyPDgSiMElum4qxD8PefoOMl",
      "include_colab_link": true
    },
    "kernelspec": {
      "name": "python3",
      "display_name": "Python 3"
    },
    "language_info": {
      "name": "python"
    }
  },
  "cells": [
    {
      "cell_type": "markdown",
      "metadata": {
        "id": "view-in-github",
        "colab_type": "text"
      },
      "source": [
        "<a href=\"https://colab.research.google.com/github/LuisCastroV/ADA-Informes/blob/main/Informe_8_Optimal_BST.ipynb\" target=\"_parent\"><img src=\"https://colab.research.google.com/assets/colab-badge.svg\" alt=\"Open In Colab\"/></a>"
      ]
    },
    {
      "cell_type": "markdown",
      "source": [
        "# 1. Problema de Optimal Binary Search Tree *(Optimal BST)*"
      ],
      "metadata": {
        "id": "m9-EiyRqIN0u"
      }
    },
    {
      "cell_type": "markdown",
      "source": [
        "---\n",
        "**Entrada**: Secuencia ordenada de $n$ claves: $K=\\left<k_1,k_2,...,k_n\\right>$. Cada clave $k_i$ tiene una probabilidad $p_i$ de ser buscada. Existen **claves ficticias $d_i$** que representan **búsquedas fallidas** con $k_{i-1} \\leq d_i \\leq k_i$. Cada clave $d_i$ tiene una probabilidad $q_i$ de ser buscada. La suma de probabilidades debe ser uno, es decir: $\\sum\\limits_{i=1}^n p_i + \\sum\\limits_{j=0}^n q_i = 1$\n",
        "\n",
        "**Salida**: Construir un **árbol de búsqueda óptimo**, es decir, un árbol que **minimice la cantidad esperada de nodos visitados (costo esperado)**.\n",
        "\n",
        "---\n",
        "**Imagen referencial del árbol binario de búsqueda óptimo:**\n",
        "\n",
        "![image](https://qph.cf2.quoracdn.net/main-qimg-75a50568e29dd3ddbebf4fa80b4e85d8-pjlq)\n",
        "\n",
        "**Breve información:** En informática, un árbol de búsqueda binario óptimo, a veces llamado árbol binario de peso equilibrado, es un árbol de búsqueda binario que proporciona el tiempo de búsqueda más pequeño posible (o tiempo de búsqueda esperado) para una secuencia dada de accesos (o probabilidades de acceso). Los BST óptimos generalmente se dividen en dos tipos: estáticos y dinámicos.\n",
        "\n",
        "- En problemas de optimización estática, el árbol no se puede modificar una vez que se ha construido. En este caso, existe una disposición particular de los nodos del árbol que proporciona el menor tiempo de búsqueda esperado para las probabilidades de acceso dadas.\n",
        "\n",
        "- En problemas de optimización dinámica, el árbol se puede modificar en cualquier momento, normalmente permitiendo rotaciones de árboles. Se considera que el árbol tiene un cursor que comienza en la raíz que puede mover o usar para realizar modificaciones."
      ],
      "metadata": {
        "id": "mWyL9Bmte6ci"
      }
    },
    {
      "cell_type": "markdown",
      "source": [
        "# 2. Descripción del algoritmo"
      ],
      "metadata": {
        "id": "sDWT1vJ3DA-o"
      }
    },
    {
      "cell_type": "markdown",
      "source": [
        "Dada una matriz ordenada *mat[0.. n-1]* de claves de búsqueda y una matriz *freq[0.. n-1]* de conteos de frecuencia, donde freq[i] es el número de búsquedas de *keys[i]*. Se construye un árbol de búsqueda binaria de todas las claves de modo que el costo total de todas las búsquedas sea lo más pequeño posible.\n",
        "Primero definamos el costo de un BST. El costo de un nodo BST es el nivel de ese nodo multiplicado por su frecuencia. El nivel de la raíz es 1.\n",
        "\n",
        "#2.1. Recursivo\n",
        "\n",
        "El costo óptimo para *freq[i..j]* se puede calcular recursivamente usando la siguiente fórmula. \n",
        "\n",
        "$optcost(i,j)$ $=$ $\\sum\\limits_{k=i}^j freq[k] + min_{r=i}^j[optcost(i,r-1)+optcost(r+1,j)]$\n",
        "       \n",
        "Necesitamos calcular $optCost(0, n-1)$ para encontrar el resultado. La idea de la fórmula anterior es simple, uno por uno probamos todos los nodos como raíz *(r varía de i a j en el segundo término)*. Cuando hacemos que el nodo $r$ sea raíz, calculamos recursivamente el costo óptimo de $i$ a $r-1$ y de $r+1$ a $j$. Agregamos la suma de las frecuencias de $i$ a $j$ *(ver el primer término en la fórmula anterior)*\n",
        "\n",
        "La razón para sumar la frecuencias de $i$ a $j$, se puede dividir en 2 partes, una es la frecuencia $[r]$ $+$ la suma de las frecuencias de todos los elementos de $i$ a $j$ excepto $r$. El término $freq[r]$ se agrega porque va a ser raiz y eso significa nivel de 1, entonces $freq[r]*1=freq[r]$. Ahora viene la parte real, estamos sumando las frecuencias de los elementos restantes porque cuando tomamos $r$ como raíz, todos los elementos que no sean van 1 nivel por debajo del calculado en el subproblema, para calcular $optcost(i,j)$ asumimos que $r$ se toma como raíz y calculamos el mínimo de $opt(i,r-1)+opt(r+1,j)$ para todos $i<=r<=j$. Aquí, para cada subproblema, estamos eligiendo un nodo como raíz. Pero en realidad el nivel de la raíz del subproblema y todos sus nodos descendientes serán 1 mayor que el nivel de la raíz del problema principal.\n",
        "\n",
        "#2.1.1. Código Recursivo\n",
        "\n"
      ],
      "metadata": {
        "id": "h8akG8bOQf7C"
      }
    },
    {
      "cell_type": "code",
      "source": [
        "#Función recursiva para calcular costo del árbol de búsqueda binario óptimo\n",
        "def optCost(freq, i, j):\n",
        "    #Casos bases\n",
        "    if j < i:     #no hay elementos en el subarreglo\n",
        "        return 0\n",
        "    if j == i:     #un elemento en el subarreglo\n",
        "        return freq[i]\n",
        "    #Obtener la suma de freq[i], freq[i+1], ... freq[j]\n",
        "    fsum = Sum(freq, i, j)\n",
        "    #Inicializar valor mínimo\n",
        "    Min = 999999999999\n",
        "    #Uno por uno considera todos los elementos como raiz y encontrar recursivamente el costo de\n",
        "    #el BST, compare el costo con min y actualice min si es necesario\n",
        "    for r in range(i, j + 1):\n",
        "        cost = (optCost(freq, i, r - 1) +\n",
        "                optCost(freq, r + 1, j))\n",
        "        if cost < Min:\n",
        "            Min = cost\n",
        "    #Devolver valor mínimo\n",
        "    return Min + fsum\n",
        " \n",
        "#Función principal que calcula el mínimo costo de un árbol de búsqueda binaria.\n",
        "#Usa optCost() para encontrar el costo óptimo.\n",
        "def optimalSearchTree(keys, freq, n):\n",
        "  #Se supone que las claves de matriz [] son ordenados en orden creciente. Si las llaves[]\n",
        "  #no está ordenado, luego agregue código para ordenar, y reorganice freq[] en consecuencia.\n",
        "  return optCost(freq, 0, n - 1)\n",
        "\n",
        "#Función de utilidad para obtener la suma de elementos del arreglo freq[i] a freq[j]\n",
        "def Sum(freq, i, j):\n",
        "    s = 0\n",
        "    for k in range(i, j + 1):\n",
        "        s += freq[k]\n",
        "    return s"
      ],
      "metadata": {
        "id": "IUO9dBhIuldt"
      },
      "execution_count": null,
      "outputs": []
    },
    {
      "cell_type": "markdown",
      "source": [
        "#2.2. Programación Dinámica\n",
        "\n",
        "Usamos una matriz auxiliar $cost[n][n]$ para almacenar las soluciones de los subproblemas. $cost[0][n-1]$ mantendrá el resultado final. La idea es que todos los valores de la diagonal deben completarse primero, luego los valores que se encuentran en la línea justo encima de la diagonal. Es decir, primero debemos llenar todos los valores de $costo[i][i]$, luego todos los valores de $costo[i][i+1]$, luego todos los valores de $costo[i][i+2]$. La idea utilizada en la implementación es la misma que el problema de multiplicación de cadenas de matriz, se usa una variable $size$ para la longitud de la cadena e incrementamos $size$, uno por uno. Calculamos el número de columna $j$ usando los valores de $i$ y $size$. \n",
        "\n",
        "#2.2.1. Código Programación Dinámica"
      ],
      "metadata": {
        "id": "tKZ0-JG9dLyh"
      }
    },
    {
      "cell_type": "code",
      "source": [
        "import sys\n",
        "\n",
        "#Función para encontrar el costo óptimo para construir un árbol de búsqueda binaria\n",
        "def findOptimalCostA(freq):\n",
        "    n = len(freq)\n",
        "    #Cost[i][j] almacena el costo óptimo para construir BST desde las claves i a j\n",
        "    cost = [[0] * (n + 1) for _ in range(n + 1)]\n",
        "    #Caso base: el costo es igual a la frecuencia para i = j (clave única)\n",
        "    for i in range(n):\n",
        "        cost[i][i] = freq[i]\n",
        "    #Todos los tamaños de secuencias\n",
        "    for size in range(1, n + 1):\n",
        "        #Todos los puntos de partida de las secuencias\n",
        "        for i in range(n - size + 2):\n",
        "            j = min(i + size - 1, n - 1)\n",
        "            cost[i][j] = sys.maxsize\n",
        "            #Considera cada clave como raíz y calcula el costo óptimo\n",
        "            for r in range(i, j + 1):\n",
        "                total = 0\n",
        "                #Obtener el costo del nodo actual\n",
        "                for k in range(i, j + 1):\n",
        "                    total += freq[k]\n",
        "                #Agregar el costo óptimo del subárbol izquierdo\n",
        "                if r != i:\n",
        "                    total += cost[i][r - 1]\n",
        "                #Agregar el costo óptimo del subárbol derecho\n",
        "                if r != j:\n",
        "                    total += cost[r + 1][j]\n",
        "                #Actualizar la matriz de costos si es necesario\n",
        "                cost[i][j] = min(total, cost[i][j])\n",
        "    #Devolver el costo resultante\n",
        "    return cost[0][n - 1]\n",
        " \n",
        " "
      ],
      "metadata": {
        "id": "L-XVzqw3jkfl"
      },
      "execution_count": null,
      "outputs": []
    },
    {
      "cell_type": "code",
      "source": [
        "import random\n",
        "import numpy as np\n",
        "\n",
        "def optimal_bst_instance_generator(n):\n",
        "    keys = sorted(random.sample(range(1, 100), n))\n",
        "    arr = np.random.random(n*2+1)\n",
        "    arr /= arr.sum()\n",
        "    \n",
        "    p = list(arr[:n]) # Probabilidad de las claves\n",
        "    q = arr[n:] # Probabilidad de las claves ficticias\n",
        "    return keys, p, q\n",
        "\n",
        "keys, p, q = optimal_bst_instance_generator(10)\n",
        "print(\"Arreglo\",keys)\n",
        "print(\"Probabilidad de las claves\",p)\n",
        "print(\"Probabilidad de las claves ficticias\",q)\n",
        "print(\"El costo de BST óptimo (recursivo) es:\",optimalSearchTree(keys, p, len(keys)))\n",
        "print(\"El costo de BST óptimo (programación dinámica) es:\", findOptimalCostA(p))"
      ],
      "metadata": {
        "colab": {
          "base_uri": "https://localhost:8080/"
        },
        "id": "lPzyVdfajhzu",
        "outputId": "f9ca06d9-1af6-4dd4-d2d8-ac03b133442e"
      },
      "execution_count": null,
      "outputs": [
        {
          "output_type": "stream",
          "name": "stdout",
          "text": [
            "Arreglo [3, 31, 32, 45, 46, 65, 78, 90, 95, 99]\n",
            "Probabilidad de las claves [0.07113751683729883, 0.06291578507794292, 0.07418242842812978, 0.06443133159433939, 0.06626018336141257, 0.03528942612083757, 0.0031269493459881266, 0.05967775155443039, 0.03247390983588809, 0.034714067857144086]\n",
            "Probabilidad de las claves ficticias [0.07766887 0.02537725 0.02922801 0.06328359 0.05232402 0.03157918\n",
            " 0.0712387  0.05605258 0.05609215 0.02863491 0.00431139]\n",
            "El costo de BST óptimo (recursivo) es: 1.335189084867885\n",
            "El costo de BST óptimo (programación dinámica) es: 1.335189084867885\n"
          ]
        }
      ]
    },
    {
      "cell_type": "markdown",
      "source": [
        "# 3. Tiempo de ejecución"
      ],
      "metadata": {
        "id": "Cyk8CopFVQ2a"
      }
    },
    {
      "cell_type": "markdown",
      "source": [
        "#3.1 Recursivo"
      ],
      "metadata": {
        "id": "LdruhxgyKsAu"
      }
    },
    {
      "cell_type": "code",
      "source": [
        "#Algoritmo OBSTR (Main)\n",
        "#   Sort A[1..n] and F[1..n] by the keys\n",
        "#   return findOptimalCost(A, F, 1, n)\n",
        "\n",
        "#Algoritmo OBSTR(A, F, lef t, right)\n",
        "\n",
        "# best = +∞\n",
        "# for i = lef t to right . try each as the root\n",
        "#   costlef t = findOptimalCost(A, F, lef t, i − 1)\n",
        "#   costright = findOptimalCost(A, F, i + 1, right)\n",
        "#   costtotal = costlef t + costright + sumatoria de F[v], donde v toma valor de left a right\n",
        "#   if costtotal < costbest\n",
        "#     best = costtotal\n",
        "# return best\n"
      ],
      "metadata": {
        "id": "FIjnd0fwuZCL"
      },
      "execution_count": null,
      "outputs": []
    },
    {
      "cell_type": "markdown",
      "source": [
        "Por ende el tiempo de ejecución es $2^{O(n)}$."
      ],
      "metadata": {
        "id": "jKB3ZxL1vUVC"
      }
    },
    {
      "cell_type": "markdown",
      "source": [
        "#3.2. Programación dinámica\n",
        "\n",
        "Para todas las posibles secuencias contiguas de claves y todas las posibles raíces, calcule los subárboles óptimos:"
      ],
      "metadata": {
        "id": "v_UetdYgVgWq"
      }
    },
    {
      "cell_type": "code",
      "source": [
        "#Algoritmo OBSTDP\n",
        "\n",
        "# for size in 1 .. n loop             Todos los tamaños de secuencias\n",
        "#   for i in 1 .. n-size+1 loop       Todos los puntos de partida de las secuencias.\n",
        "#     j := i + size - 1\n",
        "#     e(i, j) := float'max;\n",
        "#     for r in i .. j loop        -- Todas las raíces de la secuencia ki .. kj\n",
        "#       t := e(i, r-1) + e(r+1, j) + w(i, j)\n",
        "#       if t < e(i, j)  then\n",
        "#         e(i, j) := t\n",
        "#         root(i, j) := r\n",
        "#       end if\n",
        "#     end loop\n",
        "#   end loop\n",
        "# end loop"
      ],
      "metadata": {
        "id": "dAQmZpCkV3n5"
      },
      "execution_count": null,
      "outputs": []
    },
    {
      "cell_type": "markdown",
      "source": [
        "Por ende el tiempo de ejecución es $O(n^3)$."
      ],
      "metadata": {
        "id": "r23foIxuWlwy"
      }
    },
    {
      "cell_type": "markdown",
      "source": [
        "#4. Correctitud"
      ],
      "metadata": {
        "id": "dBIRWHRfXSK5"
      }
    },
    {
      "cell_type": "markdown",
      "source": [
        "Supongamos que se nos da una lista de claves $k1 < k2 < . . . < k_n$, y una lista de probabilidades $p_i$ que cada llave sea buscada. Un árbol de búsqueda binario óptimo es un $BST T$ que minimiza la búsqueda esperada tiempo.\n",
        "\n",
        "$\\sum\\limits_{i=1}^n p_i(depth_T(k_i)+1)$\n",
        "\n",
        "donde la profundidad de la raíz es 0. Supondremos que las claves son los números $1, 2, . . . , n$. Mediante el uso programación dinámica, sin embargo, podemos resolver el problema de manera eficiente.\n",
        "\n",
        "Primero calcular el valor numérico del tiempo de búsqueda esperado para un BST óptimo, y luego consideraremos cómo modificar nuestra solución para encontrar el BST correspondiente. Sea $1 ≤ i ≤ j ≤ n$, y sea $T$ cualquier $BST$ en $i, . . . , J$. Definiremos el costo de $T$:\n",
        "\n",
        "$C(T)$ $=$ $\\sum\\limits_{l=i}^j p_l(depth_T(l)+1)$\n",
        "\n",
        "y los subproblemas:\n",
        "\n",
        "$C_{ij}$ $=$ $min_{T on i,...,j}$$C(T)$\n",
        "\n",
        "\n",
        "El tiempo de búsqueda esperado para el $BST$ óptimo es $C_{1n}$.\n",
        "\n",
        "El costo de $T$ es: \n",
        "\n",
        "$C(T_L)$ $+$ $C(T_R)$ $+$ $\\sum\\limits_{l=i}^j p_l$\n",
        "\n",
        "Y así definimos la recurrencia $C'_{ij}$:\n",
        "\n",
        "$C'_{ij}$ =  \\begin{cases}\n",
        "    min_{i \\leq k \\leq j}\\{C'_{i, k-1} + C'_{k+1, j}\\}+\\sum\\limits_{l=i}^{j} p_l, & \\text{if $i < j$}.\\\\\n",
        "    p_i, & \\text{if $i = j$}.\\\\\n",
        "    0, & \\text{if $i > j$}\n",
        "  \\end{cases}\n",
        "\n",
        "Se pretende que: $C'_{ij}$ =$C_{ij}$\n",
        "\n",
        "La demostración se hace por inducción en $j − i$, el caso base es trivial.\n",
        "\n",
        "$C'_{ij}$ $>=$ $C_{ij}$, según el cálculo anterior $C'_{ij}$ es el costo de algunos BST en $i,....,j$ y $C_{ij}$ es el costo de un BST óptimo.\n",
        "\n",
        "$C'_{ij}$ $<=$ $C_{ij}$, supongamos que la raíz de la BST óptima es $k$. \n",
        "\n",
        "Entonces:\n",
        "\n",
        "$C_{ij}$ = $C_{i, k-1}$ $+$ $C_{k+1, j}$ $+$ $\\sum\\limits_{l=i}^{j} p_l$\n",
        "\n",
        "$>=$ $C'_{i, k-1}$ $+$ $C'_{k+1, j}$ + $\\sum\\limits_{l=i}^{j} p_l$\n",
        "\n",
        "\n",
        "$>=$ $min_{i \\leq k \\leq j}\\{C'_{i, k-1} + C'_{k+1, j}\\}$$+$$\\sum\\limits_{l=i}^{j} p_l$\n",
        "\n",
        "$=$ $C'_{ij}$\n"
      ],
      "metadata": {
        "id": "q1r34FQG3oy0"
      }
    },
    {
      "cell_type": "markdown",
      "source": [
        "#5. Experimento"
      ],
      "metadata": {
        "id": "BNEbbxEoKjk3"
      }
    },
    {
      "cell_type": "code",
      "source": [
        "import matplotlib.pyplot as plt\n",
        "import seaborn as sns\n",
        "import datetime\n",
        "from timeit import repeat\n",
        "import numpy as np\n",
        "\n",
        "x=[];y=[];z=[]\n",
        "\n",
        "for n in range(1,15):\n",
        "  keys, p, q = optimal_bst_instance_generator(n)\n",
        "  w=len(keys)\n",
        "  l = repeat(setup=\"from __main__ import optimalSearchTree\", stmt=f\"optimalSearchTree({keys},{p},{w})\", repeat=1, number=10)\n",
        "  a = repeat(setup=\"from __main__ import findOptimalCostA\", stmt=f\"findOptimalCostA({keys})\", repeat=1, number=10)\n",
        "  x.append(n)\n",
        "  y.append(l)\n",
        "  z.append(a)\n",
        "\n",
        "  \n",
        "plt.plot(x,y)\n",
        "plt.plot(x,z)\n",
        "plt.legend([\"Recursivo\", \"Dinámico\"])\n",
        "plt.title(\"Tiempo de ejecución\")\n",
        "\n",
        "plt.xlabel('N')\n",
        "plt.ylabel('Tiempo en ms')\n",
        "plt.show()"
      ],
      "metadata": {
        "colab": {
          "base_uri": "https://localhost:8080/",
          "height": 533
        },
        "id": "H5RDru8tPmxr",
        "outputId": "84df44c8-7b24-43e9-badc-d695d8e3e73b"
      },
      "execution_count": 23,
      "outputs": [
        {
          "output_type": "display_data",
          "data": {
            "text/plain": [
              "<Figure size 842.4x595.44 with 1 Axes>"
            ],
            "image/png": "[encoded data removed]"
          },
          "metadata": {}
        }
      ]
    },
    {
      "cell_type": "markdown",
      "source": [
        "Se puede observar que el algoritmo recursivo tiene un comportamiento exponencial, aumenta el tiempo de ejecución a medida que aumenta n, en cambio el algortimo de programación dinámica tiene un comportamiento \"lineal\" en la gráfica, no olvidar que el tiempo de ejecución del dinámico es cúbico."
      ],
      "metadata": {
        "id": "sbA80Ve1RWWj"
      }
    }
  ]
}