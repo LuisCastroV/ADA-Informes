{
  "cells": [
    {
      "cell_type": "markdown",
      "metadata": {
        "id": "view-in-github",
        "colab_type": "text"
      },
      "source": [
        "<a href=\"https://colab.research.google.com/github/LuisCastroV/ADA-Informes/blob/main/Informe3_MaxSubArrayMid.ipynb\" target=\"_parent\"><img src=\"https://colab.research.google.com/assets/colab-badge.svg\" alt=\"Open In Colab\"/></a>"
      ]
    },
    {
      "cell_type": "markdown",
      "metadata": {
        "id": "6unaU4fCAPTo"
      },
      "source": [
        "# 1. Problema de Suma Máxima de Sub-Arreglos (MaxSubArrayMid y MaxSubArray)\n",
        "---\n",
        "**Entrada:**  Lista de n números $[a_1,a_2,...,a_n]$.\n",
        "\n",
        "**Entrada para el informe:**  Lista de 6 números $[-1,3,4,-5,9,-2]$.\n",
        "\n",
        "**Salida**: La suma máxima del sub-arreglo $[a_i,...,a_j]$, donde el índice de la suma máxima del sub-arreglo izquierdo es reflejado como i y el índice de la suma máxima del sub-arreglo derecho es reflejado como j.\n",
        "\n",
        "**Salida para el informe:**  La suma máxima del sub-arreglo $[3,4,-5,9]$ es 11, donde el índice de la suma máxima del sub-arreglo izquierdo es 1 y el índice de la suma máxima del sub-arreglo derecho es 4.\n",
        "\n",
        "---\n",
        "**Imagen referencial de la suma máxima de sub-arreglo usando el método divide y vencerás:**\n",
        "![image](https://media.geeksforgeeks.org/wp-content/uploads/maximum-subarray-sum-is-7.jpg)\n",
        "\n",
        "**Breve información:** El problema del sub-arreglo máximo fue propuesto por Ulf Grenander en 1977 como un modelo simplificado para la estimación de máxima verosimilitud de patrones en imágenes digitalizadas. El enfoque divide a tu enemigo para que puedas reinar se atribuye a Julio César, él lo aplicó con éxito para conquistar la Galia hace veintidós siglos. Se aplica a los algoritmos que reducen cada problema a un solo subproblema, como el algoritmo de búsqueda binaria para encontrar un registro en una lista ordenada.\n",
        "\n"
      ]
    },
    {
      "cell_type": "markdown",
      "source": [
        "#1.1. Algunas aplicaciones del método *divide y vencerás*:\n",
        "\n",
        "**Quicksort**: es un algoritmo de ordenamiento, este elige un elemento pivote, reordena los elementos del arreglo de forma que todos los elementos de menor valor al del elemento pivote se mueven hacia su izquierda y los elementos de mayor valor hacia su derecha. Finalmente, ordena los sub-arreglos recursivamente hacia la izquierda y derecha del elemento pivote.\n",
        "\n",
        "**Merge Sort**: es un algoritmo de ordenamiento, este algoritmo divide el arreglo en dos partes, ordenada cada una de ellas recursivamente, y finalmente une las dos partes ya ordenadas. \n",
        "\n",
        "**Búsqueda Binaria**: es un algoritmo de búsqueda, en cada paso, el algoritmo compara el parámetro de entrada \"x\" con el valor del elemento en la mitad del arreglo. Si los valores coinciden, retorna el índice del elemento medio. De lo contrario, si x es mayor al elemento medio, el algoritmo recurre a la mitad izquierda del elemento medio, de lo contrario retorna la mitad a la derecha del elemento medio.\n",
        "\n"
      ],
      "metadata": {
        "id": "0lDeUQ1lg-Kf"
      }
    },
    {
      "cell_type": "markdown",
      "metadata": {
        "id": "UwkCV7zNgXHO"
      },
      "source": [
        "# 2. MaxSubArrayMid y MaxSubArray\n",
        "\n",
        "El siguiente código muestra una implementación del algoritmo **divide y vencerás** para encontrar la suma máxima de un sub-arreglo."
      ]
    },
    {
      "cell_type": "markdown",
      "metadata": {
        "id": "ftHu4g8NhzAP"
      },
      "source": [
        "# 2.1. Código "
      ]
    },
    {
      "cell_type": "code",
      "execution_count": 1,
      "metadata": {
        "colab": {
          "base_uri": "https://localhost:8080/"
        },
        "id": "6JvrfYxSHukS",
        "outputId": "07306ec4-5853-4ede-c02b-6cac3da34038"
      },
      "outputs": [
        {
          "output_type": "stream",
          "name": "stdout",
          "text": [
            "Arreglo inicial [-1, 3, 4, -5, 9, -2]\n",
            "El sub-arreglo máximo comienza en el índice 1, termina en el índice 4, y tiene una suma de 11.\n",
            "Sub-arreglo de la suma [3, 4, -5, 9]\n"
          ]
        }
      ],
      "source": [
        "def MaxSubArrayMid(arr, l, m, h,verbose=False):\n",
        "  #Elementos de izquierda al medio.\n",
        "  sm = 0\n",
        "  left_sum = float(\"-inf\")\n",
        "  cross_star=m\n",
        "  for i in range(m, l-1, -1):\n",
        "    sm = sm + arr[i]\n",
        "    if (sm > left_sum):\n",
        "        left_sum = sm\n",
        "        cross_star=i\n",
        "  #Elementos del medio a la derecha.\n",
        "  smm = 0\n",
        "  right_sum =  float(\"-inf\")\n",
        "  cross_end=m+1\n",
        "  for i in range(m+1, h):\n",
        "    smm = smm + arr[i]\n",
        "    if (smm > right_sum):\n",
        "        right_sum = smm\n",
        "        cross_end=i+1\n",
        "  #Retorna index de inicio, index final y la suma de los valores del maximo sub-arreglo.\n",
        "  return cross_star,cross_end,right_sum+left_sum\n",
        "\n",
        "\n",
        "def MaxSubArray(arr, l, h,verbose=False):\n",
        "  t=0\n",
        "  if (l == h-1):\n",
        "      return l,h,arr[l]\n",
        "  #Buscar punto medio.\n",
        "  m = (l + h) // 2\n",
        "  \n",
        "  left_start,left_end,left_max=MaxSubArray(arr,l,m)\n",
        "  right_start,right_end,right_max=MaxSubArray(arr,m,h)\n",
        "  cross_start,cross_end,cross_max=MaxSubArrayMid(arr,l,m,h,verbose)\n",
        "  if(left_max > right_max and left_max > cross_max):\n",
        "    if verbose:\n",
        "      print(\"Suma por la izquierda =\",left_max)\n",
        "    return left_start,left_end,left_max\n",
        "  elif(right_max > left_max and right_max > cross_max):\n",
        "    if verbose:\n",
        "      print(\"Suma por la derecha =\",right_max)\n",
        "    return right_start,right_end,right_max\n",
        "  else:\n",
        "    if verbose:\n",
        "      print(\"Suma por medio =\",cross_max)\n",
        "    return cross_start,cross_end,cross_max\n",
        "\n",
        "#Ejemplo\n",
        "arr = [-1, 3, 4, -5, 9,-2]\n",
        "print(\"Arreglo inicial\",arr)\n",
        "n = len(arr)\n",
        "start,end,max_sum = MaxSubArray(arr, 0, n)\n",
        "print(\"El sub-arreglo máximo comienza en el índice\",start,end=\", \")\n",
        "print(\"termina en el índice\",end-1,end=\", \")\n",
        "print(\"y tiene una suma de\",max_sum,end=\".\")\n",
        "print(\"\\nSub-arreglo de la suma\",arr[start:end])\n",
        "\n"
      ]
    },
    {
      "cell_type": "markdown",
      "source": [
        "# 2.2. Descripción del algoritmo"
      ],
      "metadata": {
        "id": "5h5814VclCFl"
      }
    },
    {
      "cell_type": "markdown",
      "source": [
        "Para encontrar solución al problema de la suma máxima del sub-arreglo se utiliza el algoritmo **divide y vencerás**:\n",
        "1. Divide la lista dada en dos mitades.\n",
        "2. Calcula la suma máxima de los sub-arreglos de:\n",
        "  - La mitad izquierda (recursiva).\n",
        "  - La mitad derecha (recursiva).\n",
        "3. Encuentra la suma máxima del sub-arreglo que cruza el punto medio.\n",
        "4. Devuelve la suma de los puntos anteriores.\n"
      ],
      "metadata": {
        "id": "2Y1Ymc0QlnPl"
      }
    },
    {
      "cell_type": "markdown",
      "source": [
        "Se encuentra el punto medio de un arreglo, luego se considera el sub-arreglo $A[i,mid]$ y $A[mid+1,j]$.\n",
        "El sub-arreglo máximo contiguo se puede encontrar entre tres lugares:\n",
        "1. Completamente en el sub-arreglo del lado izquierdo $A[i,mid]$.\n",
        "2. Completamente en el sub-arreglo del lado derecho $A[mid+1,j]$.\n",
        "3. Cruzando el punto medio $A[i,j]$.\n",
        "\n",
        "Encontrada la ubicación del sub-arreglo máximo en estos tres lugares, debido al algoritmo *divide y vencerás* se devolvera el sub-arreglo máximo del sub-arreglo izquierdo y derecho.\n",
        "\n",
        "Pero se necesita el sub-arreglo máximo de un arreglo fijo, se necesita verificar que un sub-arreglo cruce el punto medio y este contendra los elementos de izquierda y derecha.\n",
        "\n",
        "Para encontrar la suma máxima se comienza desde el punto medio y terminando en algún punto a la izquierda del medio, luego se realiza la suma máxima comenzando desde el medio + 1 y terminando con algún punto a la derecha del medio + 1. Finalmente, retorna los dos indices y la suma del maximo sub-arreglo."
      ],
      "metadata": {
        "id": "tIXF5PdvMGxF"
      }
    },
    {
      "cell_type": "markdown",
      "source": [
        "# 2.3. Ejemplo\n",
        "\n",
        "Consideremos, por ejemplo, el arreglo:\n",
        "\n",
        "$a=[3,-1,-1,10,-3,-2,4]$\n",
        "\n",
        "Se procede a calcular el medio del arreglo, donde el número del medio es 10.\n",
        "\n",
        "Se procede a iterar hasta dejar a todos los elementos en una casilla para empezar a revisarlos:\n",
        "\n",
        "$Izquierda=[3],[-1],[-1],[10]$\n",
        "\n",
        "$Derecha=[-3],[-2],[4]$\n",
        "\n",
        "A continuacion de ese proceso, empieza la sumatoria:\n",
        "\n",
        "$Izquierda$ = Se empieza con el número del medio, ubicado en la casilla 3, a evaluar, se tiene 10 > \"0\" es verdadero, entonces la variable *sm del código* tomará el valor 10, se vuelve a realizar una suma ahora con el número que esta en la casilla 2, que es el -1, 10 - 1 = 9 < *sm del código*, es falso, el siguiente valor a evaluar es la casilla 1, que es -1, 9 - 1 = 8 < *sm del código*, falso otra vez y finalmente se llega al ultimo elemento del arreglo ubicado en la casilla 0 es 3, 8 + 3 = 11 > *sm del código*, verdadero, entonces *sm del código* toma el valor de 11 por el lado izquierdo.\n",
        "\n",
        "\n",
        "$Derecha$ = Se empieza con el número del medio + 1, ubicado en la casilla 4, a evaluar, se tiene -3 > \"0\" es falso, entonces la variable *sm del código* se mantiene, se vuelve a realizar una suma ahora con el número que esta en la casilla 5, que es el -2, -3 -2 = -5 > *sm del código*, es falso, el siguiente valor a evaluar es la casilla final 6, que es 4, -5 + 4 = -1 > *sm del código*, falso otra vez manteniendo el 0.\n",
        "\n",
        "Finalmente se realiza la suma de ambos lados arrojando 11.\n"
      ],
      "metadata": {
        "id": "VYg97eBF1Saw"
      }
    },
    {
      "cell_type": "markdown",
      "source": [
        "#2.4. Ejecución del algoritmo (verbose=True)"
      ],
      "metadata": {
        "id": "dyQO5XKcg8LT"
      }
    },
    {
      "cell_type": "code",
      "source": [
        "import random\n",
        "a = random.sample(range(-100, 100), 7)\n",
        "print(\"Arreglo inicial=\",a)\n",
        "n=len(a)\n",
        "start,end,max_sum= MaxSubArray(a,0,n,True)\n"
      ],
      "metadata": {
        "colab": {
          "base_uri": "https://localhost:8080/"
        },
        "id": "xpKZu_bllPPa",
        "outputId": "d175638e-71b5-464d-9685-9e27e949298c"
      },
      "execution_count": 2,
      "outputs": [
        {
          "output_type": "stream",
          "name": "stdout",
          "text": [
            "Arreglo inicial= [-75, -85, -38, 4, 98, -23, 32]\n",
            "Suma por medio = 111\n"
          ]
        }
      ]
    },
    {
      "cell_type": "markdown",
      "source": [
        "#3. Tiempo de ejecución \n",
        "\n",
        "#3.1. Teorema (tiempo de ejecución)\n",
        "\n",
        "El algoritmo **divide y vencerás** para el problema del sub-arreglo máximo consiste en dividir el arreglo por la mitad por el índice del medio, realizando llamadas recursivas en cada uno de los dos sub-arreglos para encontrar el sub-arreglo máximo en la mitad izquierda y mitad derecha, con esa premisa podemos determinar que: \n",
        "\n",
        "***T(n)=*** \\begin{cases}\n",
        "  O(1)  & n \\text{ es 1} \\\\\n",
        "  2 T(n/2) + O(n) & n \\text{ es más de 1 elemento}\n",
        "\\end{cases}\n",
        "\n",
        "Usando el teorema maestro visto en clases, se puede identificar que corresponde al caso número 1 donde a=b^d, por ende, podemos determinar que el tiempo de complejidad es = **O(n*logn)**"
      ],
      "metadata": {
        "id": "iRA8el_LFjat"
      }
    },
    {
      "cell_type": "markdown",
      "source": [
        "#4. Correctitud\n",
        "\n",
        "#4.1. Correctitud MaxSubArray\n",
        "\n",
        "La función *MaxSubArray* recibe el arreglo de n elementos, con el objetivo de encontrar el subarreglo máximo, retornando los índices $i$ y $j$ tal que  y la suma máxima.\n",
        "\n",
        "## Prueba del Teorema\n",
        "Para poder probar el teorema, utilizaremos la **inducción matemática**, ya que el algoritmo contiene recursividad.\n",
        "\n",
        "Para probar una declaración $P(n)$ en inducción matemática, debemos:\n",
        "\n",
        "1. Probar $P(n)$ para un caso base, por ejemplo P(1)\n",
        "2. Probar que si $P(m)$ es cierto $m < n$, entonces $P(n)$ también lo es.\n",
        "\n",
        "> **Caso Base:** En este caso, el arreglo contiene sólo un elemento, como es el único retornandolo inmediatamente, por lo que podemos deducir que corresponde a la máxima suma que se puede generar.\n",
        ">\n",
        "> **Caso Promedio:** En el caso promedio, la función iterativamente divide el arreglo en 2, teniendo así $a = n/2$ y $b = n/2$. Cómo la función  es recursiva, llegará al caso base, retornando sólo un elemento. Como el algoritmo encuentra la suma máxima y cada arreglo tiene tamaño n/2, se asume que el paso inductivo es correcto ya que $1 < a < b < n$.\n",
        "\n",
        "Cómo el caso base y el caso promedio son correctos y la función retorna un subarreglo que maximiza la suma, el teorema de correctitud es correcto.\n",
        "\n",
        "#4.2. Correctitud MaxSubArrayMid\n",
        "\n",
        "Ya que la función *MaxSubArrayMid* itera de distinta forma según el caso, para probar el teorema utilizaremos la **propiedad invariante**.\n",
        "\n",
        "> **Inicialización:** Al comienzo de la iteración, las variables de suma para la mitad izquierda y derecha comienzan con el valor de $- ∞$ asegurandonos que antes de revisar los elementos la suma de estos será mayor, así asumiendo que el subarreglo contiene la máxima suma.\n",
        ">\n",
        "> **Mantención:** Durante la iteración, sólo en caso que la suma de los elementos sea mayor a nuestra variable fija (right_sum o left_sum) se irán actualizando, es por esto que en todo momento estará guardada la suma máxima. Retornando la máxima suma entre los 3 casos, la del subarreglo derecho, izquierdo o el cruce en el punto medio."
      ],
      "metadata": {
        "id": "1Hve5nF5W_GZ"
      }
    },
    {
      "cell_type": "markdown",
      "source": [
        "#5. Experimento"
      ],
      "metadata": {
        "id": "-uL6Scgz1P_D"
      }
    },
    {
      "cell_type": "markdown",
      "source": [
        "#5.1. Código de Kadane"
      ],
      "metadata": {
        "id": "vmcGA30AZ4EV"
      }
    },
    {
      "cell_type": "code",
      "source": [
        "import datetime\n",
        "from math import log\n",
        "import matplotlib.pyplot as plt\n",
        "from timeit import repeat\n",
        "%matplotlib inline\n",
        "\n",
        "def maxSubArraySumKAD(arr,size):\n",
        "    suma_pasada = arr[0]\n",
        "    suma = 0\n",
        "    for i in range(0, size):\n",
        "        suma = suma + arr[i]\n",
        "        if suma < 0:\n",
        "            suma = 0\n",
        "        elif (suma_pasada < suma):\n",
        "            suma_pasada = suma        \n",
        "    return suma_pasada"
      ],
      "metadata": {
        "id": "hogl9yviZ3El"
      },
      "execution_count": 3,
      "outputs": []
    },
    {
      "cell_type": "markdown",
      "source": [
        "#5.2. Tiempo de ejecución (experimental)\n",
        "En los siguientes gráficos se reportan los tiempos de ejecución del algoritmo **Divide y vencerás** y del algoritmo de **Kadane** en función del tamaño del problema para arreglos generados aleatoriamente de tamaños entre 5 y 500."
      ],
      "metadata": {
        "id": "rtzfCqdu1zvE"
      }
    },
    {
      "cell_type": "markdown",
      "source": [
        "#5.2.1. Algoritmo de divide y vencerás"
      ],
      "metadata": {
        "id": "fZRNILea4ivl"
      }
    },
    {
      "cell_type": "code",
      "source": [
        "w=[]; r=[]\n",
        "\n",
        "for j in range(5,500):\n",
        "\n",
        "  e = random.sample(range(1, 1000), j)\n",
        "\n",
        "  l = repeat(setup=\"from __main__ import MaxSubArray\", stmt=f\"MaxSubArray({e},0,{j})\", repeat=1, number=10)\n",
        "\n",
        "  w.append(j)\n",
        "  r.append(l)\n",
        "\n",
        "\n",
        "plt.plot(w,r)\n",
        "plt.legend([\"Divide y vencerás\"])\n",
        "\n",
        "plt.xlabel('n')\n",
        "plt.ylabel('Tiempo en ms')\n",
        "plt.show()"
      ],
      "metadata": {
        "colab": {
          "base_uri": "https://localhost:8080/",
          "height": 279
        },
        "id": "nGxMC1Ol3V0s",
        "outputId": "1c137d99-d88a-4a71-878c-56bc4d5e356a"
      },
      "execution_count": 4,
      "outputs": [
        {
          "output_type": "display_data",
          "data": {
            "text/plain": [
              "<Figure size 432x288 with 1 Axes>"
            ],
            "image/png": "[encoded data removed]"
          },
          "metadata": {
            "needs_background": "light"
          }
        }
      ]
    },
    {
      "cell_type": "markdown",
      "source": [
        "#5.2.2. Algoritmo de Kadane"
      ],
      "metadata": {
        "id": "jZP5yNGw4VsM"
      }
    },
    {
      "cell_type": "code",
      "source": [
        "x=[]; y=[]\n",
        "\n",
        "for n in range(5,500):\n",
        "\n",
        "  a = random.sample(range(1, 1000), n)\n",
        "\n",
        "  t = repeat(setup=\"from __main__ import maxSubArraySumKAD\", stmt=f\"maxSubArraySumKAD({a},{n})\", repeat=1, number=10)\n",
        "\n",
        "  x.append(n)\n",
        "  y.append(t)\n",
        "\n",
        "\n",
        "plt.plot(x,y)\n",
        "plt.legend([\"Kadane\"])\n",
        "\n",
        "plt.xlabel('n')\n",
        "plt.ylabel('Tiempo en ms')\n",
        "plt.show()"
      ],
      "metadata": {
        "colab": {
          "base_uri": "https://localhost:8080/",
          "height": 279
        },
        "id": "Ie5iwIDk1x7r",
        "outputId": "44e3ab86-c596-43bc-f69b-f492c7a452bd"
      },
      "execution_count": 5,
      "outputs": [
        {
          "output_type": "display_data",
          "data": {
            "text/plain": [
              "<Figure size 432x288 with 1 Axes>"
            ],
            "image/png": "[encoded data removed]"
          },
          "metadata": {
            "needs_background": "light"
          }
        }
      ]
    },
    {
      "cell_type": "markdown",
      "source": [
        "Se puede observar que en el algoritmo de Kadane el tiempo de ejecución en milisegundos va en un rango de 0.0000 a 0.00175, en cambio el algoritmo de divide y vencerás va en un rango de 0.000 a 0.025 con la misma unidad de medida, esto nos quiere decir que el algoritmo de Kadane es más eficiente que el algoritmo de divide y vencerás en relacion a el problema de encontrar la suma máxima de un sub-arreglo."
      ],
      "metadata": {
        "id": "Cjo_8-FL4yUE"
      }
    }
  ],
  "metadata": {
    "colab": {
      "name": "Informe3-MaxSubArrayMid.ipynb",
      "provenance": [],
      "collapsed_sections": [],
      "authorship_tag": "ABX9TyNVCR7i0LaRw5N1xhOPubsQ",
      "include_colab_link": true
    },
    "kernelspec": {
      "display_name": "Python 3",
      "name": "python3"
    },
    "language_info": {
      "name": "python"
    }
  },
  "nbformat": 4,
  "nbformat_minor": 0
}