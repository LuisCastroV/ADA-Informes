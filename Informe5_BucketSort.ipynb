{
  "nbformat": 4,
  "nbformat_minor": 0,
  "metadata": {
    "colab": {
      "provenance": [],
      "collapsed_sections": [],
      "authorship_tag": "ABX9TyME9GEwXVT7k/xTd+hct4OA",
      "include_colab_link": true
    },
    "kernelspec": {
      "name": "python3",
      "display_name": "Python 3"
    },
    "language_info": {
      "name": "python"
    }
  },
  "cells": [
    {
      "cell_type": "markdown",
      "metadata": {
        "id": "view-in-github",
        "colab_type": "text"
      },
      "source": [
        "<a href=\"https://colab.research.google.com/github/LuisCastroV/ADA-Informes/blob/main/Informe5_BucketSort.ipynb\" target=\"_parent\"><img src=\"https://colab.research.google.com/assets/colab-badge.svg\" alt=\"Open In Colab\"/></a>"
      ]
    },
    {
      "cell_type": "markdown",
      "source": [
        "# 1. Problema de ordenamiento por cubos (*Bucket Sort o Bin Sort*)\n",
        "---\n",
        "**Entrada**: Secuencia de n números $[a_1,a_2,...,a_n]$\n",
        "\n",
        "**Entrada para el informe:**  Arreglo de 10 números $[.78,.17,.39,.26,.72,.94,.21,.12,.23,.68]$.\n",
        "\n",
        "**Salida**: Arreglo ordenado de la secuencia de entrada $[a_1',a_2',...,a_n']$, de tal manera que $a_1'\\leq a_2' \\leq... \\leq a_n'$.\n",
        "\n",
        "**Salida para el informe:** Arreglo de 10 números ordenada de menor a mayor quedando $[.12,.17,.21,.23,.26,.39,.68,.72,.78,.94]$, quedando $.12\\leq.17\\leq.21\\leq.23\\leq.26\\leq.39\\leq.68\\leq.72\\leq.78\\leq.94$.\n",
        "\n",
        "---\n",
        "**Imagen referencial de ordenamiento por casilleros:**\n",
        "\n",
        "![image](https://upload.wikimedia.org/wikipedia/commons/6/61/Bucket_sort_1.png)\n",
        "\n",
        "![image](https://upload.wikimedia.org/wikipedia/commons/3/39/Bucket_sort_2.png)\n",
        "\n",
        "**Breve información:** Es una generalización de Pigeonhole Sort, un algoritmo de clasificación que es adecuado para clasificar listas de elementos donde el número de elementos y el número de valores clave posibles son aproximadamente los mismos. También se puede considerar primo de Radix Sort en el aspecto del dígito más significativo, ya que este algoritmo de ordenación es no comparativo, este evita las comparaciones insertando elementos en cubos. Bucket Sort se puede implementar con comparaciones y, por lo tanto, también se puede considerar un algoritmo de ordenación de comparación, como lo son el Quick Sort, Heap Sort y Insertion Sort.\n"
      ],
      "metadata": {
        "id": "XzshhI6K8Pxo"
      }
    },
    {
      "cell_type": "markdown",
      "source": [
        "#1.1. Algunas aplicaciones del algoritmo *Bucket Sort*:\n",
        "\n",
        "Se usa normalmente en uno de dos escenarios:\n",
        "\n",
        "- El primer escenario es acelerar el proceso de clasificación. El proceso de colocar $valores$ en cubos y luego clasificarlos en cantidades más pequeñas es mucho más rápido que una clasificación lineal como el metodo Bubble Sort, sin embargo, Bucket Sort usa más memoria que los algoritmos lineales.\n",
        "\n",
        "- El segundo escenario del Bucket Sort es asignar prioridad u organizar conjuntos de datos menos estructurados. Este puede ser usado para organizar una lista de tareas, asignar prioridades u ordenar las cosas por la cantidad de tiempo que pueden tomar."
      ],
      "metadata": {
        "id": "vw3GlUrSQE38"
      }
    },
    {
      "cell_type": "markdown",
      "source": [
        "# 2. Bucket Sort\n",
        "\n",
        "El siguiente código muestra una implementación del algoritmo **Bucket Sort**."
      ],
      "metadata": {
        "id": "yby8oBrkSbnh"
      }
    },
    {
      "cell_type": "markdown",
      "source": [
        "# 2.1. Código"
      ],
      "metadata": {
        "id": "CeWeXKKKT8To"
      }
    },
    {
      "cell_type": "markdown",
      "source": [
        "# 2.1.1. Código de Insertion Sort"
      ],
      "metadata": {
        "id": "hpLz3P_jWvDX"
      }
    },
    {
      "cell_type": "code",
      "source": [
        "def insertion_sort(a):\n",
        "  n=len(a)\n",
        "\n",
        "  for w in range(1,n):\n",
        "    key=a[w]\n",
        "    j=w-1\n",
        "\n",
        "    while j>-1 and key <a[j]:\n",
        "      a[j+1]=a[j]\n",
        "      j-=1\n",
        "    a[j+1]=key\n",
        "\n",
        "  return a "
      ],
      "metadata": {
        "id": "NWBq0gY0S0QI"
      },
      "execution_count": 1,
      "outputs": []
    },
    {
      "cell_type": "markdown",
      "source": [
        "# 2.1.2. Código de Bucket Sort"
      ],
      "metadata": {
        "id": "aq8kdOnlWy-R"
      }
    },
    {
      "cell_type": "code",
      "source": [
        "def bucketSortInsertion(A):\n",
        "  bucket = []\n",
        "  k=0\n",
        "  for i in range(10):\n",
        "      bucket.append([])\n",
        "  for j in A:\n",
        "    index_b=int(10*j)\n",
        "    if index_b == 10:\n",
        "      bucket[9].append(j)\n",
        "    else:\n",
        "      bucket[index_b].append(j)\n",
        "  for x in range(10):\n",
        "    insertion_sort(bucket[x])\n",
        "    if (len(bucket[x]) == 0):\n",
        "      print(\"El cubo\",x+1,\"no contiene elementos.\")\n",
        "    else:\n",
        "      print(\"El cubo\",x+1,\"contiene\",len(bucket[x]),\"elementos, estos son =\",bucket[x],end=\".\\n\")\n",
        "  \n",
        "  for a in range(10):\n",
        "    for b in range(len(bucket[a])):\n",
        "      A[k]=bucket[a][b]\n",
        "      k+=1\n",
        "  return A\n",
        "  \n",
        "array = [.78,.17,.39,.26,.72,.94,.21,.12,.23,.68]\n",
        "print(\"Arreglo inicial =\",array)\n",
        "bucketSortInsertion(array)\n",
        "print(\"Arreglo final =\",array)"
      ],
      "metadata": {
        "colab": {
          "base_uri": "https://localhost:8080/"
        },
        "id": "rEjSDE8STlDQ",
        "outputId": "5fd078bd-738f-466c-fa8d-557be299a0f4"
      },
      "execution_count": 2,
      "outputs": [
        {
          "output_type": "stream",
          "name": "stdout",
          "text": [
            "Arreglo inicial = [0.78, 0.17, 0.39, 0.26, 0.72, 0.94, 0.21, 0.12, 0.23, 0.68]\n",
            "El cubo 1 no contiene elementos.\n",
            "El cubo 2 contiene 2 elementos, estos son = [0.12, 0.17].\n",
            "El cubo 3 contiene 3 elementos, estos son = [0.21, 0.23, 0.26].\n",
            "El cubo 4 contiene 1 elementos, estos son = [0.39].\n",
            "El cubo 5 no contiene elementos.\n",
            "El cubo 6 no contiene elementos.\n",
            "El cubo 7 contiene 1 elementos, estos son = [0.68].\n",
            "El cubo 8 contiene 2 elementos, estos son = [0.72, 0.78].\n",
            "El cubo 9 no contiene elementos.\n",
            "El cubo 10 contiene 1 elementos, estos son = [0.94].\n",
            "Arreglo final = [0.12, 0.17, 0.21, 0.23, 0.26, 0.39, 0.68, 0.72, 0.78, 0.94]\n"
          ]
        }
      ]
    },
    {
      "cell_type": "markdown",
      "source": [
        "# 2.2. Descripción del algoritmo"
      ],
      "metadata": {
        "id": "yAdEx9VOUSbA"
      }
    },
    {
      "cell_type": "markdown",
      "source": [
        "# 2.2.1. Descripción de Insertion Sort"
      ],
      "metadata": {
        "id": "9EsG5AEqXZUl"
      }
    },
    {
      "cell_type": "markdown",
      "source": [
        "El algoritmo recibe como entrada una lista o arreglo $a$ de $n$ elementos a ordenar. El ordenamiento consiste en desplazar los números dentro del arreglo en caso de que fuese necesario para finalmente ubicar el elemento a ordenar en su posición correspondiente.\n",
        "\n",
        "- Por cada iteración $i$, el algoritmo recorre el arreglo de derecha a izquierda con $k ∈ (i-1,...,0)$, representando el índice de los valores que serán comparados. Para cada valor de $k$, se busca encontrar algún número menor a nuestra clave, ya que a continuación se ubicaría nuestro elemento $a[i]=key$.\n",
        "\n",
        "\n",
        "- A medida que se recorre el arreglo se van moviendo los valores un paso a la derecha con tal de hacerle espacio a la nueva posicóon para $key$.\n",
        "\n",
        "\n",
        "- Si $a[k]< key$, se ha encontrado un elemento menor a la clave y el lugar al cual pertenece. El elemento $k$ se colocara en la posición $a[k+1]$. \n",
        "\n",
        "\n",
        "- En caso de que la clave sea menor al primer elemento, se insertará al inicio a través de una instrucción extra. Esto debido a que no se pueden realizar más comparaciones una vez $k$ llega al valor $0$.\n",
        "\n",
        "**Imagen del pseudocódigo de Insertion Sort:**\n",
        "\n",
        "![image](https://i.stack.imgur.com/U14ab.png)"
      ],
      "metadata": {
        "id": "wJsBL1VDY2Aq"
      }
    },
    {
      "cell_type": "markdown",
      "source": [
        "# 2.2.2. Descripción de Bucket Sort"
      ],
      "metadata": {
        "id": "3LEFQuPLj726"
      }
    },
    {
      "cell_type": "markdown",
      "source": [
        "El algoritmo recibe como entrada una lista o arreglo $a$ de $n$ elementos a ordenar. El ordenamiento consiste en distribuir todos los elementos a ordenar entre un número finito de cubos. Cada casillero solo puede contener los elementos que cumplan unas determinadas condiciones, estas deben ser excluyentes entre sí, para evitar que un elemento pueda ser clasificado en dos casilleros distintos. Después cada uno de estos cubos se ordena individualmente con Insertion Sort para despúes concatenarlos.\n",
        "\n",
        "- Crear n cubos vacíos.\n",
        "\n",
        "- Para cada elemento de la matriz $a[i]$.\n",
        "\n",
        "- - Insertar $a[i]$ en el cubo $[n*array[i]]$\n",
        "\n",
        "- Clasificar los cubos individuales utilizando la ordenación por inserción.\n",
        "\n",
        "- Concatenar todos los cubos ordenados.\n",
        "\n",
        "![image](https://algoparc.ics.hawaii.edu/~nodari/teaching/s15/Notes/Topic-10/pseudocode-bucket-sort.jpg)"
      ],
      "metadata": {
        "id": "ua_8Sy5cUWbH"
      }
    },
    {
      "cell_type": "markdown",
      "source": [
        "# 2.3. Ejemplo"
      ],
      "metadata": {
        "id": "1gdQ4pRhIRxt"
      }
    },
    {
      "cell_type": "markdown",
      "source": [
        "Consideremos, por ejemplo, el arreglo:\n",
        "\n",
        "$a=[.99,.45,.76,.77]$\n",
        "\n",
        "Se crearán $10$ baldes, iniciando desde el $0$ al $9$, donde el $0$ corresponde a el cubo número $1$, y así sucesivamente.\n",
        "\n",
        "Luego se agregarán los elementos a cada balde que le corresponda por su primer dígito a la derecha del punto:\n",
        "\n",
        "- El $0.99$ se ingresará al $bucket[9]$ que sería el cubo $10$.\n",
        "- El $0.45$ se ingresará al $bucket[4]$ que sería el cubo $5$.\n",
        "- El $0.76$ se ingresará al $bucket[6]$ que sería el cubo $7$.\n",
        "- El $0.77$ se ingresará al $bucket[6]$ que sería el cubo $7$.\n",
        "\n",
        "Posteriormente se ordena cada balde de menor a mayor con Insertion Sort.\n",
        "\n",
        "Finalmente los baldes con sus elementos proceden a ubicarse en la posición que les corresponde en el arreglo, gracias a los baldes con elementos y el tamaño de estos.\n",
        "\n",
        "La salida sería $a=[.45,.76,.77,.99]$."
      ],
      "metadata": {
        "id": "wkYu83hCIfxN"
      }
    },
    {
      "cell_type": "markdown",
      "source": [
        "#3. Tiempo de ejecución \n"
      ],
      "metadata": {
        "id": "DncsFMQPKryo"
      }
    },
    {
      "cell_type": "markdown",
      "source": [
        "#3.1. Teorema (tiempo de ejecución)"
      ],
      "metadata": {
        "id": "EO7ZYk_T5bzl"
      }
    },
    {
      "cell_type": "markdown",
      "source": [
        "## **3.1.1. Insertion Sort**\n",
        "\n",
        "> **Mejor caso:** Corresponde cuando el arreglo está ordenado, ejecutándose el ciclo únicamente $n$ veces *(n = total de elementos)*, sin necesidad de intercambiar posiciones, ya que sólo recorre una vez.\n",
        ">\n",
        "> $$T(n) = O(n)$$\n",
        ">\n",
        "> **Caso promedio:** Este se da cuando los elementos no están en orden ascendiente ni descendiente.\n",
        ">\n",
        "> $$T(n) = O(n^2)$$\n",
        ">\n",
        "> **Peor caso:** Sucede cuando los elementos están ordenados de manera contraria a como serán ordenados, cada elemento tendrá que ser comparado con todos los elementos anteriores.\n",
        ">\n",
        "> $$T(n) = O(n^2)$$\n",
        "\n",
        "## **3.1.2. Bucket Sort**\n",
        "\n",
        "Excluyendo el tiempo tomado por el Insertion Sort, Bucket Sort toma tiempo lineal. Así debemos cuantificar cuanto tiempo toman las $n$ llamadas a Insertion Sort.\n",
        "\n",
        "![image](https://i.imgur.com/tnKDYsv.jpg)\n",
        "\n",
        "Pero, dependiendo el caso, no tienen la misma complejidad:\n",
        "\n",
        "> **Mejor Caso:** El mejor caso junto al caso promedio corresponde al mismo tiempo de ejecución. Corresponde cuando los elementos están distribuidos aleatoriamente, así dando resultados muy eficientes.\n",
        "> $$T(n) = O(n + k)$$\n",
        ">\n",
        "> *Donde n corresponde al número de elementos y k el rango de valores.*\n",
        ">\n",
        "> **Peor Caso:** Se produce cuando muchos elementos están muy cerca y se agrupan en el mismo balde. Esto elimina todas las ventajas de dividir las entradas en cubos.\n",
        "> $$T(n) = O(n^2)$$\n",
        ">\n",
        "> *Donde n corresponde al número de elementos.*"
      ],
      "metadata": {
        "id": "0shvD0fDeUIr"
      }
    },
    {
      "cell_type": "markdown",
      "source": [
        "#4. Correctitud\n"
      ],
      "metadata": {
        "id": "GFKD63t1e_2D"
      }
    },
    {
      "cell_type": "markdown",
      "source": [
        "## **4.1 Insertion Sort**\n",
        "\n",
        "El algoritmo **Insertion Sort** ordena dentro del mismo arreglo los elementos, sin la necesidad de crear un auxiliar.\n",
        "\n",
        "## Prueba del Teorema\n",
        "\n",
        "Previamente observamos que en cada iteración agregamos un nuevo elemento y lo insertamos en la posición correspondiente.\n",
        "\n",
        "Para probarlo utilizaremos la **propiedad invariante de bucle**:\n",
        "\n",
        "- El arreglo que utilizamos para realizar el algoritmo, contiene los mismos elementos, ya que sólo se mueven durante la ejecución pero no cambian. \n",
        "\n",
        "> **Incialización:** Al comienzo de la primera iteración, los datos desde la posición $0$ hasta $i-1$ cumplen la propiedad ya que estos no cambian en el proceso.\n",
        ">\n",
        "> **Mantención:** En cada iteración se cumple la propiedad, ya que los elementos siguen siendo los mismos con la diferencia de que están en distinto orden, es decir los elementos mayores del arreglo están ordenados de mayor a menor."
      ],
      "metadata": {
        "id": "v3Oc5aLK7_Mm"
      }
    },
    {
      "cell_type": "markdown",
      "source": [
        "## **4.2. Bucket Sort**\n",
        "Para poder probar la correctitud del **Bucket sort**, utilizaremos **inducción matemática**, para probarla debemos:\n",
        "\n",
        "1. Probar $P(n)$ para un caso base, por ejemplo $P(1)$\n",
        "\n",
        "2. Probar que si $P(m)$ es cierto $m < n$, entonces $P(n)$ también lo es.\n",
        "\n",
        "> **Caso Base:** Van haber casos en los que el bucket tendrá sólo un elemento, por lo que se asume que están ordenados, además que los buckets contendrán elementos menores a los buckets que le siguen.\n",
        ">\n",
        "> **Caso Promedio:** Por lo que para $P(m)$ al utilizar insertionSort nos aseguramos que los buckets contienen los mismo elementos pero ordenados de menor a mayor."
      ],
      "metadata": {
        "id": "-CchjnmgUBIo"
      }
    },
    {
      "cell_type": "markdown",
      "source": [
        "#5. Experimento"
      ],
      "metadata": {
        "id": "GiSpymbsfDMr"
      }
    },
    {
      "cell_type": "markdown",
      "source": [
        "#5.1. Bucket Sort vs Radix Sort vs Counting Sort "
      ],
      "metadata": {
        "id": "-KtuuHf5oHHi"
      }
    },
    {
      "cell_type": "markdown",
      "source": [
        "#5.1.1. Código de Bucket Sort"
      ],
      "metadata": {
        "id": "NZQsmtw6k3g6"
      }
    },
    {
      "cell_type": "code",
      "source": [
        "def bucketSort(array):\n",
        "  maximo = max(array)\n",
        "  longitud = len(array)\n",
        "  tamanho = maximo/longitud\n",
        "  buckets = [[] for i in range(longitud)]\n",
        " \n",
        "  for i in range(longitud):\n",
        "      index = int(array[i]/tamanho)\n",
        "      if index != longitud:\n",
        "          buckets[index].append(array[i])\n",
        "      else:\n",
        "          buckets[longitud-1].append(array[i])\n",
        " \n",
        "  for i in range(len(array)):\n",
        "      buckets[i] = sorted(buckets[i])\n",
        " \n",
        "  final = []\n",
        "  for i in range(longitud):\n",
        "      final = final + buckets[i]      \n",
        "  return final"
      ],
      "metadata": {
        "id": "-uhm9G14gw_y"
      },
      "execution_count": 3,
      "outputs": []
    },
    {
      "cell_type": "markdown",
      "source": [
        "#5.1.2. Código de Radix Sort"
      ],
      "metadata": {
        "id": "ONsK-y6on7j5"
      }
    },
    {
      "cell_type": "code",
      "source": [
        "def countingSort(array, place):\n",
        "    longitud = len(array)\n",
        "    salida = [0] * longitud\n",
        "    contador = [0] * 10\n",
        "\n",
        "    for i in range(0, longitud):\n",
        "        index = array[i] // place\n",
        "        contador[index % 10] += 1\n",
        "\n",
        "    for i in range(1, 10):\n",
        "        contador[i] += contador[i - 1]\n",
        "\n",
        "    i = longitud - 1\n",
        "    while i >= 0:\n",
        "        index = array[i] // place\n",
        "        salida[contador[index % 10] - 1] = array[i]\n",
        "        contador[index % 10] -= 1\n",
        "        i -= 1\n",
        "\n",
        "    for i in range(0, longitud):\n",
        "        array[i] = salida[i]\n",
        "\n",
        "\n",
        "def radixSort(array):\n",
        "    maximo = max(array)\n",
        "    lugar = 1\n",
        "    while maximo // lugar > 0:\n",
        "        countingSort(array,lugar)\n",
        "        lugar *= 10"
      ],
      "metadata": {
        "id": "jjh5lqTeh-YK"
      },
      "execution_count": 4,
      "outputs": []
    },
    {
      "cell_type": "markdown",
      "source": [
        "#5.1.3. Código de Counting Sort "
      ],
      "metadata": {
        "id": "WOQ8f-nsgFCM"
      }
    },
    {
      "cell_type": "code",
      "source": [
        "def countingSortOrigin(array):\n",
        "    longitud = len(array)\n",
        "    salida = [0] * longitud\n",
        "    contador = [0] * 1000\n",
        "\n",
        "    for i in range(0, longitud):\n",
        "        contador[array[i]] += 1\n",
        "\n",
        "    for i in range(1, 1000):\n",
        "        contador[i] += contador[i - 1]\n",
        "\n",
        "    i = longitud - 1\n",
        "    while i >= 0:\n",
        "        salida[contador[array[i]] - 1] = array[i]\n",
        "        contador[array[i]] -= 1\n",
        "        i -= 1\n",
        "\n",
        "    for i in range(0, longitud):\n",
        "        array[i] = salida[i]"
      ],
      "metadata": {
        "id": "IOX2WeqkgHIL"
      },
      "execution_count": 5,
      "outputs": []
    },
    {
      "cell_type": "code",
      "source": [
        "import random\n",
        "import matplotlib.pyplot as plt\n",
        "import datetime\n",
        "from timeit import repeat\n",
        "\n",
        "w,x,y,z = [],[],[],[]\n",
        "\n",
        "for n in range(5,500):\n",
        "\n",
        "  a = random.sample(range(1, 1000), n)  \n",
        "  b = repeat(setup=\"from __main__ import bucketSort\", stmt=f\"bucketSort({a})\", repeat=1, number=10)\n",
        "  c = repeat(setup=\"from __main__ import radixSort\", stmt=f\"radixSort({a})\", repeat=1, number=10)\n",
        "  d = repeat(setup=\"from __main__ import countingSortOrigin\", stmt=f\"countingSortOrigin({a})\", repeat=1, number=10)\n",
        "  x.append(n)\n",
        "  y.append(b)\n",
        "  w.append(c)\n",
        "  z.append(d)\n",
        "\n",
        "plt.plot(x,y)\n",
        "plt.plot(x,w)\n",
        "plt.plot(x,z)\n",
        "plt.legend([\"Bucket Sort\",\"Radix Sort\",\"Counting Sort\"])\n",
        "\n",
        "\n",
        "plt.xlabel('n')\n",
        "plt.ylabel('Tiempo en ms')\n",
        "plt.show()"
      ],
      "metadata": {
        "colab": {
          "base_uri": "https://localhost:8080/",
          "height": 279
        },
        "id": "lx-uXD6hjR-K",
        "outputId": "003211ff-b355-4ae0-cfe0-959c84337ab2"
      },
      "execution_count": 11,
      "outputs": [
        {
          "output_type": "display_data",
          "data": {
            "text/plain": [
              "<Figure size 432x288 with 1 Axes>"
            ],
            "image/png": "[encoded data removed]"
          },
          "metadata": {
            "needs_background": "light"
          }
        }
      ]
    },
    {
      "cell_type": "markdown",
      "source": [
        "Se puede observar que **Couting Sort** en un principio es el \"*menos eficiente*\" en tiempo de ejecución, hasta aproximadamente en los problemas que están alrededor de los 100 elementos, ahora el algoritmo que ocupará el puesto como el \"*menos eficiente*\" será el **Radix Sort**. Siguiendo el comportamiento de **Couting Sort** se puede observar que alrededor de los problemas con aproximadamente 200 elementos, el algoritmo que tomará el segundo puesto de \"*menos eficiente*\" será el **Bucket Sort** y el algortimo que se coronará como el \"*más eficiente*\" en este versus será el **Couting Sort** a pesar de haber iniciado como el peor de todos."
      ],
      "metadata": {
        "id": "HggX6TkMKU6a"
      }
    },
    {
      "cell_type": "markdown",
      "source": [
        "#5.2. Bucket Sort vs Pigeonhole Sort"
      ],
      "metadata": {
        "id": "aknOKcj0FRgd"
      }
    },
    {
      "cell_type": "markdown",
      "source": [
        "#5.2.1. Código de Pigeonhole Sort"
      ],
      "metadata": {
        "id": "RjiCVo8FFWQz"
      }
    },
    {
      "cell_type": "code",
      "source": [
        "def PigeonholeSort(a):\n",
        "    mini = min(a)\n",
        "    maxim = max(a)\n",
        "    tamanho = maxim - mini + 1\n",
        "    agujero = [0] * tamanho\n",
        "    for i in a:\n",
        "        agujero[i - mini] += 1\n",
        "    j = 0\n",
        "    for count in range(tamanho):\n",
        "        while agujero[count] > 0:\n",
        "            agujero[count] -= 1\n",
        "            a[j] = count + mini\n",
        "            j += 1"
      ],
      "metadata": {
        "id": "rKpH9fuGD3b-"
      },
      "execution_count": 7,
      "outputs": []
    },
    {
      "cell_type": "code",
      "source": [
        "x,y,z = [],[],[]\n",
        "\n",
        "for n in range(5,500):\n",
        "\n",
        "  a = random.sample(range(1, 1000), n)  \n",
        "  b = repeat(setup=\"from __main__ import PigeonholeSort\", stmt=f\"PigeonholeSort({a})\", repeat=1, number=10)\n",
        "  c = repeat(setup=\"from __main__ import bucketSort\", stmt=f\"bucketSort({a})\", repeat=1, number=10)\n",
        "  x.append(n)\n",
        "  y.append(b)\n",
        "  z.append(c)\n",
        "\n",
        "plt.plot(x,y)\n",
        "plt.plot(x,z)\n",
        "plt.legend([\"Pigeonhole Sort\",\"Bucket Sort\"])\n",
        "\n",
        "\n",
        "plt.xlabel('n')\n",
        "plt.ylabel('Tiempo en ms')\n",
        "plt.show()"
      ],
      "metadata": {
        "colab": {
          "base_uri": "https://localhost:8080/",
          "height": 279
        },
        "id": "djApvmKqD-U0",
        "outputId": "96963572-783f-4b73-e1c7-5276bb414b9b"
      },
      "execution_count": 8,
      "outputs": [
        {
          "output_type": "display_data",
          "data": {
            "text/plain": [
              "<Figure size 432x288 with 1 Axes>"
            ],
            "image/png": "[encoded data removed]"
          },
          "metadata": {
            "needs_background": "light"
          }
        }
      ]
    },
    {
      "cell_type": "markdown",
      "source": [
        "Se puede observar que **Pigeonhole Sort** en un principio es el \"*menos eficiente*\" en tiempo de ejecución, hasta aproximadamente en los problemas que están alrededor de los 150 elementos, ahora el algoritmo que ocupará el puesto como el \"*menos eficiente*\" será el **Bucket Sort**. Donde el algortimo que se coronará como el \"*más eficiente*\" en este versus será el **Pigeonhole Sort** a pesar de haber iniciado como el peor de todos."
      ],
      "metadata": {
        "id": "i_fsxFs5PMKq"
      }
    },
    {
      "cell_type": "markdown",
      "source": [
        "#5.3. Bucket Sort vs Radix Sort vs Counting Sort vs Bubble Sort"
      ],
      "metadata": {
        "id": "T8pBiDfPHBRU"
      }
    },
    {
      "cell_type": "markdown",
      "source": [
        "#5.3.1. Código de Bubble Sort"
      ],
      "metadata": {
        "id": "HsLfXt4VJkQq"
      }
    },
    {
      "cell_type": "code",
      "source": [
        "def bubbleSort(array):\n",
        "  for i in range(len(array)):\n",
        "    for j in range(0, len(array) - i - 1):\n",
        "      if array[j] > array[j + 1]:\n",
        "        temp = array[j]\n",
        "        array[j] = array[j+1]\n",
        "        array[j+1] = temp"
      ],
      "metadata": {
        "id": "HsvqZgGyIXfc"
      },
      "execution_count": 9,
      "outputs": []
    },
    {
      "cell_type": "code",
      "source": [
        "import random\n",
        "import matplotlib.pyplot as plt\n",
        "import datetime\n",
        "from timeit import repeat\n",
        "\n",
        "v,w,x,y,z = [],[],[],[],[]\n",
        "\n",
        "for n in range(5,200):\n",
        "\n",
        "  a = random.sample(range(1, 200), n)  \n",
        "  b = repeat(setup=\"from __main__ import bucketSort\", stmt=f\"bucketSort({a})\", repeat=1, number=10)\n",
        "  c = repeat(setup=\"from __main__ import radixSort\", stmt=f\"radixSort({a})\", repeat=1, number=10)\n",
        "  d = repeat(setup=\"from __main__ import countingSortOrigin\", stmt=f\"countingSortOrigin({a})\", repeat=1, number=10)\n",
        "  e = repeat(setup=\"from __main__ import bubbleSort\", stmt=f\"bubbleSort({a})\", repeat=1, number=10)\n",
        "  x.append(n)\n",
        "  y.append(b)\n",
        "  w.append(c)\n",
        "  z.append(d)\n",
        "  v.append(e)\n",
        "\n",
        "plt.plot(x,y)\n",
        "plt.plot(x,w)\n",
        "plt.plot(x,z)\n",
        "plt.plot(x,v)\n",
        "plt.legend([\"Bucket Sort\",\"Radix Sort\",\"Counting Sort\",\"Bubble Sort\"])\n",
        "\n",
        "\n",
        "plt.xlabel('n')\n",
        "plt.ylabel('Tiempo en ms')\n",
        "plt.show()"
      ],
      "metadata": {
        "colab": {
          "base_uri": "https://localhost:8080/",
          "height": 279
        },
        "id": "LTEiz6pcIj4h",
        "outputId": "5f15c2fd-3076-4206-d5c9-ac57ae4595ee"
      },
      "execution_count": 10,
      "outputs": [
        {
          "output_type": "display_data",
          "data": {
            "text/plain": [
              "<Figure size 432x288 with 1 Axes>"
            ],
            "image/png": "[encoded data removed]"
          },
          "metadata": {
            "needs_background": "light"
          }
        }
      ]
    },
    {
      "cell_type": "markdown",
      "source": [
        "Esta gráfica ocupa un rango más acotado apoyado por los resultlados del gráfico 5.1. donde los cambios de eficiencia en el tiempo de ejecución esta alrededor del 100 y 200. Se vuelve a observar que **Couting Sort** en un principio es el \"*menos eficiente*\" en tiempo de ejecución, hasta aproximadamente en los problemas que están alrededor de los 30 elementos, ahora el algoritmo que ocupará el puesto como el \"*menos eficiente*\" será el **Bubble Sort**. Y se vuelven a repetir los resultados obtenidos en la grafica de 5.1.. Obteniendo finalmente que los algoritmos \"*más eficientes*\" en este versus serán el **Couting Sort** a pesar de haber iniciado como el peor de todos y el **Bucket Sort**."
      ],
      "metadata": {
        "id": "0LaKegfmPuaA"
      }
    }
  ]
}