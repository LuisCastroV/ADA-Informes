{
  "nbformat": 4,
  "nbformat_minor": 0,
  "metadata": {
    "colab": {
      "provenance": [],
      "collapsed_sections": [],
      "authorship_tag": "ABX9TyPTtYkhqG+EgrKM//PrzNLL",
      "include_colab_link": true
    },
    "kernelspec": {
      "name": "python3",
      "display_name": "Python 3"
    },
    "language_info": {
      "name": "python"
    }
  },
  "cells": [
    {
      "cell_type": "markdown",
      "metadata": {
        "id": "view-in-github",
        "colab_type": "text"
      },
      "source": [
        "<a href=\"https://colab.research.google.com/github/LuisCastroV/ADA-Informes/blob/main/Informe_10_Kruskal.ipynb\" target=\"_parent\"><img src=\"https://colab.research.google.com/assets/colab-badge.svg\" alt=\"Open In Colab\"/></a>"
      ]
    },
    {
      "cell_type": "markdown",
      "source": [
        "#1. Problema del árbol recubridor mínimo *(Algoritmo de Kruskal)*\n",
        "---\n",
        "\n",
        "**Entrada**: Grafo conectado no dirigido $G=(V,E)$ y un costo real $c_e$ para cara arco $e\\in E$.\n",
        "\n",
        "**Salida**: Un árbol recubridor $T\\in E$ de $G$ con el mínimo coste $\\sum\\limits_{e\\in T}c_e$.\n",
        "\n",
        "--- \n",
        "**Imagen referencial del algoritmo de Kruskal:**\n",
        "\n",
        "![image](https://upload.wikimedia.org/wikipedia/commons/a/ab/Ricerca_operativa_minimo_albero_04.gif)\n",
        "\n",
        "---\n",
        "El problema del árbol recubridor mínimo trata sobre conectar un conjunto de objetos de la forma más económica posible. Este problema emerge de manera natural en varios dominios de aplicación, incluyendo redes de computadores y aprendizaje automático.\n",
        "\n",
        "Con el árbol recubridor de $G$, nos referimos a un subconjunto de arcos $T\\subseteq E$ que satisface algunas propiedades como:\n",
        "\n",
        "\n",
        "- *Sea $G=(V,E)$ un grafo no dirigido y $v,w\\in V$ dos nodos distintos tal que $(v,w)\\notin V$.*\n",
        "> Creación de ciclos: *Si $v$ y $w$ se encuentran en el mismo componente conectado de $G$, entonces, agregar un arco $(v,w)$ genera al menos un nuevo ciclo sin cambiar la cantidad de componentes conectados.*\n",
        ">\n",
        "> Fusión de componentes: *Si $v$ y $w$ se encuentran en distintos componentes conectados de $G$, entonces, agregar un arco $(v,w)$ no genera un nuevo ciclo e incrementa la cantidad de componentes conectados en 1.*\n",
        "\n",
        "- *Un árbol recubridor de $n$ vértices tiene $n-1$ arcos.*\n",
        "\n",
        "- *Sea $G=(V,E)$ un grafo, y $T\\subseteq E$ un subconjunto de $|V|-1$ arcos. Entonces, $T$ es un árbol recubridor si y solo si no tiene ciclos.*"
      ],
      "metadata": {
        "id": "Y81cTcRzWm5R"
      }
    },
    {
      "cell_type": "markdown",
      "source": [
        "#2. Descripción del algoritmo\n",
        "\n",
        "Recibe un grafo $G$ de $n$ nodos, retornando las conexiones del árbol recubridor encontrado, junto con el peso de cada una y la suma total de los arcos del árbol. El mecanismo funciona de la siguiente manera:\n",
        "\n",
        "- En una lista se guarda cada conexión del grafo, las que luego se ordenan de menor a mayor en base al peso utilizando la función sorted de Python.\n",
        "- Luego, en un ciclo $for$ recorremos cada $arco$, con sus vértices $(u,v)$, comenzando con el menor. En cada iteración se verifica si es que se genera un ciclo con ayuda de $Union-Find$. Dependiendo del resultado pueden suceder dos posibilidades: Si $u$ y $v$ no provocan un ciclo, se añade el $arco$ al árbol recubrido mínimo y se \"unen\" las componentes de $u$ y $v$, en el otro caso, no se agrega y seguimos con el siguiente $arco$.\n",
        "- Finalmente retornamos el árbol recubridor mínimo con las conexiones y el peso de cada uno."
      ],
      "metadata": {
        "id": "WnOrzphua9j_"
      }
    },
    {
      "cell_type": "markdown",
      "source": [
        "#2.1. Código "
      ],
      "metadata": {
        "id": "q5M9vOo5JaFc"
      }
    },
    {
      "cell_type": "code",
      "source": [
        "import networkx as nx\n",
        "import matplotlib.pyplot as plt\n",
        "from collections import defaultdict\n",
        "import random\n",
        "\n",
        "class Kruskal:\n",
        "    def __init__(self, nodes, edges) -> None:\n",
        "        self.nodes = nodes\n",
        "        self.edges = edges\n",
        "    \n",
        "    #Árbol recubridor mínimo\n",
        "    def mst(self):\n",
        "        num_nodes = len(self.nodes) #Número de nodos\n",
        "        mst_edges = defaultdict(int)\n",
        "        root = [_ for _ in range(num_nodes)]\n",
        "        rank = [0] * num_nodes\n",
        "\n",
        "        #Encontrar\n",
        "        def find(v):\n",
        "            while root[v] != v:\n",
        "                v = root[v]\n",
        "            return v \n",
        "\n",
        "        #Unión\n",
        "        def union(u, v):\n",
        "            u_root = find(u)\n",
        "            v_root = find(v)\n",
        "            if rank[u_root] > rank[v_root]:\n",
        "                root[v_root] = u_root\n",
        "            elif rank[u_root] < rank[v_root]:\n",
        "                root[u_root] = v_root\n",
        "            else:\n",
        "                root[v_root] = u_root\n",
        "                rank[u] += 1\n",
        "        edge_dict = defaultdict(int) #Mapeo de peso de borde\n",
        "        for (u, v, w) in self.edges:\n",
        "            edge_dict[(u, v)] = w\n",
        "        sorted_edge_dict = sorted(edge_dict.items(), key=lambda x: x[1]) #Clasificar por peso (orden)\n",
        "        for ((u, v), w) in sorted_edge_dict:\n",
        "            if find(u) == find(v):\n",
        "                continue\n",
        "            else:\n",
        "                union(u, v)\n",
        "                mst_edges[(u, v)] = w\n",
        "        return mst_edges        \n",
        "\n",
        "#Impresión\n",
        "def draw(G, color_edges):\n",
        "    edges = list(G.edges)\n",
        "    num_edge = len(edges)\n",
        "    edge_color = ['b'] * num_edge\n",
        "    color_edges = set(color_edges)\n",
        "    for i in range(num_edge):     \n",
        "        #Gráfico no dirigido\n",
        "        u, v = edges[i][0], edges[i][1]\n",
        "        if (u, v) in color_edges or (v, u) in color_edges:\n",
        "            edge_color[i] = 'r'\n",
        "    pos = nx.kamada_kawai_layout(G)\n",
        "    plt.title('MST')\n",
        "    nx.draw(G, pos, with_labels=True, edge_color=edge_color)\n",
        "    edge_labels = nx.get_edge_attributes(G, 'weight')\n",
        "    nx.draw_networkx_edge_labels(G, pos, edge_labels=edge_labels)\n",
        "    plt.show()\n",
        "\n",
        "nodes = [0, 1, 2, 3, 4, 5]\n",
        "edges = [(0, 1, 6), (0, 2, 1), (0, 3, 5), (1, 2, 5), (1, 4, 3), (2, 3, 5), (2, 4, 6), (2, 5, 4), (3, 5, 2), (4, 5, 6)]\n",
        "mst_edges = Kruskal(nodes, edges).mst()\n",
        "print('{} | Suma de Arcos = {}'.format(mst_edges, sum(mst_edges.values())))\n",
        "G = nx.Graph()\n",
        "G.add_nodes_from(nodes)\n",
        "G.add_weighted_edges_from(edges)\n",
        "draw(G, list(mst_edges.keys()))"
      ],
      "metadata": {
        "colab": {
          "base_uri": "https://localhost:8080/",
          "height": 282
        },
        "id": "cQFMJ7J7jA9i",
        "outputId": "0c3cfa27-b656-4afb-b12f-0ae1b2fc2967"
      },
      "execution_count": 1,
      "outputs": [
        {
          "output_type": "stream",
          "name": "stdout",
          "text": [
            "defaultdict(<class 'int'>, {(0, 2): 1, (3, 5): 2, (1, 4): 3, (2, 5): 4, (1, 2): 5}) | Suma de Arcos = 15\n"
          ]
        },
        {
          "output_type": "display_data",
          "data": {
            "text/plain": [
              "<Figure size 432x288 with 1 Axes>"
            ],
            "image/png": "[encoded data removed]"
          },
          "metadata": {}
        }
      ]
    },
    {
      "cell_type": "markdown",
      "source": [
        "#2.2. Ejemplo\n",
        "\n",
        "Para mostrar el funcionamiento del algoritmo, consideraremos el siguiente grafo no dirigido.\n",
        "\n",
        "$E = [(0, 1, 7), (1, 2, 8), (0, 3, 5), (1, 3, 9), (1, 4, 7), (2, 4, 5), (3, 4, 15), (3, 5, 6), (4, 5, 8), (4, 6, 9), (5, 6, 11)]$\n",
        "\n",
        "![image](https://www.techiedelight.com/wp-content/uploads/2016/11/Kruskal-1.png)\n",
        "\n",
        "Se guarda cada peso de cada arco dentro de una lista junto a sus conexiones, siendo las primeras dos variables de cada posición cada nodo conectado y la última el peso de su arco que los conecta, al tener estos datos, ahora procedemos a ordenar cada uno con respecto a su peso: \n",
        "\n",
        "$E = [(0, 3, 5), (2, 4, 5), (3, 5, 6), (0, 1, 7), (1, 4, 7), (4, 5, 8), (1, 2, 8), (1, 3, 9), (4, 6, 9), (5, 6, 11), (3, 4, 15)]$\n",
        "\n",
        "Ahora ingresamos al ciclo, en donde vemos cada conexión, comenzando con la menor, se verifica que no se genere un ciclo, si se cumple, entonces se agrega la conexión $(0, 3, 5)$ a nuestro árbol recubridor.\n",
        "\n",
        "![image](https://www.techiedelight.com/wp-content/uploads/2016/11/Kruskal-2.png)\n",
        "\n",
        "Seguimos con la siguiente conexión $(2, 4, 5)$. Verificamos, no genera un ciclo, por ende, se agrega al árbol. \n",
        "\n",
        "![image](https://www.techiedelight.com/wp-content/uploads/2016/11/Kruskal-3.png)\n",
        "\n",
        "Seguimos con la siguiente conexión $(3, 5, 6)$. Verificamos, no genera un ciclo, por ende, se agrega al árbol. \n",
        "\n",
        "![image](https://www.techiedelight.com/wp-content/uploads/2016/11/Kruskal-4.png)\n",
        "\n",
        "\n",
        "Seguimos con la siguiente conexión $(0, 1, 7)$. Verificamos, no genera un ciclo, por ende, se agrega al árbol. \n",
        "\n",
        "![image](https://www.techiedelight.com/wp-content/uploads/2016/11/Kruskal-5.png)\n",
        "\n",
        "Seguimos con la siguiente conexión $(1, 4, 7)$. Verificamos, no genera un ciclo, por ende, se agrega al árbol. \n",
        "\n",
        "![image](https://www.techiedelight.com/wp-content/uploads/2016/11/Kruskal-6.png)\n",
        "\n",
        "Seguimos con la siguiente conexión $(4, 5, 8)$. Verificamos, si genera un ciclo, por ende, no se agrega al árbol. \n",
        "\n",
        "![image](https://www.techiedelight.com/wp-content/uploads/2016/11/Kruskal-7.png)\n",
        "\n",
        "Seguimos con la siguiente conexión $(1, 2, 8)$. Verificamos, si genera un ciclo, por ende, no se agrega al árbol. \n",
        "\n",
        "![image](https://www.techiedelight.com/wp-content/uploads/2016/11/Kruskal-8.png)\n",
        "\n",
        "Seguimos con la siguiente conexión $(1, 3, 9)$. Verificamos, si genera un ciclo, por ende, no se agrega al árbol. \n",
        "\n",
        "![image](https://www.techiedelight.com/wp-content/uploads/2016/11/Kruskal-9.png)\n",
        "\n",
        "Seguimos con la siguiente conexión $(4, 6, 9)$. Verificamos, no genera un ciclo, por ende, se agrega al árbol. \n",
        "\n",
        "![image](https://www.techiedelight.com/wp-content/uploads/2016/11/Kruskal-10.png)\n",
        "\n",
        "El árbol recubridor está conectado ya que se cumplió que los arcos son $V-1$, donde $V$ son los vertices que son $7$, por ende, los arcos deben ser 6, ya que se cumplieron los arcos, los bordes restantes se descartan.\n",
        "\n",
        "![image](https://www.techiedelight.com/wp-content/uploads/2016/11/Kruskal-11.png)\n",
        "\n",
        "Finalmente quedará un árbol de peso $39$.\n",
        "\n",
        "![image](https://www.techiedelight.com/wp-content/uploads/2016/11/Kruskal-12.png)"
      ],
      "metadata": {
        "id": "oaZ_F7GQYABK"
      }
    },
    {
      "cell_type": "markdown",
      "source": [
        "#3. Correctitud\n",
        "\n",
        "Sea $G$ un grafo ponderado conectado. Sea $H$ $=$ $T_m$ el subgrafo producido por el algoritmo. Por construcción es claro que $T_0$, $T_1$, $...$,$T_m$ $=$ $H$ son todos acíclicos: Por lo tanto $H$ es bosque.\n",
        "\n",
        "*Afirmación*: $H$ está conectado. Probaremos esto usando el argumento de la contradicción.\n",
        "\n",
        "Suponga que $H$ es desconectado. Entonces hay al menos dos árboles desconectados en el bosque $H$. Como $G$ está conectado, hay una secuencia de aristas $e_1$, $e_2$,$...$,$e_n$ $\\notin$ $H$ = $T_m$ que conectan los vértices de un par de árboles desconectados en el bosque. Entonces $T_m$ $\\cup$ {$e_1$} es acíclico, lo cual es una contradicción ya que el algoritmo no se detendría en $i$$=$$m$.\n",
        "\n",
        "Entonces $H$ es un árbol de expansión de $G$. Basta mostrar que es mínimo.\n",
        "\n",
        "Probamos lo siguiente por inducción: si $F$ es el conjunto de aristas elegido en cualquier etapa del algoritmo, entonces hay un árbol de expansión mínimo que contiene $F$.\n",
        "\n",
        "*Nota:* Esta prueba por inducción completa la prueba de corrección ya que en algún momento $F$ es $H$.\n",
        "\n",
        "*Caso base:* Claramente, la proposición es verdadera si $F$ está vacía: cualquier árbol de expansión mínimo servirá.\n",
        "\n",
        "Ahora suponga que $F$ contiene $n$ $\\geq$ $0$ aristas y la proposición es verdadera. Sea $T$ $=$ $(V,E)$ un árbol de expansión mínimo que contiene $F$.\n",
        "\n",
        "Si $E$ $=$ $F$ entonces hemos terminado. Así que suponga que $F$ $\\subset$ $E$ y, por lo tanto, el algoritmo no está terminado. Necesitamos mostrar que cuando el algoritmo agrega otra arista $e$ a $F$, hay un árbol de expansión mínimo que contiene $F$ $\\cup$ {$e$}.\n",
        "\n",
        "Si la siguiente arista $e$ agregada por el algoritmo está en $E$, entonces la proposición es verdadera para $F$ $\\cup$ {$e$} y estaríamos listos por inducción.\n",
        "\n",
        "De lo contrario, hay un ciclo $C$ en $T$ $\\cup$ {$e$}, el nuevo borde agregado entre los vértices de un árbol crea un ciclo, además, hay otra arista $e'$ $\\in$ $C$ tal que $e'$ no está en $F$, ya que $F$ $\\cup$ {$e$} debe ser acíclico, dado que $e'$ no fue elegido por el algoritmo, $peso(e')$ $\\geq$ $peso(e)$.\n",
        "\n",
        "Entonces $T'$ $=$ ($V$, ($E$ $\\setminus${$e'$}) $\\cup$ {$e$}) es un árbol de expansión. La suma de los pesos en $T'$ es la suma de los pesos en $T$ más $(peso(e) - peso(e'))$ $\\leq$ $0$.\n",
        "\n",
        "Entonces $T'$ tiene una suma de pesos que es menor o igual que la suma de pesos en $T$. Pero $T$ tiene un peso mínimo; entonces $T'$ es un $MST$. Entonces terminamos por inducción ya que $T'$ es un árbol de expansión mínimo que contiene $F$ $\\cup$ {$e$}."
      ],
      "metadata": {
        "id": "asuE12oKI-gd"
      }
    },
    {
      "cell_type": "markdown",
      "source": [
        "#4. Tiempo de ejecución \n",
        "\n",
        "Podemos separar el algoritmo en *implementación directa* y *con la estructura de datos Union-Find*\n",
        "\n",
        "**1. Implementación directa**\n",
        "\n",
        "En primer lugar, el algoritmo ordena los arcos de forma decreciente según su costo asociado, esta operación tiene un costo de **O(E log V)**, siendo E el número de arcos y V el de nodos.\n",
        "\n",
        "Para el loop que agrega arcos a nuestra solución:\n",
        "\n",
        "- El ciclo realiza E iteraciones. Cada iteración es responsable de revisar si el arco $e = (u,v)$ puede ser agregado a la solución y que tenemo hasta el momento (no tiene un ciclo).\n",
        "\n",
        "- La agregación de un arco $e$ solamente crea un ciclo si **ya existe un camino de u a v**. Esta operación puede ser realizada en tiempo lineal usando cualquier algoritmo de búsqueda en grafos empezando desde **v**. Al existir **V** nodos a considerar en este análisis, dentro del ciclo tenemos un aporte de O(V).\n",
        "\n",
        "Por lo tanto, el tiempo de ejecución del algoritmo implementado de forma directa es de **O(VE)**.\n",
        "\n",
        "**2. Implementación Union-Find**\n",
        "\n",
        "En esta implementación se analiza paso a paso el procedimiento para determinar el tiempo de ejecución:\n",
        "\n",
        "$$T_{sort}(E) + O(V) * T_{Make-Set} + O(E)(T_{Find} + T_{Union}) = O(Elog(E)+E_α(V))$$\n",
        "\n",
        "Análisis del tiempo de ejecución del algoritmo:\n",
        "\n",
        "- La ordenación de las aristas lleva tiempo **O(E log(E))**\n",
        "- Tras la ordenación, iteramos por todas las aristas E y aplicamos el algoritmo de union-find.\n",
        "- Las operaciones de búsqueda y unión pueden tardar como máximo **O(log(V)).\n",
        "- Por lo tanto, la complejidad total es de **O(Elog(E) + Elog(V))**.\n",
        "- El valor de E puede ser como máximo O(2V), por lo que O(log(V)) es O(log(E)) igual. \n",
        "\n",
        "Por lo tanto, la complejidad temporal global de la implementación union-find es **O(Elog(E)) u O(Elog(V))**."
      ],
      "metadata": {
        "id": "bkyxa50PkuB3"
      }
    },
    {
      "cell_type": "markdown",
      "source": [
        "#5. Experimento"
      ],
      "metadata": {
        "id": "wkzIhcn8mXRE"
      }
    },
    {
      "cell_type": "markdown",
      "source": [
        "#5.1. Código de Prim"
      ],
      "metadata": {
        "id": "wmMVHrr1tQY0"
      }
    },
    {
      "cell_type": "code",
      "source": [
        "import networkx as nx\n",
        "import matplotlib.pyplot as plt\n",
        "import sys\n",
        "from collections import defaultdict\n",
        "\n",
        "class Prim:\n",
        "    def __init__(self, nodes, edges) -> None:\n",
        "        self.nodes = nodes\n",
        "        self.edges = edges\n",
        "    \n",
        "    def mst(self, start_node):\n",
        "        num_nodes = len(self.nodes)\n",
        "        mst_edges = defaultdict(int)\n",
        "        edge_weight = defaultdict(int) \n",
        "        node_neighbors = defaultdict(set) \n",
        "        visited = set()  \n",
        "        visited.add(start_node)\n",
        "        count = 1 \n",
        "\n",
        "        for (u, v, w) in self.edges:\n",
        "            node_neighbors[u].add(v)\n",
        "            node_neighbors[v].add(u)\n",
        "            edge_weight[(u, v)] = edge_weight[(v, u)] = w\n",
        "            \n",
        "        while count != num_nodes:\n",
        "            min_weight = sys.maxsize\n",
        "            cur_node, next_node = None, None\n",
        "            for u in visited:\n",
        "                for v in node_neighbors[u]:\n",
        "                    if v not in visited and edge_weight[(u, v)] < min_weight:\n",
        "                        min_weight = edge_weight[(u, v)]\n",
        "                        cur_node = u\n",
        "                        next_node = v     \n",
        "            visited.add(next_node)\n",
        "            count += 1\n",
        "            if cur_node != None and next_node != None:\n",
        "                mst_edges[(cur_node, next_node)] = min_weight\n",
        "        return mst_edges\n",
        "\n",
        "def draw(G, color_edges):\n",
        "    edges = list(G.edges) \n",
        "    color_edges = set(color_edges) \n",
        "    num_edges = G.number_of_edges() \n",
        "    edge_color = ['b'] * num_edges \n",
        "\n",
        "    for i in range(num_edges):\n",
        "        u, v = edges[i][0], edges[i][1]\n",
        "        if (u, v) in color_edges or (v, u) in color_edges:\n",
        "            edge_color[i] = 'r' \n",
        "    pos = nx.kamada_kawai_layout(G)\n",
        "    plt.title('MST')\n",
        "    edge_labels = nx.get_edge_attributes(G, 'weight') \n",
        "    nx.draw_networkx_edge_labels(G, pos, edge_labels=edge_labels)\n",
        "    nx.draw(G, pos, with_labels=True, edge_color=edge_color) \n",
        "    plt.show()\n",
        "\n",
        "nodes = [0, 1, 2, 3, 4, 5]\n",
        "edges = [(0, 1, 6), (0, 2, 1), (0, 3, 5), (1, 2, 5), (1, 4, 3), (2, 3, 5), (2, 4, 6), (2, 5, 4), (3, 5, 2), (4, 5, 6)]\n",
        "start_node = 0 \n",
        "mst_edges = Prim(nodes, edges).mst(start_node)\n",
        "print('{} | Suma de Arcos {}'.format(mst_edges, sum(mst_edges.values())))\n",
        "G = nx.Graph()\n",
        "G.add_nodes_from(nodes)\n",
        "G.add_weighted_edges_from(edges)\n",
        "draw(G, list(mst_edges.keys()))"
      ],
      "metadata": {
        "colab": {
          "base_uri": "https://localhost:8080/",
          "height": 282
        },
        "id": "3od1kOHhtPgc",
        "outputId": "969f4638-eec4-4f3f-b65e-25f5aff742f0"
      },
      "execution_count": 2,
      "outputs": [
        {
          "output_type": "stream",
          "name": "stdout",
          "text": [
            "defaultdict(<class 'int'>, {(0, 2): 1, (2, 5): 4, (5, 3): 2, (2, 1): 5, (1, 4): 3}) | Suma de Arcos 15\n"
          ]
        },
        {
          "output_type": "display_data",
          "data": {
            "text/plain": [
              "<Figure size 432x288 with 1 Axes>"
            ],
            "image/png": "[encoded data removed]"
          },
          "metadata": {}
        }
      ]
    },
    {
      "cell_type": "markdown",
      "source": [
        "#5.2. Prim vs Kruskal \n",
        "\n",
        "- El algoritmo de Prim siempre elige el siguiente borde que es vecino de los vértices en una solución parcialmente generada y la selección de la ruta se basa en vértices.\n",
        "- El algoritmo de Kruskal siempre elige el borde que tiene un peso mínimo y la selección de la ruta se basa en los bordes.\n",
        "- El algoritmo de Prim asegura que la solución parcial sea siempre un árbol, no es necesario clasificar los bordes y la solución se inicia con un nodo.\n",
        "- En el algoritmo de Kruskal, una solución parcial puede ser un bosque, la clasificación de los bordes es obligatoria y la solución se inicia con una ventaja.\n",
        "- El algoritmo de Prim es una mejor opción para el grafo denso.\n",
        "- El algoritmo de Kruskal es una mejor opción para el grafo disperso."
      ],
      "metadata": {
        "id": "rS3fkd1Aw6Jr"
      }
    }
  ]
}