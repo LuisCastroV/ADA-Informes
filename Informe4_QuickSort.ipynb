{
  "nbformat": 4,
  "nbformat_minor": 0,
  "metadata": {
    "colab": {
      "provenance": [],
      "collapsed_sections": [],
      "authorship_tag": "ABX9TyPjQFsvTDdz/ejckmxnoIIS",
      "include_colab_link": true
    },
    "kernelspec": {
      "name": "python3",
      "display_name": "Python 3"
    },
    "language_info": {
      "name": "python"
    }
  },
  "cells": [
    {
      "cell_type": "markdown",
      "metadata": {
        "id": "view-in-github",
        "colab_type": "text"
      },
      "source": [
        "<a href=\"https://colab.research.google.com/github/LuisCastroV/ADA-Informes/blob/main/Informe4_QuickSort.ipynb\" target=\"_parent\"><img src=\"https://colab.research.google.com/assets/colab-badge.svg\" alt=\"Open In Colab\"/></a>"
      ]
    },
    {
      "cell_type": "markdown",
      "source": [
        "#1. Problema de ordenamiento ***(QuickSort)***\n",
        "---\n",
        "\n",
        "**Entrada**: Secuencia de n números $[a_1,a_2,...,a_n]$\n",
        "\n",
        "**Entrada para el informe:**  Lista de 9 números $[9,-3,5,2,6,8,-6,1,3]$.\n",
        "\n",
        "**Salida**: Permutación ordenada de la secuencia de entrada $[a_1',a_2',...,a_n']$, de tal manera que $a_1'\\leq a_2' \\leq... \\leq a_n'$.\n",
        "\n",
        "**Salida para el informe:** Lista de 9 números ordenada de menor a mayor quedando $[-6,-3,1,2,3,5,6,8,9]$, quedando $-6\\leq-3\\leq1\\leq2\\leq3\\leq5\\leq6\\leq8\\leq9$.\n",
        "\n",
        "---\n",
        "**Imagen referencial del método QuickSort :**\n",
        "\n",
        "![image](https://miro.medium.com/max/1154/1*ThwVZTxLS9FMyLJ8_aa_gQ.png)\n",
        "\n",
        "**Breve información:** El algoritmo Quicksort fue desarrollado en el año 1960 por Charles Antony Richard Hoare mientras se encontraba en la Universidad Estatal de Moscú, trabajó para el proyecto de traducción automática para el Laboratorio Nacional de Física. \n",
        "\n",
        "Desarrolló el algoritmo para poder ordenar las palabras a ser traducidas, para volverlas más fácil de coincidir con un diccionario ya ordenado de ruso a inglés. El algoritmo original es recursivo, pero se utilizan versiones iterativas para mejorar su rendimiento (los algoritmos recursivos son en general más lentos que los iterativos, y consumen más recursos)."
      ],
      "metadata": {
        "id": "5l0dk7YzoPAS"
      }
    },
    {
      "cell_type": "markdown",
      "source": [
        "#1.1. Algunas aplicaciones del *QuickSort*\n",
        "\n",
        "* En la informática comercial se utiliza en varias organizaciones gubernamentales y privadas con el fin de clasificar varios datos, como clasificar archivos por nombre/fecha/precio, clasificar el perfil de la cuenta por identificación dada, etc.\n",
        "* En búsqueda de información, ya que es el más rápido en este ámbito.\n",
        "* Se utiliza en todas partes donde no se necesita un tipo estable.\n",
        "* Es un algoritmo compatible con la memoria caché, ya que tiene una buena localidad de referencia cuando se utiliza para arreglos.\n",
        "* Es una clasificación \"al momento\" que no requiere ninguna memoria de almacenamiento adicional.\n",
        "* Si se ordenan los datos, la búsqueda de información se vuelve fácil y eficiente."
      ],
      "metadata": {
        "id": "1R6dXkV3d2XJ"
      }
    },
    {
      "cell_type": "markdown",
      "source": [
        "#2. QuickSort\n",
        "\n",
        "El siguiente código muestra una implementación del algoritmo QuickSort, donde el pivote tendrá tres casos: \n",
        "* Primer caso para este informe: El pivote es el primer elemento del arreglo.\n",
        "* Segundo caso para este informe: El pivote es el último elemento del arreglo.\n",
        "* Tercer caso para este informe: El pivote es la \"mediana de tres\", se revisa el primer, medio y último elemento del arreglo y se elige la mediana de esos tres elementos como pivote.\n"
      ],
      "metadata": {
        "id": "k0EHt1pfIZT0"
      }
    },
    {
      "cell_type": "markdown",
      "source": [
        "#2.1. Codigo "
      ],
      "metadata": {
        "id": "Eya6jVzsv2Se"
      }
    },
    {
      "cell_type": "code",
      "source": [
        "Primer_Caso = 1\n",
        "Segundo_Caso = 2\n",
        "Tercer_Caso = 3\n",
        "Comparaciones = 0\n",
        "\n",
        "def swap(ar, i, j):\n",
        "    t = ar[i]\n",
        "    ar[i] = ar[j]\n",
        "    ar[j] = t\n",
        "    \n",
        "def is_median(ar, i, j, k):\n",
        "  #Determina si ar[i] es una mediana de ar[i], ar[j] y ar[k].\n",
        "  return (ar[i] < ar[j] and ar[i] > ar[k] or ar[i] > ar[j] and ar[i] < ar[k])\n",
        "\n",
        "\n",
        "def _quickSort(ar, l, r, pivot):\n",
        "    global Comparaciones\n",
        "\n",
        "    #Caso base\n",
        "    if l >= r:\n",
        "        return\n",
        "    \n",
        "    #Selección del elemento pivote\n",
        "    p = 0\n",
        "    if pivot == Primer_Caso:\n",
        "        p = ar[l]\n",
        "    elif pivot == Segundo_Caso:\n",
        "        p = ar[r]\n",
        "        swap(ar, l, r)\n",
        "    elif pivot == Tercer_Caso:\n",
        "        m = l + ((r-l) >> 1)\n",
        "        if is_median(ar, l, m, r):\n",
        "            p = ar[l]\n",
        "        elif is_median(ar, m, l, r):\n",
        "            p = ar[m]\n",
        "            swap(ar, l, m)\n",
        "        else:\n",
        "            p = ar[r]\n",
        "            swap(ar, l, r)       \n",
        "    Comparaciones += (r-l)\n",
        "\n",
        "    i = l+1\n",
        "    for j in range(l+1, r+1):\n",
        "        if ar[j] < p:\n",
        "            swap(ar, i, j)\n",
        "            i += 1\n",
        "\n",
        "    swap(ar, l, i-1)\n",
        "    _quickSort(ar, l, i-2, pivot)\n",
        "    _quickSort(ar, i, r, pivot)\n",
        "\n",
        "    return Comparaciones\n",
        "    \n",
        "\n",
        "\n",
        "def quickSort(ar, pivot):\n",
        "  #Ordena el arreglo en su lugar usando la estrategia seleccionada\n",
        "  _quickSort(ar, 0, len(ar)-1, pivot)\n",
        "\n",
        "arreglo = [9,-3,5,2,6,8,-6,1,3,11]\n",
        "print(\"Arreglo Inicial =\",arreglo)\n",
        "print(\"\\n\")\n",
        "#input_array = [97, 54, 95, -98, -91, 18, -53, 70, 75, 24, 13, -71, -26, 8, -11, 13, 44, -21, -1, 42, -17, 48, 53, -54, -11, -45, 82, 32, 33, -78, 8, 48, -99, 81, -100, 64, -33, -13, 83, -67, 18, -49, -60, -85, -69, 36, 1, 95, -33, -66, 94, -100, -44, 16, 28, 49, 64, 17, 19, 66, -85, -29, -100, 97, 25, -71, 57, 41, -30, -46, 85, 36, -99, -82, 33, 10, 2, 79, 39, 11, -22, -6, 26]\n",
        "arreglo1 = [9,-3,5,2,6,8,-6,1,3,11]\n",
        "Comparaciones = 0\n",
        "quickSort(arreglo1, Primer_Caso)\n",
        "print(\"En el primer caso de QuickSort se realizaron\",Comparaciones,\"comparaciones.\")\n",
        "print(\"Arreglo Final Ordenado =\",arreglo1)\n",
        "print(\"\\n\")\n",
        "\n",
        "arreglo2 = [9,-3,5,2,6,8,-6,1,3,11]\n",
        "Comparaciones = 0\n",
        "quickSort(arreglo2, Segundo_Caso)\n",
        "print(\"En el segundo caso de QuickSort se realizaron\",Comparaciones,\"comparaciones.\")\n",
        "print(\"Arreglo Final Ordenado =\",arreglo2)\n",
        "print(\"\\n\")\n",
        "\n",
        "arreglo3 = [9,-3,5,2,6,8,-6,1,3,11]\n",
        "Comparaciones = 0\n",
        "quickSort(arreglo3, Tercer_Caso)\n",
        "print(\"En el tercer caso de QuickSort se realizaron\",Comparaciones,\"comparaciones.\")\n",
        "print(\"Arreglo Final Ordenado =\",arreglo3)\n",
        "print(\"\\n\")\n",
        "    \n",
        "    \n"
      ],
      "metadata": {
        "colab": {
          "base_uri": "https://localhost:8080/"
        },
        "id": "ZMW6cbQvDzo2",
        "outputId": "b0ea0a74-d60e-489e-9e54-4fc7174fe354"
      },
      "execution_count": 77,
      "outputs": [
        {
          "output_type": "stream",
          "name": "stdout",
          "text": [
            "Arreglo Inicial = [9, -3, 5, 2, 6, 8, -6, 1, 3, 11]\n",
            "\n",
            "\n",
            "En el primer caso de QuickSort se realizaron 23 comparaciones.\n",
            "Arreglo Final Ordenado = [-6, -3, 1, 2, 3, 5, 6, 8, 9, 11]\n",
            "\n",
            "\n",
            "En el segundo caso de QuickSort se realizaron 27 comparaciones.\n",
            "Arreglo Final Ordenado = [-6, -3, 1, 2, 3, 5, 6, 8, 9, 11]\n",
            "\n",
            "\n",
            "En el tercer caso de QuickSort se realizaron 22 comparaciones.\n",
            "Arreglo Final Ordenado = [-6, -3, 1, 2, 3, 5, 6, 8, 9, 11]\n",
            "\n",
            "\n"
          ]
        }
      ]
    },
    {
      "cell_type": "markdown",
      "source": [
        "# 2.2. Descripción del algoritmo\n",
        "\n",
        "Quicksort aplica el paradigma **divide y vencerás**.\n",
        "\n",
        "Para ordenar un arreglo $A[p..r]$, se realizan los siguientes procesos:\n",
        "\n",
        "- ***Divide***: El arreglo en 2 sub-arreglos: $A[p..q-1]$ y $A[q+1..r]$ de tal forma que todos los elementos de $A[p..q-1]$ son menores o iguales a $A[q]$, que es, a su vez, menor o igual que cada elementos de $A[q+1..r]$, calcule el índice q como parte de este proceso de \"Partition\".\n",
        "- ***Conquistar***: Ordenar los dos subarreglos $A[p..q-1]$ y $A[q+1..r]$ por llamadas recursivas de *QuickSort*.\n",
        "- ***Combinar***: Debido a que los subarreglos ya estan ordenados, no se necesita trabajo para combinarlos, el arreglo esta ordenado."
      ],
      "metadata": {
        "id": "UwNBrKvWVZ89"
      }
    },
    {
      "cell_type": "code",
      "source": [
        "#Pseudocódigo de QuickSort\n",
        "# QuickSort(A,p,r) \n",
        "# if p < r:\n",
        "#    q = Partition(A,p,r) \n",
        "#    QuickSort(A,p,q-1) \n",
        "#    QuickSort(A,q+1,r) "
      ],
      "metadata": {
        "id": "Rpkr4U4TWP3r"
      },
      "execution_count": 27,
      "outputs": []
    },
    {
      "cell_type": "code",
      "source": [
        "#Pseudocódigo de Partition\n",
        "# Partition(A,p,r) \n",
        "# x = A[r] \n",
        "# i = p-1 \n",
        "# for j = p a r-1:\n",
        "#   if A[j]<= x:\n",
        "#     i=i+1\n",
        "#     intercambio A[i] con A[j]\n",
        "# intercambio A[i+1] con A[r]\n",
        "# return i + 1"
      ],
      "metadata": {
        "id": "xt39BvrVZ2jj"
      },
      "execution_count": 28,
      "outputs": []
    },
    {
      "cell_type": "markdown",
      "source": [
        "La clave del algoritmo es la función *Partition*, esta reorganiza el subarreglo $A[p...r]$ en su lugar.\n",
        "\n",
        "Siempre selecciona un elemento $x = A[r]$ como pivote alrededor del cual dividir el subarreglo $A[p..r]$. A medida que se ejecuta el procedimiento, divide el arreglo en cuatro (posiblemente vacias) regiones. Al comienzo de cada iteracion del ciclo for, *las líneas de for j = p a r-1 a intercambio A[i] con A[j] del Pseudocódigo de Partition*, las regiones satisfarán ciertas propiedades, los valores en $A[p..i]$ son todos menores o igual que $x$, los valores en $A[i+1..j-1]$ son todos mayores que $x$, y $A[r]=x$. El subarreglo $A[j..r-1]$ puede tomar cualquier valor.\n",
        "\n",
        "\n",
        "En cada iteración, para cualquier arreglo de índice k, debemos:\n",
        "\n",
        "* Si $p <= k <= i$, entonces $A[k] <= x$.\n",
        "* Si $i+1 <= k <= j-1$, entonces $A[k] > x$.\n",
        "* Si $k = r$, entonces $A[k]=x$.\n",
        "\n",
        "Las últimas dos líneas del pseudocódigo de Partition terminan intercambiando el elemento pivote con el elemento más a la izquierda mayor que x, moviendo así el pivote a su lugar correcto en el arreglo particionado, luego devolviendo el nuevo índice del pivote. La salida de Partition ahora cumple con las especificaciones dadas para el paso de división. De hecho, satisface una condición, en el pseudocódigo del QuickSort, donde $A[q]$ es estrictamente menor que cada elemento $A[q+1..r]$."
      ],
      "metadata": {
        "id": "L-LAIdg_Xmy7"
      }
    },
    {
      "cell_type": "markdown",
      "source": [
        "# 2.3. Ejemplo\n",
        "\n",
        "Consideremos, por ejemplo, el arreglo:\n",
        "\n",
        "$a=[4,7,3,9,5,12,6]$\n",
        "\n",
        "Se tomará el número 6 como pivote, el último elemento del arreglo.\n",
        "\n",
        "En la primera *Partition* se generarán los siguientes subarreglos: el subarreglo menor al pivote lo llamaremos como $a.menor.1=[4,3,5]$, el subarreglo mayor al pivote lo llamaremos como $a.mayor.1=[7,9,12]$ y el pivote se llamará $a.pivote.1 = [6]$.\n",
        "\n",
        "Como se observa, se generan subarreglos de 3 elementos, se aplica otra vez *Partition* a los subarreglos: $a.menor.1$, tendrá de pivote al último elemento de si mismo que es el 5, generando los siguientes subarreglos: el subarreglo menor al pivote lo llamaremos como $a.menor.2=[4,3]$, el subarreglo mayor esta vacio y el pivote se llamará $a.pivote.menor.2 = [5]$, al otro lado en $a.mayor.1$ se ocupa el último de si mismo como pivote, el 12, generando los siguientes subarreglos: el subarreglo menor al pivote lo llamaremos como $a.mayor.2=[7,9]$, el subarreglo mayor esta vacio y el pivote se llamará $a.pivote.mayor.2 = [12]$.\n",
        "\n",
        "Otra vez entra en juego *Partition*, $a.menor.2$, tendrá de pivote al último elemento de si, el 3, generando los siguientes subarreglos: el subarreglo mayor al pivote lo llamaremos como $a.menor.mayor.3=[4]$, el subarreglo menor esta vacio y el pivote se llamará $a.pivote.menor.menor.3 = [3]$, del otro lado tendremos como subarreglo menor a $a.mayor.menor.3=[7]$, el subarreglo mayor esta vacio y el pivote se llamará $a.pivote.mayor.mayor.3=[9]$.\n",
        "\n",
        "Los subarreglos quedaron con un elemento, entonces se empiezan a \"juntar\" generando finalmente el arreglo ordenado $[3,4,5,6,7,9,12]$\n",
        "\n",
        "**Imagen de apoyo para ejemplo:**\n",
        "\n",
        "![image](https://miro.medium.com/max/1320/1*ra0JwqxUKBCkuXIhTHh8SQ.png)"
      ],
      "metadata": {
        "id": "gzSJgvsxZxjd"
      }
    },
    {
      "cell_type": "markdown",
      "source": [
        "#3. Tiempo de ejecución \n",
        "\n",
        "#3.1. Teorema (Tiempo de ejecución)\n",
        "\n",
        "$División$: Dividir la lista en partes menores y mayores que el pivote toma un tiempo de $O(n)$ porque el algoritmo necesita revisar el arreglo, que tiene elementos $O(n)$. Para cada elemento, el algoritmo realiza un número constante de comparaciones.\n",
        "\n",
        "$Subproblemas$:\n",
        "\n",
        "En el peor caso, todos los elementos son menores o mayores que el pivote. En otras palabras, si el pivote es el elemento más pequeño o más grande del arreglo, se necesita tiempo de $T(n-1)$ para resolver los subproblemas porque habrá $(n-1)$ llamadas recursivas al algoritmo que crea subarreglos de tamaño $0$ y $(n-1)$ y luego en el siguiente paso creará subarreglos de tamaño $0$ y $(n-2)$, y así sucesivamente, entonces el peor caso de recurrencia sería:\n",
        "\n",
        "$$T(n) = T\\left({n-1}\\right) + O(n)$$ \n",
        "\n",
        "Basado en el teorema maestro podemos encontrar la solución a esta recurrencia con:\n",
        "\n",
        "$$T(n) = O(n^2)$$\n",
        "\n",
        "El mejor caso sera cuando $Partition$ produce dos subproblemas, cada uno de tamaño no más de $(n/2)$, ya que uno es de tamaño $(n/2)$ y uno de tamaño $(n/2)-1$, esto significa que en cada paso, el tamaño del problema se está reduciendo a la mitad. En este caso, Quicksort corre mucho más rápido. La recurrencia para el tiempo de ejecución sería:\n",
        "\n",
        "$$T(n) = 2T\\left(\\frac{n}{2}\\right) + O(n)$$ \n",
        "\n",
        "Basado en el teorema maestro podemos encontrar la solución a esta recurrencia con:\n",
        "\n",
        "$$T(n) = O(nlogn)$$\n",
        "\n",
        "El caso promedio, se necesita considerar toda la permutación posible del arreglo y calcular el tiempo que toma cada permutación. También podemos tener una idea del caso promedio considerando el caso cuando la $Partition$ pone elementos $O(n/9)$ en un conjunto y elementos $O(9n/10)$ en otro conjunto. La recurrencia para el tiempo de ejecución sería:\n",
        "\n",
        "$$T(n) = T\\left(\\frac{9n}{10}\\right) + T\\left(\\frac{n}{10}\\right) + O(n)$$ \n",
        "\n",
        "Basado en el arbol de recurrencia podemos encontrar la solución a esta recurrencia arrojando:\n",
        "\n",
        "$$T(n) = O(nlogn)$$\n",
        "\n"
      ],
      "metadata": {
        "id": "2gI7Z6vUCU_n"
      }
    },
    {
      "cell_type": "markdown",
      "source": [
        "#4. Correctitud\n",
        "\n",
        "La correctitud de *Quicksort* se reduce a la correctitud de *Partition*: si *Partition* es correcto, *Quicksort* es también correcto.\n",
        "\n",
        "#4.1. Teorema 1 (Correctitud de función $Partition$)\n",
        "\n",
        "La función tiene como entrada un arreglo en el que la parte izquierda referente al pivote serán lo elementos menores a este, mientras que en la parte derecha serán los elementos mayores.\n",
        "\n",
        "Para realizar la prueba de correctitud utilizaremos la propiedad del bucle invariante.\n",
        "\n",
        "Para establacer la correctitud, usaremos los siguientes invariantes para el inicio de cada iteración:\n",
        "\n",
        "1. si $p ≤ k ≤ i$, entonces $A[k] ≤ x$\n",
        "2. si $i < k < j$, entonces $A[k] > x$\n",
        "3. si k = r, entonces $A[k] = x$\n",
        "\n",
        "![image](https://i.imgur.com/POq8uJY.jpg)\n",
        "\n",
        ">\n",
        "> **Inicialización:** Al comienzo de la primera iteración, $i = p - 1$ y $j = p$. Como no existe $k$ tal que $p ≤ k ≤ i$ o $i < k < j$, los invariantes 1 y 2 son ciertos. El invariante 3 ya que dentro del ciclo se revisa si es mayor/menor o igual, en este caso a x.\n",
        ">\n",
        "> **Mantención:** Consideraremos 2 casos para una iteración dada:\n",
        ">\n",
        "> a. $A[j] > x$\n",
        ">\n",
        "> La iteración no cambia el arreglo y $j$ se incrementa. Al inicio de la nueva iteración tenemos un nuevo $k = j$ para el cual verificar el invariante 2, el cual es cierto porque $A[j] > x$\n",
        ">\n",
        "> ![image](https://i.imgur.com/ML9ZvMI.jpg)\n",
        ">\n",
        "> b. $A[j] ≤ x$\n",
        ">\n",
        "> $A[i + 1]$ se intercambia con $A[j]$ e $i$ se incrementa. No es difícil ver que el invariante se cumple al inicio de la próxima iteración.\n",
        ">\n",
        ">![image](https://i.imgur.com/iUG8vQ9.jpg)\n",
        "\n",
        "#4.2. Teorema 2 (Correctitud de $QuickSort$)\n",
        "\n",
        "Para probar este segundo teorema utilizaremos la inducción matemática, donde para demostrar una declaración $P(n)$, debemos probar lo siguiente:\n",
        "\n",
        "1. Probar $P(n)$ para un caso base, por ejemplo $P(1)$.\n",
        "2. Probar que si $P(m)$ es cierto, siendo que $m < n$, entonces $P(n)$ si lo es.\n",
        "\n",
        "> **Caso base** ${⇒}$ La función al recibir un arreglo de tamaño 1 (es decir que solo contiene un elemento) automaticamente se asume que está ordenado, por lo que nuestro punto 1 es correcto.\n",
        ">\n",
        "> **Caso General** ${⇒}$ Considerando que nuestra función lo máximo que recibirá será un arreglo de tamaño n, recursivamente irá dividiendo el arreglo en subarreglos, en el mejor caso nuestra $m = {\\frac n2}$ hasta llegar a nuestro caso base, por lo que nuestro segundo punto también es correcto."
      ],
      "metadata": {
        "id": "qxzFoFBcBgUO"
      }
    },
    {
      "cell_type": "markdown",
      "source": [
        "#5. Experimento"
      ],
      "metadata": {
        "id": "nuZVlHyhoKN5"
      }
    },
    {
      "cell_type": "markdown",
      "source": [
        "#5.1.1 Código de MergeSort"
      ],
      "metadata": {
        "id": "UaFgOBnmIwPC"
      }
    },
    {
      "cell_type": "code",
      "source": [
        "def mergeSort(nlist):\n",
        "    if len(nlist)>1:\n",
        "        mid = len(nlist)//2\n",
        "        lefthalf = nlist[:mid]\n",
        "        righthalf = nlist[mid:]\n",
        "\n",
        "        mergeSort(lefthalf)\n",
        "        mergeSort(righthalf)\n",
        "        i=j=k=0       \n",
        "        while i < len(lefthalf) and j < len(righthalf):\n",
        "            if lefthalf[i] < righthalf[j]:\n",
        "                nlist[k]=lefthalf[i]\n",
        "                i=i+1\n",
        "            else:\n",
        "                nlist[k]=righthalf[j]\n",
        "                j=j+1\n",
        "            k=k+1\n",
        "\n",
        "        while i < len(lefthalf):\n",
        "            nlist[k]=lefthalf[i]\n",
        "            i=i+1\n",
        "            k=k+1\n",
        "\n",
        "        while j < len(righthalf):\n",
        "            nlist[k]=righthalf[j]\n",
        "            j=j+1\n",
        "            k=k+1\n",
        "\n",
        "nlist = [9,-3,5,2,6,8,-6,1,3,11]\n",
        "print(\"Lista Inicial\",nlist)\n",
        "mergeSort(nlist)\n",
        "print(\"Lista Ordenada\",nlist)"
      ],
      "metadata": {
        "colab": {
          "base_uri": "https://localhost:8080/"
        },
        "id": "Llj6-LuIItVA",
        "outputId": "32d57e09-8a09-433c-8491-2ee76c98ca2d"
      },
      "execution_count": 46,
      "outputs": [
        {
          "output_type": "stream",
          "name": "stdout",
          "text": [
            "Lista Inicial [9, -3, 5, 2, 6, 8, -6, 1, 3, 11]\n",
            "Lista Ordenada [-6, -3, 1, 2, 3, 5, 6, 8, 9, 11]\n"
          ]
        }
      ]
    },
    {
      "cell_type": "markdown",
      "source": [
        "#5.1.2. Código de HeapSort"
      ],
      "metadata": {
        "id": "uKjqPN-jKqeX"
      }
    },
    {
      "cell_type": "code",
      "source": [
        "def heapify(arr, n, i): \n",
        "    largest = i  \n",
        "    l = 2 * i + 1     \n",
        "    r = 2 * i + 2    \n",
        "   \n",
        "    if l < n and arr[i] < arr[l]: \n",
        "        largest = l \n",
        "  \n",
        "    if r < n and arr[largest] < arr[r]: \n",
        "        largest = r \n",
        "  \n",
        "    if largest != i: \n",
        "        arr[i],arr[largest] = arr[largest],arr[i]  \n",
        "  \n",
        "        heapify(arr, n, largest) \n",
        "  \n",
        "def heapSort(arr): \n",
        "    n = len(arr) \n",
        "\n",
        "    for i in range(n, -1, -1): \n",
        "        heapify(arr, n, i) \n",
        "\n",
        "    for i in range(n-1, 0, -1): \n",
        "        arr[i], arr[0] = arr[0], arr[i] \n",
        "        heapify(arr, i, 0) \n",
        "  \n",
        "arr = [9,-3,5,2,6,8,-6,1,3,11]\n",
        "print(\"Lista Inicial\",arr)\n",
        "heapSort(arr) \n",
        "print(\"Lista Ordenada\",arr)"
      ],
      "metadata": {
        "colab": {
          "base_uri": "https://localhost:8080/"
        },
        "id": "0jnkBjSTKp5P",
        "outputId": "662bf0b2-a2cc-4399-bbd3-feda68017c43"
      },
      "execution_count": 47,
      "outputs": [
        {
          "output_type": "stream",
          "name": "stdout",
          "text": [
            "Lista Inicial [9, -3, 5, 2, 6, 8, -6, 1, 3, 11]\n",
            "Lista Ordenada [-6, -3, 1, 2, 3, 5, 6, 8, 9, 11]\n"
          ]
        }
      ]
    },
    {
      "cell_type": "markdown",
      "source": [
        "En el algoritmo MergeSort se realiza un ordenamiento por mezcla, en el HeapSort se ocupa un ordenamiento por montículo y el Quicksort se hace un ordenamiento rápido, estos tres tienen en común que su complejidad en el mejor caso es de $O(nlogn)$"
      ],
      "metadata": {
        "id": "KydU1b_qLIEY"
      }
    },
    {
      "cell_type": "markdown",
      "source": [
        "#5.2. Número de comparaciones\n",
        "\n",
        "A continuación se muestra gráficamente una comparación entre:\n",
        "\n",
        "* Cantidad de comparaciones del peor caso calculadas matemáticamente.\n",
        "* Cantidad de comparaciones del mejor caso calculadas matemáticamente.\n",
        "* Cantidad de comparaciones realizadas experimentalmente para entradas aleatorias.\n",
        "\n",
        "para tamaños de problemas con $n \\in [5,19]$.\n",
        "\n",
        "Los arreglos de entrada son generados aleatoriamente haciendo un sampling de un conjunto de números entre 1 y 100.\n",
        "\n",
        "*No puede ingresar la función QuickSort en esta gráfica.*"
      ],
      "metadata": {
        "id": "-xfA4r0BZWlP"
      }
    },
    {
      "cell_type": "code",
      "source": [
        "import random\n",
        "import datetime\n",
        "from math import log\n",
        "import matplotlib.pyplot as plt\n",
        "from timeit import repeat\n",
        "%matplotlib inline\n",
        "\n",
        "x=[n for n in range(5,20)] \n",
        "y1=[(n*(n+1))/2 for n in range(5,20)] \n",
        "y2=[2*(n/2) for n in range(5,20)] \n",
        "y=[]; \n",
        "\n",
        "for n in range(5,20):\n",
        "  a = random.sample(range(1, 100), n)\n",
        "  quickSort(a,3)\n",
        "\n",
        "plt.plot(x,y1)\n",
        "plt.plot(x,y2)\n",
        "plt.legend([\"Peor Caso Teorico\", \"Mejor Caso Teorico\", \"QuickSort, Caso 3\"])\n",
        "\n",
        "plt.xlabel(\"n\")\n",
        "plt.ylabel(\"Número de operaciones\")\n",
        "plt.show()\n"
      ],
      "metadata": {
        "colab": {
          "base_uri": "https://localhost:8080/",
          "height": 279
        },
        "id": "yat_a0eWotjR",
        "outputId": "81a32c02-d2fd-4b3b-ec38-51c65154dc0e"
      },
      "execution_count": 84,
      "outputs": [
        {
          "output_type": "display_data",
          "data": {
            "text/plain": [
              "<Figure size 432x288 with 1 Axes>"
            ],
            "image/png": "[encoded data removed]"
          },
          "metadata": {
            "needs_background": "light"
          }
        }
      ]
    },
    {
      "cell_type": "markdown",
      "source": [
        "#5.2. Tiempo de ejecución (experimental)\n",
        "\n",
        "En los siguientes gráficos se reportan los tiempos de ejecución de algoritmo como: **MergeSort**, **HeapSort** y **QuickSort** en un versus, también **QuickSort con sus tres casos** y un versus entre **QuickSort y MergeSort** todo esto en función de tamaños del problemas para arreglos generados aleatoriamente de tamaños entre 5 y 500."
      ],
      "metadata": {
        "id": "IrKW9nk2Ppkc"
      }
    },
    {
      "cell_type": "code",
      "source": [
        "x=[]; y=[];z=[];e=[]\n",
        "\n",
        "for n in range(5,500):\n",
        "\n",
        "  a = random.sample(range(1, 1000), n)\n",
        "\n",
        "  l = repeat(setup=\"from __main__ import quickSort\", stmt=f\"quickSort({a},{3})\", repeat=1, number=10)\n",
        "  t = repeat(setup=\"from __main__ import mergeSort\", stmt=f\"mergeSort({a})\", repeat=1, number=10)\n",
        "\n",
        "  x.append(n)\n",
        "  y.append(l)\n",
        "  z.append(t)\n",
        "\n",
        "plt.plot(x,y)\n",
        "plt.plot(x,z)\n",
        "\n",
        "plt.title('quickSort vs mergeSort')\n",
        "plt.legend([\"quickSort - Caso 3\",\"mergeSort\"])\n",
        "plt.xlabel('n')\n",
        "plt.ylabel('Tiempo en ms')\n",
        "plt.show()"
      ],
      "metadata": {
        "colab": {
          "base_uri": "https://localhost:8080/",
          "height": 295
        },
        "id": "GVQjyzwubBWN",
        "outputId": "9e245223-43dd-46db-846a-dd63e88f7baa"
      },
      "execution_count": 89,
      "outputs": [
        {
          "output_type": "display_data",
          "data": {
            "text/plain": [
              "<Figure size 432x288 with 1 Axes>"
            ],
            "image/png": "[encoded data removed]"
          },
          "metadata": {
            "needs_background": "light"
          }
        }
      ]
    },
    {
      "cell_type": "markdown",
      "source": [
        "Se observa que QuickSort en su variante de caso 3 es más rapida que MergeSort para los problemas de ordenamiento ascendente de un arreglo. Tambien se puede observar, no de la mejor manera, que ambas tiene un comportamiento logarítmico, como se ha visto en las clases. \n",
        "\n",
        "Existen peaks de tiempo, estos se deben probablemente al comportamiento impredecible de los procesadores y quizás a otros procesos que también lo están ocupando."
      ],
      "metadata": {
        "id": "Yh1dBOJWhV0O"
      }
    },
    {
      "cell_type": "code",
      "source": [
        "x=[]; y=[];z=[];e=[]\n",
        "\n",
        "for n in range(5,500):\n",
        "\n",
        "  a = random.sample(range(1, 1000), n)\n",
        "\n",
        "  l = repeat(setup=\"from __main__ import quickSort\", stmt=f\"quickSort({a},{1})\", repeat=1, number=10)\n",
        "  t = repeat(setup=\"from __main__ import quickSort\", stmt=f\"quickSort({a},{2})\", repeat=1, number=10)\n",
        "  v = repeat(setup=\"from __main__ import quickSort\", stmt=f\"quickSort({a},{3})\", repeat=1, number=10)\n",
        "\n",
        "  x.append(n)\n",
        "  y.append(l)\n",
        "  z.append(t)\n",
        "  e.append(v)\n",
        "\n",
        "\n",
        "plt.plot(x,y)\n",
        "plt.plot(x,z)\n",
        "plt.plot(x,e)\n",
        "plt.legend([\"mergeSort - Caso 1\",\"mergeSort - Caso 2\",\"mergeSort - Caso 3\"])\n",
        "\n",
        "plt.xlabel('n')\n",
        "plt.ylabel('Tiempo en ms')\n",
        "plt.show()"
      ],
      "metadata": {
        "colab": {
          "base_uri": "https://localhost:8080/",
          "height": 279
        },
        "id": "LbX4ugTFchot",
        "outputId": "7dcc5f1d-0488-445c-f37c-007e374418af"
      },
      "execution_count": 91,
      "outputs": [
        {
          "output_type": "display_data",
          "data": {
            "text/plain": [
              "<Figure size 432x288 with 1 Axes>"
            ],
            "image/png": "[encoded data removed]"
          },
          "metadata": {
            "needs_background": "light"
          }
        }
      ]
    },
    {
      "cell_type": "markdown",
      "source": [
        "Se puede observar que la diferencia entre utilizar el primer, último o la \"mediana\" como pivote es muy similar en función del tiempo de ejecución, la diferencia es demasiado mínima, arrojando en este caso como el \"mejor\" pivote el primer elemento del arreglo pero esto no es sagrado a la hora de definir un mejor pivote en general, todo depende como sea vea el arreglo para determinar que hacer."
      ],
      "metadata": {
        "id": "dD-RHfBLkJ1a"
      }
    },
    {
      "cell_type": "code",
      "source": [
        "x=[]; y=[];z=[];e=[]\n",
        "\n",
        "for n in range(5,500):\n",
        "\n",
        "  a = random.sample(range(1, 1000), n)\n",
        "\n",
        "  l = repeat(setup=\"from __main__ import mergeSort\", stmt=f\"mergeSort({a})\", repeat=1, number=10)\n",
        "  t = repeat(setup=\"from __main__ import heapSort\", stmt=f\"heapSort({a})\", repeat=1, number=10)\n",
        "  v = repeat(setup=\"from __main__ import quickSort\", stmt=f\"quickSort({a},{3})\", repeat=1, number=10)\n",
        "\n",
        "  x.append(n)\n",
        "  y.append(l)\n",
        "  z.append(t)\n",
        "  e.append(v)\n",
        "\n",
        "\n",
        "plt.plot(x,y)\n",
        "plt.plot(x,z)\n",
        "plt.plot(x,e)\n",
        "plt.legend([\"mergeSort\",\"heapSort\",\"quickSort\"])\n",
        "\n",
        "plt.xlabel('n')\n",
        "plt.ylabel('Tiempo en ms')\n",
        "plt.show()"
      ],
      "metadata": {
        "colab": {
          "base_uri": "https://localhost:8080/",
          "height": 279
        },
        "id": "Eviz_0PFN-q3",
        "outputId": "5da1262f-7ebb-4079-cdd2-34f0747382a8"
      },
      "execution_count": 93,
      "outputs": [
        {
          "output_type": "display_data",
          "data": {
            "text/plain": [
              "<Figure size 432x288 with 1 Axes>"
            ],
            "image/png": "[encoded data removed]"
          },
          "metadata": {
            "needs_background": "light"
          }
        }
      ]
    },
    {
      "cell_type": "markdown",
      "source": [
        "Se puede observar que el QuickSort es más rapido que MergeSort y HeapSort, por poco, todos ocupan una forma de ordenamiento distinta para abordar la problemática llegando al mismo resultado, estos algoritmos comparten una misma complejidad temporal en el mejor caso que es de $O(nlogn)$, una diferencia con respecto a la complejidad temporal es que QuickSort en su peor caso tiene una complejidad temporal de $O(n^2)$, en cambio, MergeSort y HeapSort mantienen la misma complejidad. "
      ],
      "metadata": {
        "id": "sNESgbEWm6f-"
      }
    }
  ]
}